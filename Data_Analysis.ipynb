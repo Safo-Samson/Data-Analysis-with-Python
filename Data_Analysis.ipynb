{
  "nbformat": 4,
  "nbformat_minor": 0,
  "metadata": {
    "colab": {
      "name": "Data_Analysis.ipynb",
      "provenance": [],
      "collapsed_sections": [],
      "toc_visible": true,
      "authorship_tag": "ABX9TyMfuTfnHDTS37csbCDPjpGo",
      "include_colab_link": true
    },
    "kernelspec": {
      "name": "python3",
      "display_name": "Python 3"
    },
    "language_info": {
      "name": "python"
    }
  },
  "cells": [
    {
      "cell_type": "markdown",
      "metadata": {
        "id": "view-in-github",
        "colab_type": "text"
      },
      "source": [
        "<a href=\"https://colab.research.google.com/github/Safo-Samson/Data-Analysis-with-Python/blob/main/Data_Analysis.ipynb\" target=\"_parent\"><img src=\"https://colab.research.google.com/assets/colab-badge.svg\" alt=\"Open In Colab\"/></a>"
      ]
    },
    {
      "cell_type": "markdown",
      "metadata": {
        "id": "RFz9iAbKrbVC"
      },
      "source": [
        "# <font color=\"brown\">Details Of Researcher\n",
        "\n",
        "\n"
      ]
    },
    {
      "cell_type": "markdown",
      "metadata": {
        "id": "KpxMz2Q6IhxJ"
      },
      "source": [
        "**NAME**: SAFO SAMSON\n",
        "\n",
        "**DATE**: JANUARY 6,2022.\n",
        "\n",
        "**TITLE**: REPORT OF PRICING ANALYSIS OF TOWNS WITH DEFINED PARAMETERS.\n",
        "\n",
        "\n",
        "\n",
        "\n"
      ]
    },
    {
      "cell_type": "markdown",
      "source": [
        "<hr class=\"rounded\">\n",
        "<hr class=\"rounded\">\n",
        "<hr class=\"rounded\">\n",
        " "
      ],
      "metadata": {
        "id": "jfOd0HYgYJv_"
      }
    },
    {
      "cell_type": "markdown",
      "source": [
        "# <font color=\"brown\">Table of Contents"
      ],
      "metadata": {
        "id": "D0_eMpsBOPLF"
      }
    },
    {
      "cell_type": "markdown",
      "source": [
        "\n",
        "\n",
        "  *  [Introduction](#Intro)\n",
        "\n",
        "    \n",
        "  *\t[Methodology](#metho)\n",
        "       \n",
        "  * [Definition of key terms](#App)\n",
        " \n",
        "  \n",
        "  * [Libraries](#Lib)\n",
        "   \n",
        "  *\t[Importing dataset into jupyter notebook](#Import)\n",
        "   \n",
        "\n",
        "  *\t[Information about Entire DataFrame](#GenInfo)\n",
        "  \n",
        "  * [Analysing Property Prices In Boston With Set Parameters](#Bos)\n",
        "  \n",
        "\n",
        "  * [Analysing Property Prices In Burlington With Set Parameters](#Bur)\n",
        " \n",
        "\n",
        " * [Analysing Property Prices In Cambridge With Set Parameters](#Cam)\n",
        "  \n",
        "\n",
        "* [Analysing Property Prices In Everett With Set Parameters](#Eve)\n",
        "  \n",
        "\n",
        "*\t[General Conclusion and Recommendation](#Con)\n",
        "   \n",
        "*\t[References](#Ref)\n",
        "\n",
        "* [Bibliography](#Bib)\n",
        "\n",
        "* [Appendice](#App)"
      ],
      "metadata": {
        "id": "aBiSkstYOX70"
      }
    },
    {
      "cell_type": "markdown",
      "source": [
        "<hr class=\"rounded\">\n",
        "<hr class=\"rounded\">\n",
        "<hr class=\"rounded\">\n",
        "\n",
        "\n",
        "\n",
        "\n"
      ],
      "metadata": {
        "id": "qEYCsdMeW-UD"
      }
    },
    {
      "cell_type": "markdown",
      "source": [
        "<a id='#Intro'></a>"
      ],
      "metadata": {
        "id": "gPQgbGwr5Xid"
      }
    },
    {
      "cell_type": "markdown",
      "metadata": {
        "id": "piGn_nxnfhZ8"
      },
      "source": [
        "\n",
        "\n",
        "#<font color=\"purple\"> 1.0 Introduction\n",
        "\n",
        "\n",
        "\n",
        "\n"
      ]
    },
    {
      "cell_type": "markdown",
      "metadata": {
        "id": "7X_3Hmtbrqr-"
      },
      "source": [
        "\n",
        "\n",
        "This report aims to share insight on how properties are priced in each of the  towns of the local area in the dataset, by providing visual representations of the data, analysing the data to make conclusions and justify them, and finally providing recommendations based on the results obtained. \n",
        "The report will commence by explaining the method by which the data was generated, definition of keywords will then be giving, and the procedure for which this dataset was uploaded into jupyter notebook will also be explained. Afterwards, a detailed analysis of the property prices in each of the towns in the local area will be made, then a general conclusion and recommendation will be given based on the individual analysis made. Finally, all sources from which ideas were generated to complete the report will be referenced. \n",
        "\n"
      ]
    },
    {
      "cell_type": "markdown",
      "source": [
        "<hr class=\"rounded\">\n",
        "<hr class=\"rounded\">\n",
        "<hr class=\"rounded\">"
      ],
      "metadata": {
        "id": "ija3YsbEZLUs"
      }
    },
    {
      "cell_type": "markdown",
      "source": [
        "<a id='metho'></a>"
      ],
      "metadata": {
        "id": "t_qaMqkx5dlk"
      }
    },
    {
      "cell_type": "markdown",
      "source": [
        "\n",
        "# <font color=\"purple\">2.0 Methodology\n"
      ],
      "metadata": {
        "id": "OmBOkmApfFtk"
      }
    },
    {
      "cell_type": "markdown",
      "source": [
        "2.1 **Research Approach**\n",
        "\n",
        "This report adopts both deductive and inductive research approach, Gabriel (2013) defines inductive research as an approach which involves generation of new theory and judgement based on personal data collected while deductive research adopts a pre-defined theory and hypothesis, and then test it using data/evidence. In this report, the data is already given however, findings and discussions are not pre-established but are developed after the analysis of the data by the researcher.\n",
        "\n",
        "2.2 **Research Strategy**. \n",
        "\n",
        "This report uses mainly quantitative strategy other than qualitative strategy. According to Defranzo (2020),  qualitative research uses theoretical data such as opinions to underly it reasoning while quantitative research uses data which can be measured and structured into graphs, charts, or statistics to illustrate the reasoning. Examples are the graphs and charts seen in section 7.0 (analysis of Boston Savian Hill) of this report.\n",
        "\n",
        "2.3 **Data Collection Method**.\n",
        "\n",
        "The report adopts secondary collection of data other than primary collection. Secondary collection of data is a data which uses the ideas and postulations already researched by individuals and can be accessed by new researchers whereas primary collection of data is data collected directly from sources to form new ideas and postulates from scratch (Gabriel, 2013). The csv data in this report is secondary (already collected), however the ideas generated in this report is primary as it is based on the findings of the report.\n",
        "\n",
        "\n",
        "2.4 **Limitations of the Methodology.**\n",
        "*\tThe use of secondary data limits the researcher to only access pre-recorded information rather than starting from scratch. The data may be outdated and not apply to the period at which this report is written.\n",
        "\n",
        "*\tAdditionally, use of the deductive research approach includes theories and ideas which are developed by other people. This idea may not be necessarily valid since it is the opinion of others and can be proved false had the report been purey based on the inductive approach."
      ],
      "metadata": {
        "id": "M9qPz4_gfI97"
      }
    },
    {
      "cell_type": "markdown",
      "source": [
        "<hr class=\"rounded\">\n",
        "<hr class=\"rounded\">\n",
        "<hr class=\"rounded\">"
      ],
      "metadata": {
        "id": "vHNMflf0ZOOD"
      }
    },
    {
      "cell_type": "markdown",
      "source": [
        "<a id='key'></a>"
      ],
      "metadata": {
        "id": "9-EWwRB-fPVQ"
      }
    },
    {
      "cell_type": "markdown",
      "source": [
        "\n",
        "#<font color=\"purple\"> 3.0 Definition of Key Terms\n"
      ],
      "metadata": {
        "id": "3Wnfdr9ofQrh"
      }
    },
    {
      "cell_type": "markdown",
      "source": [
        "\n",
        "All keywords in this report are in the appendice, it is recommended the reader gets familiar with them before reading this report."
      ],
      "metadata": {
        "id": "iqUeo0zbfWSo"
      }
    },
    {
      "cell_type": "markdown",
      "source": [
        "<hr class=\"rounded\">\n",
        "<hr class=\"rounded\">\n",
        "<hr class=\"rounded\">"
      ],
      "metadata": {
        "id": "cUQ78G7-ZQVz"
      }
    },
    {
      "cell_type": "markdown",
      "source": [
        " <a id='Lib'></a>"
      ],
      "metadata": {
        "id": "L_430G9u5oek"
      }
    },
    {
      "cell_type": "code",
      "source": [
        ""
      ],
      "metadata": {
        "id": "bIgSwUpptVsR"
      },
      "execution_count": null,
      "outputs": []
    },
    {
      "cell_type": "markdown",
      "metadata": {
        "id": "5VB2OSfRp6nN"
      },
      "source": [
        "# <font color=\"purple\">4.0 Libraries\n",
        "  "
      ]
    },
    {
      "cell_type": "markdown",
      "metadata": {
        "id": "a9vi4uJZ21sm"
      },
      "source": [
        "These are the libraries I will be using in my report."
      ]
    },
    {
      "cell_type": "code",
      "metadata": {
        "id": "TR_nyQ_Rz1Dm"
      },
      "source": [
        "import pandas as pd\n",
        "import numpy as np\n",
        "from matplotlib import pyplot as plt\n",
        "import statistics\n",
        "import seaborn as sns\n",
        "from scipy import stats\n",
        "%matplotlib inline\n"
      ],
      "execution_count": null,
      "outputs": []
    },
    {
      "cell_type": "markdown",
      "source": [
        "<hr class=\"rounded\">\n",
        "<hr class=\"rounded\">\n",
        "<hr class=\"rounded\">"
      ],
      "metadata": {
        "id": "EQzGW3-MZSXW"
      }
    },
    {
      "cell_type": "markdown",
      "metadata": {
        "id": "qvNoQSlD13eG"
      },
      "source": [
        "# <font color=\"darkgreen\">5.0 Importing my dataset into the jupyter notebook. \n",
        "\n",
        "   \n"
      ]
    },
    {
      "cell_type": "code",
      "metadata": {
        "id": "05XdbzMz1OCY",
        "colab": {
          "base_uri": "https://localhost:8080/"
        },
        "outputId": "34707710-f05f-4489-b3cf-d10f366160ec"
      },
      "source": [
        "#To link google drive to google collab and access its contents (the csv file), the code below is used.\n",
        "from google.colab import drive\n",
        "drive.mount('/content/gdrive')\n",
        "\n",
        "my_drive=\"/content/gdrive/MyDrive/3926266.csv\" "
      ],
      "execution_count": null,
      "outputs": [
        {
          "output_type": "stream",
          "name": "stdout",
          "text": [
            "Mounted at /content/gdrive\n"
          ]
        }
      ]
    },
    {
      "cell_type": "markdown",
      "metadata": {
        "id": "H14Y4TPLJ2OP"
      },
      "source": [
        "The code below illustrates how the dataset is loaded into the notebook. The [head()] syntax is to determine if the dataset is correctly generated and enables the researcher have an idea of what the data is about immediately.\n"
      ]
    },
    {
      "cell_type": "code",
      "metadata": {
        "id": "xxKR5OYCDF1j",
        "colab": {
          "base_uri": "https://localhost:8080/",
          "height": 206
        },
        "outputId": "594e7602-cb4c-4ef7-8a8c-97926c174ffc"
      },
      "source": [
        "#the csv downloaded is now named as my_data as it is assigned to that variable\n",
        "# Delimiter=',' is a syntax which is used to separate data values (GeeksForGeeks, 2018). By default, this is any whitespace.\n",
        "\n",
        "my_data=pd.read_csv(\"/content/gdrive/MyDrive/3926266.csv\", delimiter=',')\n",
        "\n",
        "# The .head() function is to give an idea of what the data is about.\n",
        "my_data.head()"
      ],
      "execution_count": null,
      "outputs": [
        {
          "output_type": "execute_result",
          "data": {
            "text/plain": [
              "        TOWN/VILLAGE  number of rooms  age of property  \\\n",
              "0  Boston Savin Hill                6               88   \n",
              "1  Boston Savin Hill                6               95   \n",
              "2  Boston Savin Hill                7               95   \n",
              "3  Boston Savin Hill                6               93   \n",
              "4  Boston Savin Hill                6              100   \n",
              "\n",
              "   distance to nearest town centre  property tax per year  \\\n",
              "0                             2.32                 952.38   \n",
              "1                             2.22                 779.22   \n",
              "2                             2.12                 892.44   \n",
              "3                             2.00                 639.36   \n",
              "4                             1.91                 579.42   \n",
              "\n",
              "   number of pupils per teacher  property price  \n",
              "0                            20           14300  \n",
              "1                            20           11700  \n",
              "2                            20           13400  \n",
              "3                            20            9600  \n",
              "4                            20            8700  "
            ],
            "text/html": [
              "\n",
              "  <div id=\"df-c2e22585-583f-4f50-b7c0-53c3ba1205bc\">\n",
              "    <div class=\"colab-df-container\">\n",
              "      <div>\n",
              "<style scoped>\n",
              "    .dataframe tbody tr th:only-of-type {\n",
              "        vertical-align: middle;\n",
              "    }\n",
              "\n",
              "    .dataframe tbody tr th {\n",
              "        vertical-align: top;\n",
              "    }\n",
              "\n",
              "    .dataframe thead th {\n",
              "        text-align: right;\n",
              "    }\n",
              "</style>\n",
              "<table border=\"1\" class=\"dataframe\">\n",
              "  <thead>\n",
              "    <tr style=\"text-align: right;\">\n",
              "      <th></th>\n",
              "      <th>TOWN/VILLAGE</th>\n",
              "      <th>number of rooms</th>\n",
              "      <th>age of property</th>\n",
              "      <th>distance to nearest town centre</th>\n",
              "      <th>property tax per year</th>\n",
              "      <th>number of pupils per teacher</th>\n",
              "      <th>property price</th>\n",
              "    </tr>\n",
              "  </thead>\n",
              "  <tbody>\n",
              "    <tr>\n",
              "      <th>0</th>\n",
              "      <td>Boston Savin Hill</td>\n",
              "      <td>6</td>\n",
              "      <td>88</td>\n",
              "      <td>2.32</td>\n",
              "      <td>952.38</td>\n",
              "      <td>20</td>\n",
              "      <td>14300</td>\n",
              "    </tr>\n",
              "    <tr>\n",
              "      <th>1</th>\n",
              "      <td>Boston Savin Hill</td>\n",
              "      <td>6</td>\n",
              "      <td>95</td>\n",
              "      <td>2.22</td>\n",
              "      <td>779.22</td>\n",
              "      <td>20</td>\n",
              "      <td>11700</td>\n",
              "    </tr>\n",
              "    <tr>\n",
              "      <th>2</th>\n",
              "      <td>Boston Savin Hill</td>\n",
              "      <td>7</td>\n",
              "      <td>95</td>\n",
              "      <td>2.12</td>\n",
              "      <td>892.44</td>\n",
              "      <td>20</td>\n",
              "      <td>13400</td>\n",
              "    </tr>\n",
              "    <tr>\n",
              "      <th>3</th>\n",
              "      <td>Boston Savin Hill</td>\n",
              "      <td>6</td>\n",
              "      <td>93</td>\n",
              "      <td>2.00</td>\n",
              "      <td>639.36</td>\n",
              "      <td>20</td>\n",
              "      <td>9600</td>\n",
              "    </tr>\n",
              "    <tr>\n",
              "      <th>4</th>\n",
              "      <td>Boston Savin Hill</td>\n",
              "      <td>6</td>\n",
              "      <td>100</td>\n",
              "      <td>1.91</td>\n",
              "      <td>579.42</td>\n",
              "      <td>20</td>\n",
              "      <td>8700</td>\n",
              "    </tr>\n",
              "  </tbody>\n",
              "</table>\n",
              "</div>\n",
              "      <button class=\"colab-df-convert\" onclick=\"convertToInteractive('df-c2e22585-583f-4f50-b7c0-53c3ba1205bc')\"\n",
              "              title=\"Convert this dataframe to an interactive table.\"\n",
              "              style=\"display:none;\">\n",
              "        \n",
              "  <svg xmlns=\"http://www.w3.org/2000/svg\" height=\"24px\"viewBox=\"0 0 24 24\"\n",
              "       width=\"24px\">\n",
              "    <path d=\"M0 0h24v24H0V0z\" fill=\"none\"/>\n",
              "    <path d=\"M18.56 5.44l.94 2.06.94-2.06 2.06-.94-2.06-.94-.94-2.06-.94 2.06-2.06.94zm-11 1L8.5 8.5l.94-2.06 2.06-.94-2.06-.94L8.5 2.5l-.94 2.06-2.06.94zm10 10l.94 2.06.94-2.06 2.06-.94-2.06-.94-.94-2.06-.94 2.06-2.06.94z\"/><path d=\"M17.41 7.96l-1.37-1.37c-.4-.4-.92-.59-1.43-.59-.52 0-1.04.2-1.43.59L10.3 9.45l-7.72 7.72c-.78.78-.78 2.05 0 2.83L4 21.41c.39.39.9.59 1.41.59.51 0 1.02-.2 1.41-.59l7.78-7.78 2.81-2.81c.8-.78.8-2.07 0-2.86zM5.41 20L4 18.59l7.72-7.72 1.47 1.35L5.41 20z\"/>\n",
              "  </svg>\n",
              "      </button>\n",
              "      \n",
              "  <style>\n",
              "    .colab-df-container {\n",
              "      display:flex;\n",
              "      flex-wrap:wrap;\n",
              "      gap: 12px;\n",
              "    }\n",
              "\n",
              "    .colab-df-convert {\n",
              "      background-color: #E8F0FE;\n",
              "      border: none;\n",
              "      border-radius: 50%;\n",
              "      cursor: pointer;\n",
              "      display: none;\n",
              "      fill: #1967D2;\n",
              "      height: 32px;\n",
              "      padding: 0 0 0 0;\n",
              "      width: 32px;\n",
              "    }\n",
              "\n",
              "    .colab-df-convert:hover {\n",
              "      background-color: #E2EBFA;\n",
              "      box-shadow: 0px 1px 2px rgba(60, 64, 67, 0.3), 0px 1px 3px 1px rgba(60, 64, 67, 0.15);\n",
              "      fill: #174EA6;\n",
              "    }\n",
              "\n",
              "    [theme=dark] .colab-df-convert {\n",
              "      background-color: #3B4455;\n",
              "      fill: #D2E3FC;\n",
              "    }\n",
              "\n",
              "    [theme=dark] .colab-df-convert:hover {\n",
              "      background-color: #434B5C;\n",
              "      box-shadow: 0px 1px 3px 1px rgba(0, 0, 0, 0.15);\n",
              "      filter: drop-shadow(0px 1px 2px rgba(0, 0, 0, 0.3));\n",
              "      fill: #FFFFFF;\n",
              "    }\n",
              "  </style>\n",
              "\n",
              "      <script>\n",
              "        const buttonEl =\n",
              "          document.querySelector('#df-c2e22585-583f-4f50-b7c0-53c3ba1205bc button.colab-df-convert');\n",
              "        buttonEl.style.display =\n",
              "          google.colab.kernel.accessAllowed ? 'block' : 'none';\n",
              "\n",
              "        async function convertToInteractive(key) {\n",
              "          const element = document.querySelector('#df-c2e22585-583f-4f50-b7c0-53c3ba1205bc');\n",
              "          const dataTable =\n",
              "            await google.colab.kernel.invokeFunction('convertToInteractive',\n",
              "                                                     [key], {});\n",
              "          if (!dataTable) return;\n",
              "\n",
              "          const docLinkHtml = 'Like what you see? Visit the ' +\n",
              "            '<a target=\"_blank\" href=https://colab.research.google.com/notebooks/data_table.ipynb>data table notebook</a>'\n",
              "            + ' to learn more about interactive tables.';\n",
              "          element.innerHTML = '';\n",
              "          dataTable['output_type'] = 'display_data';\n",
              "          await google.colab.output.renderOutput(dataTable, element);\n",
              "          const docLink = document.createElement('div');\n",
              "          docLink.innerHTML = docLinkHtml;\n",
              "          element.appendChild(docLink);\n",
              "        }\n",
              "      </script>\n",
              "    </div>\n",
              "  </div>\n",
              "  "
            ]
          },
          "metadata": {},
          "execution_count": 4
        }
      ]
    },
    {
      "cell_type": "markdown",
      "metadata": {
        "id": "b4dSlv8zKdve"
      },
      "source": [
        "Now that the data is loaded into the notebook,  the DataFrame syntax below is used to view the entire dataset briefly so it makes it simple to analyse it."
      ]
    },
    {
      "cell_type": "code",
      "metadata": {
        "id": "dD1pXZ-zDrY_",
        "colab": {
          "base_uri": "https://localhost:8080/",
          "height": 708
        },
        "outputId": "497a3431-83a1-442d-a228-df53cae27d5c"
      },
      "source": [
        "\n",
        "dataframe=pd.DataFrame(my_data)\n",
        "dataframe #calls the function to display the contents in (my_data)"
      ],
      "execution_count": null,
      "outputs": [
        {
          "output_type": "execute_result",
          "data": {
            "text/plain": [
              "         TOWN/VILLAGE  number of rooms  age of property  \\\n",
              "0   Boston Savin Hill                6               88   \n",
              "1   Boston Savin Hill                6               95   \n",
              "2   Boston Savin Hill                7               95   \n",
              "3   Boston Savin Hill                6               93   \n",
              "4   Boston Savin Hill                6              100   \n",
              "5   Boston Savin Hill                6               88   \n",
              "6   Boston Savin Hill                6               94   \n",
              "7          Burlington                6                7   \n",
              "8          Burlington                6               18   \n",
              "9          Burlington                6                8   \n",
              "10         Burlington                6                6   \n",
              "11          Cambridge                5              100   \n",
              "12          Cambridge                5              100   \n",
              "13          Cambridge                5               98   \n",
              "14            Everett                6               70   \n",
              "15          Everett\\t                6               84   \n",
              "16            Everett                6               93   \n",
              "17            Everett                6               97   \n",
              "18            Everett                6               96   \n",
              "19            Everett                6               88   \n",
              "20            Everett                6               96   \n",
              "\n",
              "    distance to nearest town centre  property tax per year  \\\n",
              "0                              2.32                 952.38   \n",
              "1                              2.22                 779.22   \n",
              "2                              2.12                 892.44   \n",
              "3                              2.00                 639.36   \n",
              "4                              1.91                 579.42   \n",
              "5                              1.82                 559.44   \n",
              "6                              1.82                 852.48   \n",
              "7                              5.29                 738.10   \n",
              "8                              5.29                 661.85   \n",
              "9                              5.29                 695.40   \n",
              "10                             5.29                 713.70   \n",
              "11                             1.32                 540.02   \n",
              "12                             1.41                 628.68   \n",
              "13                             1.35                 475.54   \n",
              "14                             2.26                 413.60   \n",
              "15                             2.20                 381.64   \n",
              "16                             2.09                 385.40   \n",
              "17                             1.94                 325.24   \n",
              "18                             2.01                 353.44   \n",
              "19                             1.99                 402.32   \n",
              "20                             1.76                 295.16   \n",
              "\n",
              "    number of pupils per teacher  property price  \n",
              "0                             20           14300  \n",
              "1                             20           11700  \n",
              "2                             20           13400  \n",
              "3                             20            9600  \n",
              "4                             20            8700  \n",
              "5                             20            8400  \n",
              "6                             20           12800  \n",
              "7                             19           24200  \n",
              "8                             19           21700  \n",
              "9                             19           22800  \n",
              "10                            19           23400  \n",
              "11                            15           13400  \n",
              "12                            15           15600  \n",
              "13                            15           11800  \n",
              "14                            19           22000  \n",
              "15                            19           20300  \n",
              "16                            19           20500  \n",
              "17                            19           17300  \n",
              "18                            19           18800  \n",
              "19                            19           21400  \n",
              "20                            19           15700  "
            ],
            "text/html": [
              "\n",
              "  <div id=\"df-cbd26be3-8213-4efc-9087-dbe08807f028\">\n",
              "    <div class=\"colab-df-container\">\n",
              "      <div>\n",
              "<style scoped>\n",
              "    .dataframe tbody tr th:only-of-type {\n",
              "        vertical-align: middle;\n",
              "    }\n",
              "\n",
              "    .dataframe tbody tr th {\n",
              "        vertical-align: top;\n",
              "    }\n",
              "\n",
              "    .dataframe thead th {\n",
              "        text-align: right;\n",
              "    }\n",
              "</style>\n",
              "<table border=\"1\" class=\"dataframe\">\n",
              "  <thead>\n",
              "    <tr style=\"text-align: right;\">\n",
              "      <th></th>\n",
              "      <th>TOWN/VILLAGE</th>\n",
              "      <th>number of rooms</th>\n",
              "      <th>age of property</th>\n",
              "      <th>distance to nearest town centre</th>\n",
              "      <th>property tax per year</th>\n",
              "      <th>number of pupils per teacher</th>\n",
              "      <th>property price</th>\n",
              "    </tr>\n",
              "  </thead>\n",
              "  <tbody>\n",
              "    <tr>\n",
              "      <th>0</th>\n",
              "      <td>Boston Savin Hill</td>\n",
              "      <td>6</td>\n",
              "      <td>88</td>\n",
              "      <td>2.32</td>\n",
              "      <td>952.38</td>\n",
              "      <td>20</td>\n",
              "      <td>14300</td>\n",
              "    </tr>\n",
              "    <tr>\n",
              "      <th>1</th>\n",
              "      <td>Boston Savin Hill</td>\n",
              "      <td>6</td>\n",
              "      <td>95</td>\n",
              "      <td>2.22</td>\n",
              "      <td>779.22</td>\n",
              "      <td>20</td>\n",
              "      <td>11700</td>\n",
              "    </tr>\n",
              "    <tr>\n",
              "      <th>2</th>\n",
              "      <td>Boston Savin Hill</td>\n",
              "      <td>7</td>\n",
              "      <td>95</td>\n",
              "      <td>2.12</td>\n",
              "      <td>892.44</td>\n",
              "      <td>20</td>\n",
              "      <td>13400</td>\n",
              "    </tr>\n",
              "    <tr>\n",
              "      <th>3</th>\n",
              "      <td>Boston Savin Hill</td>\n",
              "      <td>6</td>\n",
              "      <td>93</td>\n",
              "      <td>2.00</td>\n",
              "      <td>639.36</td>\n",
              "      <td>20</td>\n",
              "      <td>9600</td>\n",
              "    </tr>\n",
              "    <tr>\n",
              "      <th>4</th>\n",
              "      <td>Boston Savin Hill</td>\n",
              "      <td>6</td>\n",
              "      <td>100</td>\n",
              "      <td>1.91</td>\n",
              "      <td>579.42</td>\n",
              "      <td>20</td>\n",
              "      <td>8700</td>\n",
              "    </tr>\n",
              "    <tr>\n",
              "      <th>5</th>\n",
              "      <td>Boston Savin Hill</td>\n",
              "      <td>6</td>\n",
              "      <td>88</td>\n",
              "      <td>1.82</td>\n",
              "      <td>559.44</td>\n",
              "      <td>20</td>\n",
              "      <td>8400</td>\n",
              "    </tr>\n",
              "    <tr>\n",
              "      <th>6</th>\n",
              "      <td>Boston Savin Hill</td>\n",
              "      <td>6</td>\n",
              "      <td>94</td>\n",
              "      <td>1.82</td>\n",
              "      <td>852.48</td>\n",
              "      <td>20</td>\n",
              "      <td>12800</td>\n",
              "    </tr>\n",
              "    <tr>\n",
              "      <th>7</th>\n",
              "      <td>Burlington</td>\n",
              "      <td>6</td>\n",
              "      <td>7</td>\n",
              "      <td>5.29</td>\n",
              "      <td>738.10</td>\n",
              "      <td>19</td>\n",
              "      <td>24200</td>\n",
              "    </tr>\n",
              "    <tr>\n",
              "      <th>8</th>\n",
              "      <td>Burlington</td>\n",
              "      <td>6</td>\n",
              "      <td>18</td>\n",
              "      <td>5.29</td>\n",
              "      <td>661.85</td>\n",
              "      <td>19</td>\n",
              "      <td>21700</td>\n",
              "    </tr>\n",
              "    <tr>\n",
              "      <th>9</th>\n",
              "      <td>Burlington</td>\n",
              "      <td>6</td>\n",
              "      <td>8</td>\n",
              "      <td>5.29</td>\n",
              "      <td>695.40</td>\n",
              "      <td>19</td>\n",
              "      <td>22800</td>\n",
              "    </tr>\n",
              "    <tr>\n",
              "      <th>10</th>\n",
              "      <td>Burlington</td>\n",
              "      <td>6</td>\n",
              "      <td>6</td>\n",
              "      <td>5.29</td>\n",
              "      <td>713.70</td>\n",
              "      <td>19</td>\n",
              "      <td>23400</td>\n",
              "    </tr>\n",
              "    <tr>\n",
              "      <th>11</th>\n",
              "      <td>Cambridge</td>\n",
              "      <td>5</td>\n",
              "      <td>100</td>\n",
              "      <td>1.32</td>\n",
              "      <td>540.02</td>\n",
              "      <td>15</td>\n",
              "      <td>13400</td>\n",
              "    </tr>\n",
              "    <tr>\n",
              "      <th>12</th>\n",
              "      <td>Cambridge</td>\n",
              "      <td>5</td>\n",
              "      <td>100</td>\n",
              "      <td>1.41</td>\n",
              "      <td>628.68</td>\n",
              "      <td>15</td>\n",
              "      <td>15600</td>\n",
              "    </tr>\n",
              "    <tr>\n",
              "      <th>13</th>\n",
              "      <td>Cambridge</td>\n",
              "      <td>5</td>\n",
              "      <td>98</td>\n",
              "      <td>1.35</td>\n",
              "      <td>475.54</td>\n",
              "      <td>15</td>\n",
              "      <td>11800</td>\n",
              "    </tr>\n",
              "    <tr>\n",
              "      <th>14</th>\n",
              "      <td>Everett</td>\n",
              "      <td>6</td>\n",
              "      <td>70</td>\n",
              "      <td>2.26</td>\n",
              "      <td>413.60</td>\n",
              "      <td>19</td>\n",
              "      <td>22000</td>\n",
              "    </tr>\n",
              "    <tr>\n",
              "      <th>15</th>\n",
              "      <td>Everett\\t</td>\n",
              "      <td>6</td>\n",
              "      <td>84</td>\n",
              "      <td>2.20</td>\n",
              "      <td>381.64</td>\n",
              "      <td>19</td>\n",
              "      <td>20300</td>\n",
              "    </tr>\n",
              "    <tr>\n",
              "      <th>16</th>\n",
              "      <td>Everett</td>\n",
              "      <td>6</td>\n",
              "      <td>93</td>\n",
              "      <td>2.09</td>\n",
              "      <td>385.40</td>\n",
              "      <td>19</td>\n",
              "      <td>20500</td>\n",
              "    </tr>\n",
              "    <tr>\n",
              "      <th>17</th>\n",
              "      <td>Everett</td>\n",
              "      <td>6</td>\n",
              "      <td>97</td>\n",
              "      <td>1.94</td>\n",
              "      <td>325.24</td>\n",
              "      <td>19</td>\n",
              "      <td>17300</td>\n",
              "    </tr>\n",
              "    <tr>\n",
              "      <th>18</th>\n",
              "      <td>Everett</td>\n",
              "      <td>6</td>\n",
              "      <td>96</td>\n",
              "      <td>2.01</td>\n",
              "      <td>353.44</td>\n",
              "      <td>19</td>\n",
              "      <td>18800</td>\n",
              "    </tr>\n",
              "    <tr>\n",
              "      <th>19</th>\n",
              "      <td>Everett</td>\n",
              "      <td>6</td>\n",
              "      <td>88</td>\n",
              "      <td>1.99</td>\n",
              "      <td>402.32</td>\n",
              "      <td>19</td>\n",
              "      <td>21400</td>\n",
              "    </tr>\n",
              "    <tr>\n",
              "      <th>20</th>\n",
              "      <td>Everett</td>\n",
              "      <td>6</td>\n",
              "      <td>96</td>\n",
              "      <td>1.76</td>\n",
              "      <td>295.16</td>\n",
              "      <td>19</td>\n",
              "      <td>15700</td>\n",
              "    </tr>\n",
              "  </tbody>\n",
              "</table>\n",
              "</div>\n",
              "      <button class=\"colab-df-convert\" onclick=\"convertToInteractive('df-cbd26be3-8213-4efc-9087-dbe08807f028')\"\n",
              "              title=\"Convert this dataframe to an interactive table.\"\n",
              "              style=\"display:none;\">\n",
              "        \n",
              "  <svg xmlns=\"http://www.w3.org/2000/svg\" height=\"24px\"viewBox=\"0 0 24 24\"\n",
              "       width=\"24px\">\n",
              "    <path d=\"M0 0h24v24H0V0z\" fill=\"none\"/>\n",
              "    <path d=\"M18.56 5.44l.94 2.06.94-2.06 2.06-.94-2.06-.94-.94-2.06-.94 2.06-2.06.94zm-11 1L8.5 8.5l.94-2.06 2.06-.94-2.06-.94L8.5 2.5l-.94 2.06-2.06.94zm10 10l.94 2.06.94-2.06 2.06-.94-2.06-.94-.94-2.06-.94 2.06-2.06.94z\"/><path d=\"M17.41 7.96l-1.37-1.37c-.4-.4-.92-.59-1.43-.59-.52 0-1.04.2-1.43.59L10.3 9.45l-7.72 7.72c-.78.78-.78 2.05 0 2.83L4 21.41c.39.39.9.59 1.41.59.51 0 1.02-.2 1.41-.59l7.78-7.78 2.81-2.81c.8-.78.8-2.07 0-2.86zM5.41 20L4 18.59l7.72-7.72 1.47 1.35L5.41 20z\"/>\n",
              "  </svg>\n",
              "      </button>\n",
              "      \n",
              "  <style>\n",
              "    .colab-df-container {\n",
              "      display:flex;\n",
              "      flex-wrap:wrap;\n",
              "      gap: 12px;\n",
              "    }\n",
              "\n",
              "    .colab-df-convert {\n",
              "      background-color: #E8F0FE;\n",
              "      border: none;\n",
              "      border-radius: 50%;\n",
              "      cursor: pointer;\n",
              "      display: none;\n",
              "      fill: #1967D2;\n",
              "      height: 32px;\n",
              "      padding: 0 0 0 0;\n",
              "      width: 32px;\n",
              "    }\n",
              "\n",
              "    .colab-df-convert:hover {\n",
              "      background-color: #E2EBFA;\n",
              "      box-shadow: 0px 1px 2px rgba(60, 64, 67, 0.3), 0px 1px 3px 1px rgba(60, 64, 67, 0.15);\n",
              "      fill: #174EA6;\n",
              "    }\n",
              "\n",
              "    [theme=dark] .colab-df-convert {\n",
              "      background-color: #3B4455;\n",
              "      fill: #D2E3FC;\n",
              "    }\n",
              "\n",
              "    [theme=dark] .colab-df-convert:hover {\n",
              "      background-color: #434B5C;\n",
              "      box-shadow: 0px 1px 3px 1px rgba(0, 0, 0, 0.15);\n",
              "      filter: drop-shadow(0px 1px 2px rgba(0, 0, 0, 0.3));\n",
              "      fill: #FFFFFF;\n",
              "    }\n",
              "  </style>\n",
              "\n",
              "      <script>\n",
              "        const buttonEl =\n",
              "          document.querySelector('#df-cbd26be3-8213-4efc-9087-dbe08807f028 button.colab-df-convert');\n",
              "        buttonEl.style.display =\n",
              "          google.colab.kernel.accessAllowed ? 'block' : 'none';\n",
              "\n",
              "        async function convertToInteractive(key) {\n",
              "          const element = document.querySelector('#df-cbd26be3-8213-4efc-9087-dbe08807f028');\n",
              "          const dataTable =\n",
              "            await google.colab.kernel.invokeFunction('convertToInteractive',\n",
              "                                                     [key], {});\n",
              "          if (!dataTable) return;\n",
              "\n",
              "          const docLinkHtml = 'Like what you see? Visit the ' +\n",
              "            '<a target=\"_blank\" href=https://colab.research.google.com/notebooks/data_table.ipynb>data table notebook</a>'\n",
              "            + ' to learn more about interactive tables.';\n",
              "          element.innerHTML = '';\n",
              "          dataTable['output_type'] = 'display_data';\n",
              "          await google.colab.output.renderOutput(dataTable, element);\n",
              "          const docLink = document.createElement('div');\n",
              "          docLink.innerHTML = docLinkHtml;\n",
              "          element.appendChild(docLink);\n",
              "        }\n",
              "      </script>\n",
              "    </div>\n",
              "  </div>\n",
              "  "
            ]
          },
          "metadata": {},
          "execution_count": 5
        }
      ]
    },
    {
      "cell_type": "markdown",
      "source": [
        "<hr class=\"rounded\">\n",
        "<hr class=\"rounded\">\n",
        "<hr class=\"rounded\">"
      ],
      "metadata": {
        "id": "1zSAZSBtZVXq"
      }
    },
    {
      "cell_type": "markdown",
      "source": [
        " <a id='GenInfo'></a>"
      ],
      "metadata": {
        "id": "TjCYXXlm5-Op"
      }
    },
    {
      "cell_type": "markdown",
      "metadata": {
        "id": "utCMgHKFqZrE"
      },
      "source": [
        "# <font color=\"darkgreen\">6.0 Information About Entire Dataframe\n",
        "\n",
        "  "
      ]
    },
    {
      "cell_type": "code",
      "metadata": {
        "id": "UXVUQTQRoANm",
        "colab": {
          "base_uri": "https://localhost:8080/"
        },
        "outputId": "fb249458-d520-4b9a-b014-c4539ab0d086"
      },
      "source": [
        "#The syntax below gives general overview of the dataset including total number of rows,columns and data types\n",
        "my_data.info()"
      ],
      "execution_count": null,
      "outputs": [
        {
          "output_type": "stream",
          "name": "stdout",
          "text": [
            "<class 'pandas.core.frame.DataFrame'>\n",
            "RangeIndex: 21 entries, 0 to 20\n",
            "Data columns (total 7 columns):\n",
            " #   Column                           Non-Null Count  Dtype  \n",
            "---  ------                           --------------  -----  \n",
            " 0   TOWN/VILLAGE                     21 non-null     object \n",
            " 1   number of rooms                  21 non-null     int64  \n",
            " 2   age of property                  21 non-null     int64  \n",
            " 3   distance to nearest town centre  21 non-null     float64\n",
            " 4   property tax per year            21 non-null     float64\n",
            " 5   number of pupils per teacher     21 non-null     int64  \n",
            " 6   property price                   21 non-null     int64  \n",
            "dtypes: float64(2), int64(4), object(1)\n",
            "memory usage: 1.3+ KB\n"
          ]
        }
      ]
    },
    {
      "cell_type": "markdown",
      "source": [
        "The information above shows that there is a total of 21 towns in the local ranging from index 0 to 20. There are 7 columns in total to represent each of the parameters in every town. The '21 non-null' means there are no missing or unavailable values in the dataset(Ross,2021), therefore it does not need data cleansing."
      ],
      "metadata": {
        "id": "6CP7LsPt1y2E"
      }
    },
    {
      "cell_type": "code",
      "source": [
        "# shows the number of rows and columns respectively\n",
        "my_data.shape\n",
        "\n"
      ],
      "metadata": {
        "colab": {
          "base_uri": "https://localhost:8080/"
        },
        "id": "BCf8C1xRvHPE",
        "outputId": "ab470dc9-121e-4ac8-f6ed-65eb6a5b56fe"
      },
      "execution_count": null,
      "outputs": [
        {
          "output_type": "execute_result",
          "data": {
            "text/plain": [
              "(21, 7)"
            ]
          },
          "metadata": {},
          "execution_count": 7
        }
      ]
    },
    {
      "cell_type": "code",
      "source": [
        "# lists the columns in the data\n",
        "my_data.columns"
      ],
      "metadata": {
        "colab": {
          "base_uri": "https://localhost:8080/"
        },
        "id": "HYoV3ABwvLWE",
        "outputId": "d0d9283f-cc5e-460c-89fe-3b51863b6315"
      },
      "execution_count": null,
      "outputs": [
        {
          "output_type": "execute_result",
          "data": {
            "text/plain": [
              "Index(['TOWN/VILLAGE', 'number of rooms', 'age of property',\n",
              "       'distance to nearest town centre', 'property tax per year',\n",
              "       'number of pupils per teacher', 'property price'],\n",
              "      dtype='object')"
            ]
          },
          "metadata": {},
          "execution_count": 8
        }
      ]
    },
    {
      "cell_type": "markdown",
      "source": [
        "<hr class=\"rounded\">\n",
        "<hr class=\"rounded\">\n",
        "<hr class=\"rounded\">"
      ],
      "metadata": {
        "id": "lN_raqaHZXxz"
      }
    },
    {
      "cell_type": "markdown",
      "source": [
        " <a id='Bos'></a>"
      ],
      "metadata": {
        "id": "7Sh5xXu16QlG"
      }
    },
    {
      "cell_type": "markdown",
      "metadata": {
        "id": "AF_HeU0p9cDK"
      },
      "source": [
        "# <font color=\"blue\"> 7.0 Analysis of Property Prices in **Boston Savin Hill** With Given Parameters\n",
        "  "
      ]
    },
    {
      "cell_type": "markdown",
      "metadata": {
        "id": "OI239uHJKzoe"
      },
      "source": [
        "Now, the analysis will start from the first town, Boston Savin Hill. To make this clear, it is necessary to display only the rows where Boston Savin Hill is found and this was done using the syntax dataframe.head(number of rows). Afterwards, this report will establish the correlation bewteen the parameters in Boston SavinHIll on which the property price dependent or independent."
      ]
    },
    {
      "cell_type": "code",
      "metadata": {
        "id": "QqBGv4ktZ2zk",
        "colab": {
          "base_uri": "https://localhost:8080/",
          "height": 269
        },
        "outputId": "2388c219-cd08-4d50-8f46-06b45f53692f"
      },
      "source": [
        "dataframe.head(7)\n",
        "#This syntax filers the rows for only Boston Savian Hill"
      ],
      "execution_count": null,
      "outputs": [
        {
          "output_type": "execute_result",
          "data": {
            "text/plain": [
              "        TOWN/VILLAGE  number of rooms  age of property  \\\n",
              "0  Boston Savin Hill                6               88   \n",
              "1  Boston Savin Hill                6               95   \n",
              "2  Boston Savin Hill                7               95   \n",
              "3  Boston Savin Hill                6               93   \n",
              "4  Boston Savin Hill                6              100   \n",
              "5  Boston Savin Hill                6               88   \n",
              "6  Boston Savin Hill                6               94   \n",
              "\n",
              "   distance to nearest town centre  property tax per year  \\\n",
              "0                             2.32                 952.38   \n",
              "1                             2.22                 779.22   \n",
              "2                             2.12                 892.44   \n",
              "3                             2.00                 639.36   \n",
              "4                             1.91                 579.42   \n",
              "5                             1.82                 559.44   \n",
              "6                             1.82                 852.48   \n",
              "\n",
              "   number of pupils per teacher  property price  \n",
              "0                            20           14300  \n",
              "1                            20           11700  \n",
              "2                            20           13400  \n",
              "3                            20            9600  \n",
              "4                            20            8700  \n",
              "5                            20            8400  \n",
              "6                            20           12800  "
            ],
            "text/html": [
              "\n",
              "  <div id=\"df-3596208c-ca3b-459e-9b05-cb0d58e69018\">\n",
              "    <div class=\"colab-df-container\">\n",
              "      <div>\n",
              "<style scoped>\n",
              "    .dataframe tbody tr th:only-of-type {\n",
              "        vertical-align: middle;\n",
              "    }\n",
              "\n",
              "    .dataframe tbody tr th {\n",
              "        vertical-align: top;\n",
              "    }\n",
              "\n",
              "    .dataframe thead th {\n",
              "        text-align: right;\n",
              "    }\n",
              "</style>\n",
              "<table border=\"1\" class=\"dataframe\">\n",
              "  <thead>\n",
              "    <tr style=\"text-align: right;\">\n",
              "      <th></th>\n",
              "      <th>TOWN/VILLAGE</th>\n",
              "      <th>number of rooms</th>\n",
              "      <th>age of property</th>\n",
              "      <th>distance to nearest town centre</th>\n",
              "      <th>property tax per year</th>\n",
              "      <th>number of pupils per teacher</th>\n",
              "      <th>property price</th>\n",
              "    </tr>\n",
              "  </thead>\n",
              "  <tbody>\n",
              "    <tr>\n",
              "      <th>0</th>\n",
              "      <td>Boston Savin Hill</td>\n",
              "      <td>6</td>\n",
              "      <td>88</td>\n",
              "      <td>2.32</td>\n",
              "      <td>952.38</td>\n",
              "      <td>20</td>\n",
              "      <td>14300</td>\n",
              "    </tr>\n",
              "    <tr>\n",
              "      <th>1</th>\n",
              "      <td>Boston Savin Hill</td>\n",
              "      <td>6</td>\n",
              "      <td>95</td>\n",
              "      <td>2.22</td>\n",
              "      <td>779.22</td>\n",
              "      <td>20</td>\n",
              "      <td>11700</td>\n",
              "    </tr>\n",
              "    <tr>\n",
              "      <th>2</th>\n",
              "      <td>Boston Savin Hill</td>\n",
              "      <td>7</td>\n",
              "      <td>95</td>\n",
              "      <td>2.12</td>\n",
              "      <td>892.44</td>\n",
              "      <td>20</td>\n",
              "      <td>13400</td>\n",
              "    </tr>\n",
              "    <tr>\n",
              "      <th>3</th>\n",
              "      <td>Boston Savin Hill</td>\n",
              "      <td>6</td>\n",
              "      <td>93</td>\n",
              "      <td>2.00</td>\n",
              "      <td>639.36</td>\n",
              "      <td>20</td>\n",
              "      <td>9600</td>\n",
              "    </tr>\n",
              "    <tr>\n",
              "      <th>4</th>\n",
              "      <td>Boston Savin Hill</td>\n",
              "      <td>6</td>\n",
              "      <td>100</td>\n",
              "      <td>1.91</td>\n",
              "      <td>579.42</td>\n",
              "      <td>20</td>\n",
              "      <td>8700</td>\n",
              "    </tr>\n",
              "    <tr>\n",
              "      <th>5</th>\n",
              "      <td>Boston Savin Hill</td>\n",
              "      <td>6</td>\n",
              "      <td>88</td>\n",
              "      <td>1.82</td>\n",
              "      <td>559.44</td>\n",
              "      <td>20</td>\n",
              "      <td>8400</td>\n",
              "    </tr>\n",
              "    <tr>\n",
              "      <th>6</th>\n",
              "      <td>Boston Savin Hill</td>\n",
              "      <td>6</td>\n",
              "      <td>94</td>\n",
              "      <td>1.82</td>\n",
              "      <td>852.48</td>\n",
              "      <td>20</td>\n",
              "      <td>12800</td>\n",
              "    </tr>\n",
              "  </tbody>\n",
              "</table>\n",
              "</div>\n",
              "      <button class=\"colab-df-convert\" onclick=\"convertToInteractive('df-3596208c-ca3b-459e-9b05-cb0d58e69018')\"\n",
              "              title=\"Convert this dataframe to an interactive table.\"\n",
              "              style=\"display:none;\">\n",
              "        \n",
              "  <svg xmlns=\"http://www.w3.org/2000/svg\" height=\"24px\"viewBox=\"0 0 24 24\"\n",
              "       width=\"24px\">\n",
              "    <path d=\"M0 0h24v24H0V0z\" fill=\"none\"/>\n",
              "    <path d=\"M18.56 5.44l.94 2.06.94-2.06 2.06-.94-2.06-.94-.94-2.06-.94 2.06-2.06.94zm-11 1L8.5 8.5l.94-2.06 2.06-.94-2.06-.94L8.5 2.5l-.94 2.06-2.06.94zm10 10l.94 2.06.94-2.06 2.06-.94-2.06-.94-.94-2.06-.94 2.06-2.06.94z\"/><path d=\"M17.41 7.96l-1.37-1.37c-.4-.4-.92-.59-1.43-.59-.52 0-1.04.2-1.43.59L10.3 9.45l-7.72 7.72c-.78.78-.78 2.05 0 2.83L4 21.41c.39.39.9.59 1.41.59.51 0 1.02-.2 1.41-.59l7.78-7.78 2.81-2.81c.8-.78.8-2.07 0-2.86zM5.41 20L4 18.59l7.72-7.72 1.47 1.35L5.41 20z\"/>\n",
              "  </svg>\n",
              "      </button>\n",
              "      \n",
              "  <style>\n",
              "    .colab-df-container {\n",
              "      display:flex;\n",
              "      flex-wrap:wrap;\n",
              "      gap: 12px;\n",
              "    }\n",
              "\n",
              "    .colab-df-convert {\n",
              "      background-color: #E8F0FE;\n",
              "      border: none;\n",
              "      border-radius: 50%;\n",
              "      cursor: pointer;\n",
              "      display: none;\n",
              "      fill: #1967D2;\n",
              "      height: 32px;\n",
              "      padding: 0 0 0 0;\n",
              "      width: 32px;\n",
              "    }\n",
              "\n",
              "    .colab-df-convert:hover {\n",
              "      background-color: #E2EBFA;\n",
              "      box-shadow: 0px 1px 2px rgba(60, 64, 67, 0.3), 0px 1px 3px 1px rgba(60, 64, 67, 0.15);\n",
              "      fill: #174EA6;\n",
              "    }\n",
              "\n",
              "    [theme=dark] .colab-df-convert {\n",
              "      background-color: #3B4455;\n",
              "      fill: #D2E3FC;\n",
              "    }\n",
              "\n",
              "    [theme=dark] .colab-df-convert:hover {\n",
              "      background-color: #434B5C;\n",
              "      box-shadow: 0px 1px 3px 1px rgba(0, 0, 0, 0.15);\n",
              "      filter: drop-shadow(0px 1px 2px rgba(0, 0, 0, 0.3));\n",
              "      fill: #FFFFFF;\n",
              "    }\n",
              "  </style>\n",
              "\n",
              "      <script>\n",
              "        const buttonEl =\n",
              "          document.querySelector('#df-3596208c-ca3b-459e-9b05-cb0d58e69018 button.colab-df-convert');\n",
              "        buttonEl.style.display =\n",
              "          google.colab.kernel.accessAllowed ? 'block' : 'none';\n",
              "\n",
              "        async function convertToInteractive(key) {\n",
              "          const element = document.querySelector('#df-3596208c-ca3b-459e-9b05-cb0d58e69018');\n",
              "          const dataTable =\n",
              "            await google.colab.kernel.invokeFunction('convertToInteractive',\n",
              "                                                     [key], {});\n",
              "          if (!dataTable) return;\n",
              "\n",
              "          const docLinkHtml = 'Like what you see? Visit the ' +\n",
              "            '<a target=\"_blank\" href=https://colab.research.google.com/notebooks/data_table.ipynb>data table notebook</a>'\n",
              "            + ' to learn more about interactive tables.';\n",
              "          element.innerHTML = '';\n",
              "          dataTable['output_type'] = 'display_data';\n",
              "          await google.colab.output.renderOutput(dataTable, element);\n",
              "          const docLink = document.createElement('div');\n",
              "          docLink.innerHTML = docLinkHtml;\n",
              "          element.appendChild(docLink);\n",
              "        }\n",
              "      </script>\n",
              "    </div>\n",
              "  </div>\n",
              "  "
            ]
          },
          "metadata": {},
          "execution_count": 9
        }
      ]
    },
    {
      "cell_type": "markdown",
      "source": [
        "Before the correlation of each parameter is established, it is necessary to mention that **property price** is the predominant yardstick on which the report is accounted. Therefore, before any detailed examination, a brief statistical analysis of the property prices in this town. These are shown below in the table and graphs."
      ],
      "metadata": {
        "id": "YOtoymqt5Diz"
      }
    },
    {
      "cell_type": "code",
      "source": [
        "my_data['number of rooms'].value_counts()"
      ],
      "metadata": {
        "colab": {
          "base_uri": "https://localhost:8080/"
        },
        "id": "e1FAoX7EIv0G",
        "outputId": "41e885cb-6955-4490-b112-aa4b11fd667c"
      },
      "execution_count": null,
      "outputs": [
        {
          "output_type": "execute_result",
          "data": {
            "text/plain": [
              "6    17\n",
              "5     3\n",
              "7     1\n",
              "Name: number of rooms, dtype: int64"
            ]
          },
          "metadata": {},
          "execution_count": 10
        }
      ]
    },
    {
      "cell_type": "code",
      "source": [
        "# The Single line graph is used to show the ranges of property pricing in Boston Hill at a glance.\n",
        "#The peak shows town index with the highest price while the lowest point shows the town with the lowest price \n",
        "\n",
        "#To give title to the graph\n",
        "plt.title(\"Property Prices in Boston Savin Hill\")\n",
        "\n",
        "#to label the y-axis\n",
        "plt.xlabel(\"Prices in £\")\n",
        "\n",
        "#to label the x-axis\n",
        "plt.xlabel(\"Town index\")\n",
        "\n",
        "#To filter the dataframe for the first 7 rows only, plot the graph of size 15 by 7, and set color to red.\n",
        "dataframe.head(7)['property price'].plot(figsize=(15,7),color=\"red\")\n",
        "\n"
      ],
      "metadata": {
        "id": "reueG-xmGMSv",
        "colab": {
          "base_uri": "https://localhost:8080/",
          "height": 475
        },
        "outputId": "cfb8a574-0f83-45f9-ec57-e2d4abded2e1"
      },
      "execution_count": null,
      "outputs": [
        {
          "output_type": "execute_result",
          "data": {
            "text/plain": [
              "<matplotlib.axes._subplots.AxesSubplot at 0x7fea9ebad050>"
            ]
          },
          "metadata": {},
          "execution_count": 11
        },
        {
          "output_type": "display_data",
          "data": {
            "text/plain": [
              "<Figure size 1080x504 with 1 Axes>"
            ],
            "image/png": "[encoded data removed]"
          },
          "metadata": {
            "needs_background": "light"
          }
        }
      ]
    },
    {
      "cell_type": "markdown",
      "source": [
        "The single line graph above shows immediately that the highest priced property is at index 0 with a price above 14000 and the lowest priced property at index 5 with price below 8000. This gives a range of £8000 <= price <= £14000 property prices in Boston Hill. The determinants for these prices will be analysed shortly."
      ],
      "metadata": {
        "id": "MXTjkfJZWBZU"
      }
    },
    {
      "cell_type": "code",
      "source": [
        "#This shows the numerical representation of property pricing in detail.\n",
        "dataframe.head(7)['property price'].describe()\n"
      ],
      "metadata": {
        "colab": {
          "base_uri": "https://localhost:8080/"
        },
        "id": "jNORgnEU6Yxa",
        "outputId": "65bb0a91-fe4f-416c-9207-3243acc8bd9b"
      },
      "execution_count": null,
      "outputs": [
        {
          "output_type": "execute_result",
          "data": {
            "text/plain": [
              "count        7.000000\n",
              "mean     11271.428571\n",
              "std       2376.071187\n",
              "min       8400.000000\n",
              "25%       9150.000000\n",
              "50%      11700.000000\n",
              "75%      13100.000000\n",
              "max      14300.000000\n",
              "Name: property price, dtype: float64"
            ]
          },
          "metadata": {},
          "execution_count": 12
        }
      ]
    },
    {
      "cell_type": "markdown",
      "source": [
        "Since interquartile range, range, outliers and variance are not shown with the describe() syntax, the code below performs it manually."
      ],
      "metadata": {
        "id": "_Zptpf8FyoFG"
      }
    },
    {
      "cell_type": "code",
      "source": [
        "def interquartilerange(upper, lower):\n",
        "  return upper - lower\n",
        "\n",
        "def Upper_Outlier(upper_quartile,lower_quartile):\n",
        "  return upper_quartile + (1.5 * interquartile_range(upper_quartile,lower_quartile))\n",
        "\n",
        "def Lower_Outlier(lower_quartile,upper_quartile):\n",
        "  return lower_quartile - (1.5 * interquartile_range(upper_quartile, lower_quartile))\n"
      ],
      "metadata": {
        "id": "NOOEbhTGoJYS"
      },
      "execution_count": null,
      "outputs": []
    },
    {
      "cell_type": "code",
      "source": [
        "range= interquartilerange(13100,9159)\n",
        "print(range)"
      ],
      "metadata": {
        "colab": {
          "base_uri": "https://localhost:8080/"
        },
        "id": "BGbG6u5BqOIi",
        "outputId": "0834f75a-3938-4211-8a18-09bc33739947"
      },
      "execution_count": null,
      "outputs": [
        {
          "output_type": "stream",
          "name": "stdout",
          "text": [
            "3941\n"
          ]
        }
      ]
    },
    {
      "cell_type": "code",
      "source": [
        "# calculation of outliers from given the upper and lower quartile above and also calculating the variance.\n",
        "#interquartile range= #upper quatile - lower quartile\n",
        "Interquartile_range=(13100-9150)\n",
        "\n",
        "#upper quartile = 13100\n",
        "upper_outlier=13100+(1.5*Interquartile_range)\n",
        "\n",
        "#lower quartile = 9150\n",
        "lower_outlier=9150-(1.5*Interquartile_range)\n",
        "\n",
        "#range =max_price - min_price\n",
        "range = 14300 - 8400\n",
        "\n",
        "\n",
        "print(lower_outlier)\n",
        "print(upper_outlier)\n",
        "print(range)\n",
        "\n",
        "np.var(dataframe.head(7)['property price'])#variance\n"
      ],
      "metadata": {
        "colab": {
          "base_uri": "https://localhost:8080/"
        },
        "id": "nCkoSEus9C1e",
        "outputId": "941983ac-e636-4e15-d5c0-6e090ef2fe3e"
      },
      "execution_count": null,
      "outputs": [
        {
          "output_type": "stream",
          "name": "stdout",
          "text": [
            "3225.0\n",
            "19025.0\n",
            "5900\n"
          ]
        },
        {
          "output_type": "execute_result",
          "data": {
            "text/plain": [
              "4839183.673469388"
            ]
          },
          "metadata": {},
          "execution_count": 15
        }
      ]
    },
    {
      "cell_type": "markdown",
      "source": [
        "The statistics calculated above is visualised below using a frequency density and a box plot which will help with detailed analysis of the measures of central tendencies."
      ],
      "metadata": {
        "id": "-tg3Lljw00BB"
      }
    },
    {
      "cell_type": "code",
      "source": [
        "# plotting the frequency density, kind=hist means we want to plot histogrm.\n",
        "ax=dataframe.head(7)['property price'].plot(kind='hist', color='#000088', figsize=(14,8))\n",
        "\n",
        "#to give a red line colour to the mean and green colour to median for better visualisation.\n",
        "ax.axvline(dataframe.head(7)['property price'].mean(),color='red')\n",
        "ax.axvline(dataframe.head(7)['property price'].median(),color='green')"
      ],
      "metadata": {
        "colab": {
          "base_uri": "https://localhost:8080/",
          "height": 500
        },
        "id": "bQTasQ32z0fL",
        "outputId": "b3fba419-4b17-443f-ccf3-ff4cd3382088"
      },
      "execution_count": null,
      "outputs": [
        {
          "output_type": "execute_result",
          "data": {
            "text/plain": [
              "<matplotlib.lines.Line2D at 0x7fea9f3ac390>"
            ]
          },
          "metadata": {},
          "execution_count": 16
        },
        {
          "output_type": "display_data",
          "data": {
            "text/plain": [
              "<Figure size 1008x576 with 1 Axes>"
            ],
            "image/png": "[encoded data removed]"
          },
          "metadata": {
            "needs_background": "light"
          }
        }
      ]
    },
    {
      "cell_type": "markdown",
      "source": [
        "The frequency density above indicates that 2 property prices are less than £9000, 2 properties are also priced within the range of £9500 and £12000 and no property is price above £15000 in Boston Hill. Additionally, the mean and median (represented by red and green lines respectively) are centered around a common value, 11200 - 12000. \n",
        "\n",
        "Nonetheless, to make detailed comment on the measures of central tendency and to determine whether there exist outliers or not, the boxplot below will assist with that analysis."
      ],
      "metadata": {
        "id": "gQs5rGlv1icz"
      }
    },
    {
      "cell_type": "code",
      "source": [
        "# Box plot to help with the explanation of the statistics above.\n",
        "#vert=False means the boxplot will be horizontal intead of vertical\n",
        "\n",
        "dataframe.head(7)['property price'].plot(kind='box', vert=False, figsize=(14,6),color='black')"
      ],
      "metadata": {
        "id": "lAATvCzv63A3",
        "colab": {
          "base_uri": "https://localhost:8080/",
          "height": 391
        },
        "outputId": "3d009130-8ea7-4752-c5a8-18efd8464902"
      },
      "execution_count": null,
      "outputs": [
        {
          "output_type": "execute_result",
          "data": {
            "text/plain": [
              "<matplotlib.axes._subplots.AxesSubplot at 0x7fea9e5ccb90>"
            ]
          },
          "metadata": {},
          "execution_count": 17
        },
        {
          "output_type": "display_data",
          "data": {
            "text/plain": [
              "<Figure size 1008x432 with 1 Axes>"
            ],
            "image/png": "[encoded data removed]"
          },
          "metadata": {
            "needs_background": "light"
          }
        }
      ]
    },
    {
      "cell_type": "markdown",
      "source": [
        "\n",
        "From the table and boxplot above, it can be inferred that there exist no outliers in the pricing of properties in Boston. No property is unreasonably priced high(above upper outlier of 19025) or low (below lower outlier of 3225).\n",
        "\n",
        "(***`This will be confirmed again using the empirical rule in section 7.1 of this report `***)\n",
        "\n",
        "Moreover, the mean and median are spread around a common value (11,200<mean/median<11800 ) with only 400 difference. This is confirmation  to the fact that there exist no outliers in the pricing system as their calculations were not affected by any extreme values. \n",
        "\n",
        "However, the standard deviation of  2376.07 and the variance of 4839183.67 are high figures which indicate that there is a large variation in  parameters for determination of property prices in Boston.  Additionally, the range of 5900.00 is an indication that prices of properties in this town widely vary. This variance in price is visualised in the pie chart below.\n"
      ],
      "metadata": {
        "id": "zoXWv_zs_3ax"
      }
    },
    {
      "cell_type": "code",
      "source": [
        "property_price=dataframe.head(7)['property price']\n",
        "#labelling the wedges of the pie chart\n",
        "lab=['T0','T1',  'T2', 'T3', 'T4', 'T5', 'T6']\n",
        "# Assigning colours to each wedge (town)\n",
        "col=['red', 'hotpink', 'yellow','b','orange','purple','green']\n",
        "#Giving title to the pie chart\n",
        "plt.title('Overview of Property prices in Boston Hill')\n",
        "#plotting the pie chart\n",
        "#To make the highest price stand out.\n",
        "myexplode = [0.5, 0, 0,0,0,0.5,0]\n",
        "#autopct enables display og the percent value using Python string formatting. \n",
        "plt.pie(property_price, labels=lab, colors=col,explode=myexplode, shadow=True, autopct='%1.2f')\n",
        "plt.show"
      ],
      "metadata": {
        "colab": {
          "base_uri": "https://localhost:8080/",
          "height": 314
        },
        "id": "QALvYQ43aJML",
        "outputId": "2457178d-7569-4558-cb21-753b0a9a55b9"
      },
      "execution_count": null,
      "outputs": [
        {
          "output_type": "execute_result",
          "data": {
            "text/plain": [
              "<function matplotlib.pyplot.show>"
            ]
          },
          "metadata": {},
          "execution_count": 18
        },
        {
          "output_type": "display_data",
          "data": {
            "text/plain": [
              "<Figure size 432x288 with 1 Axes>"
            ],
            "image/png": "[encoded data removed]"
          },
          "metadata": {}
        }
      ]
    },
    {
      "cell_type": "markdown",
      "source": [
        "From the pie chart, the highest price has a share of 18.12% (represented by the exploded red wedge) and the lowest price 10.65% (the exploded purple wedge) which leads to a difference of 7.47% equivalent to the range of £5900.\n",
        "\n",
        "\n",
        "---\n",
        "\n",
        "\n",
        "\n",
        "This variation of property prices in this town illustrated by the various graphs above is now analysed below using the correlation table and related scatter graphs. This will show the parameters on which property prices are dependent in Boston Savian Hill."
      ],
      "metadata": {
        "id": "m-d3JDjEb8_I"
      }
    },
    {
      "cell_type": "code",
      "source": [
        "#Correlation between property price and parameters in Boston Savian Hill.\n",
        "corr_Boston=dataframe.head(7).corr()\n",
        "corr_Boston.style.background_gradient(cmap='coolwarm')"
      ],
      "metadata": {
        "colab": {
          "base_uri": "https://localhost:8080/",
          "height": 307
        },
        "id": "vImpyJDFRZd9",
        "outputId": "0dc90da7-4d25-44b6-ab69-38e77542de67"
      },
      "execution_count": null,
      "outputs": [
        {
          "output_type": "stream",
          "name": "stderr",
          "text": [
            "/usr/local/lib/python3.7/dist-packages/pandas/io/formats/style.py:2813: RuntimeWarning: All-NaN slice encountered\n",
            "  smin = np.nanmin(gmap) if vmin is None else vmin\n",
            "/usr/local/lib/python3.7/dist-packages/pandas/io/formats/style.py:2814: RuntimeWarning: All-NaN slice encountered\n",
            "  smax = np.nanmax(gmap) if vmax is None else vmax\n"
          ]
        },
        {
          "output_type": "execute_result",
          "data": {
            "text/plain": [
              "<pandas.io.formats.style.Styler at 0x7fea9bd55f50>"
            ],
            "text/html": [
              "<style type=\"text/css\">\n",
              "#T_5f361_row0_col0, #T_5f361_row1_col1, #T_5f361_row2_col2, #T_5f361_row3_col3, #T_5f361_row3_col5, #T_5f361_row5_col3, #T_5f361_row5_col5 {\n",
              "  background-color: #b40426;\n",
              "  color: #f1f1f1;\n",
              "}\n",
              "#T_5f361_row0_col1 {\n",
              "  background-color: #a3c2fe;\n",
              "  color: #000000;\n",
              "}\n",
              "#T_5f361_row0_col2 {\n",
              "  background-color: #a6c4fe;\n",
              "  color: #000000;\n",
              "}\n",
              "#T_5f361_row0_col3, #T_5f361_row0_col5 {\n",
              "  background-color: #dcdddd;\n",
              "  color: #000000;\n",
              "}\n",
              "#T_5f361_row0_col4, #T_5f361_row1_col4, #T_5f361_row2_col4, #T_5f361_row3_col4, #T_5f361_row4_col0, #T_5f361_row4_col1, #T_5f361_row4_col2, #T_5f361_row4_col3, #T_5f361_row4_col4, #T_5f361_row4_col5, #T_5f361_row5_col4 {\n",
              "  background-color: #000000;\n",
              "  color: #f1f1f1;\n",
              "}\n",
              "#T_5f361_row1_col0, #T_5f361_row1_col2, #T_5f361_row1_col3, #T_5f361_row1_col5, #T_5f361_row3_col1, #T_5f361_row5_col1 {\n",
              "  background-color: #3b4cc0;\n",
              "  color: #f1f1f1;\n",
              "}\n",
              "#T_5f361_row2_col0 {\n",
              "  background-color: #4358cb;\n",
              "  color: #f1f1f1;\n",
              "}\n",
              "#T_5f361_row2_col1 {\n",
              "  background-color: #3f53c6;\n",
              "  color: #f1f1f1;\n",
              "}\n",
              "#T_5f361_row2_col3, #T_5f361_row2_col5 {\n",
              "  background-color: #f7ac8e;\n",
              "  color: #000000;\n",
              "}\n",
              "#T_5f361_row3_col0, #T_5f361_row5_col0 {\n",
              "  background-color: #92b4fe;\n",
              "  color: #000000;\n",
              "}\n",
              "#T_5f361_row3_col2, #T_5f361_row5_col2 {\n",
              "  background-color: #f7af91;\n",
              "  color: #000000;\n",
              "}\n",
              "</style>\n",
              "<table id=\"T_5f361_\" class=\"dataframe\">\n",
              "  <thead>\n",
              "    <tr>\n",
              "      <th class=\"blank level0\" >&nbsp;</th>\n",
              "      <th class=\"col_heading level0 col0\" >number of rooms</th>\n",
              "      <th class=\"col_heading level0 col1\" >age of property</th>\n",
              "      <th class=\"col_heading level0 col2\" >distance to nearest town centre</th>\n",
              "      <th class=\"col_heading level0 col3\" >property tax per year</th>\n",
              "      <th class=\"col_heading level0 col4\" >number of pupils per teacher</th>\n",
              "      <th class=\"col_heading level0 col5\" >property price</th>\n",
              "    </tr>\n",
              "  </thead>\n",
              "  <tbody>\n",
              "    <tr>\n",
              "      <th id=\"T_5f361_level0_row0\" class=\"row_heading level0 row0\" >number of rooms</th>\n",
              "      <td id=\"T_5f361_row0_col0\" class=\"data row0 col0\" >1.000000</td>\n",
              "      <td id=\"T_5f361_row0_col1\" class=\"data row0 col1\" >0.178647</td>\n",
              "      <td id=\"T_5f361_row0_col2\" class=\"data row0 col2\" >0.201911</td>\n",
              "      <td id=\"T_5f361_row0_col3\" class=\"data row0 col3\" >0.395027</td>\n",
              "      <td id=\"T_5f361_row0_col4\" class=\"data row0 col4\" >nan</td>\n",
              "      <td id=\"T_5f361_row0_col5\" class=\"data row0 col5\" >0.395027</td>\n",
              "    </tr>\n",
              "    <tr>\n",
              "      <th id=\"T_5f361_level0_row1\" class=\"row_heading level0 row1\" >age of property</th>\n",
              "      <td id=\"T_5f361_row1_col0\" class=\"data row1 col0\" >0.178647</td>\n",
              "      <td id=\"T_5f361_row1_col1\" class=\"data row1 col1\" >1.000000</td>\n",
              "      <td id=\"T_5f361_row1_col2\" class=\"data row1 col2\" >-0.178350</td>\n",
              "      <td id=\"T_5f361_row1_col3\" class=\"data row1 col3\" >-0.201292</td>\n",
              "      <td id=\"T_5f361_row1_col4\" class=\"data row1 col4\" >nan</td>\n",
              "      <td id=\"T_5f361_row1_col5\" class=\"data row1 col5\" >-0.201292</td>\n",
              "    </tr>\n",
              "    <tr>\n",
              "      <th id=\"T_5f361_level0_row2\" class=\"row_heading level0 row2\" >distance to nearest town centre</th>\n",
              "      <td id=\"T_5f361_row2_col0\" class=\"data row2 col0\" >0.201911</td>\n",
              "      <td id=\"T_5f361_row2_col1\" class=\"data row2 col1\" >-0.178350</td>\n",
              "      <td id=\"T_5f361_row2_col2\" class=\"data row2 col2\" >1.000000</td>\n",
              "      <td id=\"T_5f361_row2_col3\" class=\"data row2 col3\" >0.639508</td>\n",
              "      <td id=\"T_5f361_row2_col4\" class=\"data row2 col4\" >nan</td>\n",
              "      <td id=\"T_5f361_row2_col5\" class=\"data row2 col5\" >0.639508</td>\n",
              "    </tr>\n",
              "    <tr>\n",
              "      <th id=\"T_5f361_level0_row3\" class=\"row_heading level0 row3\" >property tax per year</th>\n",
              "      <td id=\"T_5f361_row3_col0\" class=\"data row3 col0\" >0.395027</td>\n",
              "      <td id=\"T_5f361_row3_col1\" class=\"data row3 col1\" >-0.201292</td>\n",
              "      <td id=\"T_5f361_row3_col2\" class=\"data row3 col2\" >0.639508</td>\n",
              "      <td id=\"T_5f361_row3_col3\" class=\"data row3 col3\" >1.000000</td>\n",
              "      <td id=\"T_5f361_row3_col4\" class=\"data row3 col4\" >nan</td>\n",
              "      <td id=\"T_5f361_row3_col5\" class=\"data row3 col5\" >1.000000</td>\n",
              "    </tr>\n",
              "    <tr>\n",
              "      <th id=\"T_5f361_level0_row4\" class=\"row_heading level0 row4\" >number of pupils per teacher</th>\n",
              "      <td id=\"T_5f361_row4_col0\" class=\"data row4 col0\" >nan</td>\n",
              "      <td id=\"T_5f361_row4_col1\" class=\"data row4 col1\" >nan</td>\n",
              "      <td id=\"T_5f361_row4_col2\" class=\"data row4 col2\" >nan</td>\n",
              "      <td id=\"T_5f361_row4_col3\" class=\"data row4 col3\" >nan</td>\n",
              "      <td id=\"T_5f361_row4_col4\" class=\"data row4 col4\" >nan</td>\n",
              "      <td id=\"T_5f361_row4_col5\" class=\"data row4 col5\" >nan</td>\n",
              "    </tr>\n",
              "    <tr>\n",
              "      <th id=\"T_5f361_level0_row5\" class=\"row_heading level0 row5\" >property price</th>\n",
              "      <td id=\"T_5f361_row5_col0\" class=\"data row5 col0\" >0.395027</td>\n",
              "      <td id=\"T_5f361_row5_col1\" class=\"data row5 col1\" >-0.201292</td>\n",
              "      <td id=\"T_5f361_row5_col2\" class=\"data row5 col2\" >0.639508</td>\n",
              "      <td id=\"T_5f361_row5_col3\" class=\"data row5 col3\" >1.000000</td>\n",
              "      <td id=\"T_5f361_row5_col4\" class=\"data row5 col4\" >nan</td>\n",
              "      <td id=\"T_5f361_row5_col5\" class=\"data row5 col5\" >1.000000</td>\n",
              "    </tr>\n",
              "  </tbody>\n",
              "</table>\n"
            ]
          },
          "metadata": {},
          "execution_count": 19
        }
      ]
    },
    {
      "cell_type": "markdown",
      "source": [
        "The dark color (except black which means no correlation) shows there is high correlation between the parameters and the light colors shows less correlation between the variables. Also, the correlation coefficient in each cell is an alternative to determine the correlation between the parameters. The interpretation of the co-efficient is explained below (Aseidu 2012). <br>\n",
        "0 --- no correlation<br>\n",
        "0.1 - 0.5 --- weak correlation<br>\n",
        "0.6 - 0.7 --- moderate correlation<br>\n",
        "0.8 - 0.9 -- strong correlation<br>\n",
        "1.0 --- perfect correlation.<br>\n",
        "\n",
        "Same applies for negative numbers.<br>\n",
        "The ***NaN*** seen in the correlation table means data/number is not available for that column or row. In this case, all the NaN represents 0 correlation. The correlation table below cleans the data and replaces the NaN with 0. However, in subsequent analysis of other towns, this will be left as NaN."
      ],
      "metadata": {
        "id": "t93RZw3sR-IY"
      }
    },
    {
      "cell_type": "code",
      "source": [
        "# Code to fill all NaNs with 0s.\n",
        "corr_Boston.fillna(0)"
      ],
      "metadata": {
        "colab": {
          "base_uri": "https://localhost:8080/",
          "height": 238
        },
        "id": "cYb3vejNjQfK",
        "outputId": "506fb78a-5321-4bd1-a231-7d56c111f0e4"
      },
      "execution_count": null,
      "outputs": [
        {
          "output_type": "execute_result",
          "data": {
            "text/plain": [
              "                                 number of rooms  age of property  \\\n",
              "number of rooms                         1.000000         0.178647   \n",
              "age of property                         0.178647         1.000000   \n",
              "distance to nearest town centre         0.201911        -0.178350   \n",
              "property tax per year                   0.395027        -0.201292   \n",
              "number of pupils per teacher            0.000000         0.000000   \n",
              "property price                          0.395027        -0.201292   \n",
              "\n",
              "                                 distance to nearest town centre  \\\n",
              "number of rooms                                         0.201911   \n",
              "age of property                                        -0.178350   \n",
              "distance to nearest town centre                         1.000000   \n",
              "property tax per year                                   0.639508   \n",
              "number of pupils per teacher                            0.000000   \n",
              "property price                                          0.639508   \n",
              "\n",
              "                                 property tax per year  \\\n",
              "number of rooms                               0.395027   \n",
              "age of property                              -0.201292   \n",
              "distance to nearest town centre               0.639508   \n",
              "property tax per year                         1.000000   \n",
              "number of pupils per teacher                  0.000000   \n",
              "property price                                1.000000   \n",
              "\n",
              "                                 number of pupils per teacher  property price  \n",
              "number of rooms                                           0.0        0.395027  \n",
              "age of property                                           0.0       -0.201292  \n",
              "distance to nearest town centre                           0.0        0.639508  \n",
              "property tax per year                                     0.0        1.000000  \n",
              "number of pupils per teacher                              0.0        0.000000  \n",
              "property price                                            0.0        1.000000  "
            ],
            "text/html": [
              "\n",
              "  <div id=\"df-0962c9cd-6be5-445c-853a-cbdd9922d0b0\">\n",
              "    <div class=\"colab-df-container\">\n",
              "      <div>\n",
              "<style scoped>\n",
              "    .dataframe tbody tr th:only-of-type {\n",
              "        vertical-align: middle;\n",
              "    }\n",
              "\n",
              "    .dataframe tbody tr th {\n",
              "        vertical-align: top;\n",
              "    }\n",
              "\n",
              "    .dataframe thead th {\n",
              "        text-align: right;\n",
              "    }\n",
              "</style>\n",
              "<table border=\"1\" class=\"dataframe\">\n",
              "  <thead>\n",
              "    <tr style=\"text-align: right;\">\n",
              "      <th></th>\n",
              "      <th>number of rooms</th>\n",
              "      <th>age of property</th>\n",
              "      <th>distance to nearest town centre</th>\n",
              "      <th>property tax per year</th>\n",
              "      <th>number of pupils per teacher</th>\n",
              "      <th>property price</th>\n",
              "    </tr>\n",
              "  </thead>\n",
              "  <tbody>\n",
              "    <tr>\n",
              "      <th>number of rooms</th>\n",
              "      <td>1.000000</td>\n",
              "      <td>0.178647</td>\n",
              "      <td>0.201911</td>\n",
              "      <td>0.395027</td>\n",
              "      <td>0.0</td>\n",
              "      <td>0.395027</td>\n",
              "    </tr>\n",
              "    <tr>\n",
              "      <th>age of property</th>\n",
              "      <td>0.178647</td>\n",
              "      <td>1.000000</td>\n",
              "      <td>-0.178350</td>\n",
              "      <td>-0.201292</td>\n",
              "      <td>0.0</td>\n",
              "      <td>-0.201292</td>\n",
              "    </tr>\n",
              "    <tr>\n",
              "      <th>distance to nearest town centre</th>\n",
              "      <td>0.201911</td>\n",
              "      <td>-0.178350</td>\n",
              "      <td>1.000000</td>\n",
              "      <td>0.639508</td>\n",
              "      <td>0.0</td>\n",
              "      <td>0.639508</td>\n",
              "    </tr>\n",
              "    <tr>\n",
              "      <th>property tax per year</th>\n",
              "      <td>0.395027</td>\n",
              "      <td>-0.201292</td>\n",
              "      <td>0.639508</td>\n",
              "      <td>1.000000</td>\n",
              "      <td>0.0</td>\n",
              "      <td>1.000000</td>\n",
              "    </tr>\n",
              "    <tr>\n",
              "      <th>number of pupils per teacher</th>\n",
              "      <td>0.000000</td>\n",
              "      <td>0.000000</td>\n",
              "      <td>0.000000</td>\n",
              "      <td>0.000000</td>\n",
              "      <td>0.0</td>\n",
              "      <td>0.000000</td>\n",
              "    </tr>\n",
              "    <tr>\n",
              "      <th>property price</th>\n",
              "      <td>0.395027</td>\n",
              "      <td>-0.201292</td>\n",
              "      <td>0.639508</td>\n",
              "      <td>1.000000</td>\n",
              "      <td>0.0</td>\n",
              "      <td>1.000000</td>\n",
              "    </tr>\n",
              "  </tbody>\n",
              "</table>\n",
              "</div>\n",
              "      <button class=\"colab-df-convert\" onclick=\"convertToInteractive('df-0962c9cd-6be5-445c-853a-cbdd9922d0b0')\"\n",
              "              title=\"Convert this dataframe to an interactive table.\"\n",
              "              style=\"display:none;\">\n",
              "        \n",
              "  <svg xmlns=\"http://www.w3.org/2000/svg\" height=\"24px\"viewBox=\"0 0 24 24\"\n",
              "       width=\"24px\">\n",
              "    <path d=\"M0 0h24v24H0V0z\" fill=\"none\"/>\n",
              "    <path d=\"M18.56 5.44l.94 2.06.94-2.06 2.06-.94-2.06-.94-.94-2.06-.94 2.06-2.06.94zm-11 1L8.5 8.5l.94-2.06 2.06-.94-2.06-.94L8.5 2.5l-.94 2.06-2.06.94zm10 10l.94 2.06.94-2.06 2.06-.94-2.06-.94-.94-2.06-.94 2.06-2.06.94z\"/><path d=\"M17.41 7.96l-1.37-1.37c-.4-.4-.92-.59-1.43-.59-.52 0-1.04.2-1.43.59L10.3 9.45l-7.72 7.72c-.78.78-.78 2.05 0 2.83L4 21.41c.39.39.9.59 1.41.59.51 0 1.02-.2 1.41-.59l7.78-7.78 2.81-2.81c.8-.78.8-2.07 0-2.86zM5.41 20L4 18.59l7.72-7.72 1.47 1.35L5.41 20z\"/>\n",
              "  </svg>\n",
              "      </button>\n",
              "      \n",
              "  <style>\n",
              "    .colab-df-container {\n",
              "      display:flex;\n",
              "      flex-wrap:wrap;\n",
              "      gap: 12px;\n",
              "    }\n",
              "\n",
              "    .colab-df-convert {\n",
              "      background-color: #E8F0FE;\n",
              "      border: none;\n",
              "      border-radius: 50%;\n",
              "      cursor: pointer;\n",
              "      display: none;\n",
              "      fill: #1967D2;\n",
              "      height: 32px;\n",
              "      padding: 0 0 0 0;\n",
              "      width: 32px;\n",
              "    }\n",
              "\n",
              "    .colab-df-convert:hover {\n",
              "      background-color: #E2EBFA;\n",
              "      box-shadow: 0px 1px 2px rgba(60, 64, 67, 0.3), 0px 1px 3px 1px rgba(60, 64, 67, 0.15);\n",
              "      fill: #174EA6;\n",
              "    }\n",
              "\n",
              "    [theme=dark] .colab-df-convert {\n",
              "      background-color: #3B4455;\n",
              "      fill: #D2E3FC;\n",
              "    }\n",
              "\n",
              "    [theme=dark] .colab-df-convert:hover {\n",
              "      background-color: #434B5C;\n",
              "      box-shadow: 0px 1px 3px 1px rgba(0, 0, 0, 0.15);\n",
              "      filter: drop-shadow(0px 1px 2px rgba(0, 0, 0, 0.3));\n",
              "      fill: #FFFFFF;\n",
              "    }\n",
              "  </style>\n",
              "\n",
              "      <script>\n",
              "        const buttonEl =\n",
              "          document.querySelector('#df-0962c9cd-6be5-445c-853a-cbdd9922d0b0 button.colab-df-convert');\n",
              "        buttonEl.style.display =\n",
              "          google.colab.kernel.accessAllowed ? 'block' : 'none';\n",
              "\n",
              "        async function convertToInteractive(key) {\n",
              "          const element = document.querySelector('#df-0962c9cd-6be5-445c-853a-cbdd9922d0b0');\n",
              "          const dataTable =\n",
              "            await google.colab.kernel.invokeFunction('convertToInteractive',\n",
              "                                                     [key], {});\n",
              "          if (!dataTable) return;\n",
              "\n",
              "          const docLinkHtml = 'Like what you see? Visit the ' +\n",
              "            '<a target=\"_blank\" href=https://colab.research.google.com/notebooks/data_table.ipynb>data table notebook</a>'\n",
              "            + ' to learn more about interactive tables.';\n",
              "          element.innerHTML = '';\n",
              "          dataTable['output_type'] = 'display_data';\n",
              "          await google.colab.output.renderOutput(dataTable, element);\n",
              "          const docLink = document.createElement('div');\n",
              "          docLink.innerHTML = docLinkHtml;\n",
              "          element.appendChild(docLink);\n",
              "        }\n",
              "      </script>\n",
              "    </div>\n",
              "  </div>\n",
              "  "
            ]
          },
          "metadata": {},
          "execution_count": 20
        }
      ]
    },
    {
      "cell_type": "markdown",
      "source": [
        "Now, detailed analysis of each parameter against property price will be carried out to determine the main parameters which upon which prices of properties is/are dependent in Bostos Hill."
      ],
      "metadata": {
        "id": "Z4PpDpZF1BOQ"
      }
    },
    {
      "cell_type": "code",
      "source": [
        "#filter to display the columns of only number of rooms and property price\n",
        "dataframe.head(7)[[\"number of rooms\", \"property price\"]]\n"
      ],
      "metadata": {
        "id": "qSSY0kCgeG6I",
        "colab": {
          "base_uri": "https://localhost:8080/",
          "height": 269
        },
        "outputId": "1eeccd5f-9c8c-4aff-b206-b681b473fc0d"
      },
      "execution_count": null,
      "outputs": [
        {
          "output_type": "execute_result",
          "data": {
            "text/plain": [
              "   number of rooms  property price\n",
              "0                6           14300\n",
              "1                6           11700\n",
              "2                7           13400\n",
              "3                6            9600\n",
              "4                6            8700\n",
              "5                6            8400\n",
              "6                6           12800"
            ],
            "text/html": [
              "\n",
              "  <div id=\"df-11db2d0c-03a8-4214-b219-491d4d0d96a1\">\n",
              "    <div class=\"colab-df-container\">\n",
              "      <div>\n",
              "<style scoped>\n",
              "    .dataframe tbody tr th:only-of-type {\n",
              "        vertical-align: middle;\n",
              "    }\n",
              "\n",
              "    .dataframe tbody tr th {\n",
              "        vertical-align: top;\n",
              "    }\n",
              "\n",
              "    .dataframe thead th {\n",
              "        text-align: right;\n",
              "    }\n",
              "</style>\n",
              "<table border=\"1\" class=\"dataframe\">\n",
              "  <thead>\n",
              "    <tr style=\"text-align: right;\">\n",
              "      <th></th>\n",
              "      <th>number of rooms</th>\n",
              "      <th>property price</th>\n",
              "    </tr>\n",
              "  </thead>\n",
              "  <tbody>\n",
              "    <tr>\n",
              "      <th>0</th>\n",
              "      <td>6</td>\n",
              "      <td>14300</td>\n",
              "    </tr>\n",
              "    <tr>\n",
              "      <th>1</th>\n",
              "      <td>6</td>\n",
              "      <td>11700</td>\n",
              "    </tr>\n",
              "    <tr>\n",
              "      <th>2</th>\n",
              "      <td>7</td>\n",
              "      <td>13400</td>\n",
              "    </tr>\n",
              "    <tr>\n",
              "      <th>3</th>\n",
              "      <td>6</td>\n",
              "      <td>9600</td>\n",
              "    </tr>\n",
              "    <tr>\n",
              "      <th>4</th>\n",
              "      <td>6</td>\n",
              "      <td>8700</td>\n",
              "    </tr>\n",
              "    <tr>\n",
              "      <th>5</th>\n",
              "      <td>6</td>\n",
              "      <td>8400</td>\n",
              "    </tr>\n",
              "    <tr>\n",
              "      <th>6</th>\n",
              "      <td>6</td>\n",
              "      <td>12800</td>\n",
              "    </tr>\n",
              "  </tbody>\n",
              "</table>\n",
              "</div>\n",
              "      <button class=\"colab-df-convert\" onclick=\"convertToInteractive('df-11db2d0c-03a8-4214-b219-491d4d0d96a1')\"\n",
              "              title=\"Convert this dataframe to an interactive table.\"\n",
              "              style=\"display:none;\">\n",
              "        \n",
              "  <svg xmlns=\"http://www.w3.org/2000/svg\" height=\"24px\"viewBox=\"0 0 24 24\"\n",
              "       width=\"24px\">\n",
              "    <path d=\"M0 0h24v24H0V0z\" fill=\"none\"/>\n",
              "    <path d=\"M18.56 5.44l.94 2.06.94-2.06 2.06-.94-2.06-.94-.94-2.06-.94 2.06-2.06.94zm-11 1L8.5 8.5l.94-2.06 2.06-.94-2.06-.94L8.5 2.5l-.94 2.06-2.06.94zm10 10l.94 2.06.94-2.06 2.06-.94-2.06-.94-.94-2.06-.94 2.06-2.06.94z\"/><path d=\"M17.41 7.96l-1.37-1.37c-.4-.4-.92-.59-1.43-.59-.52 0-1.04.2-1.43.59L10.3 9.45l-7.72 7.72c-.78.78-.78 2.05 0 2.83L4 21.41c.39.39.9.59 1.41.59.51 0 1.02-.2 1.41-.59l7.78-7.78 2.81-2.81c.8-.78.8-2.07 0-2.86zM5.41 20L4 18.59l7.72-7.72 1.47 1.35L5.41 20z\"/>\n",
              "  </svg>\n",
              "      </button>\n",
              "      \n",
              "  <style>\n",
              "    .colab-df-container {\n",
              "      display:flex;\n",
              "      flex-wrap:wrap;\n",
              "      gap: 12px;\n",
              "    }\n",
              "\n",
              "    .colab-df-convert {\n",
              "      background-color: #E8F0FE;\n",
              "      border: none;\n",
              "      border-radius: 50%;\n",
              "      cursor: pointer;\n",
              "      display: none;\n",
              "      fill: #1967D2;\n",
              "      height: 32px;\n",
              "      padding: 0 0 0 0;\n",
              "      width: 32px;\n",
              "    }\n",
              "\n",
              "    .colab-df-convert:hover {\n",
              "      background-color: #E2EBFA;\n",
              "      box-shadow: 0px 1px 2px rgba(60, 64, 67, 0.3), 0px 1px 3px 1px rgba(60, 64, 67, 0.15);\n",
              "      fill: #174EA6;\n",
              "    }\n",
              "\n",
              "    [theme=dark] .colab-df-convert {\n",
              "      background-color: #3B4455;\n",
              "      fill: #D2E3FC;\n",
              "    }\n",
              "\n",
              "    [theme=dark] .colab-df-convert:hover {\n",
              "      background-color: #434B5C;\n",
              "      box-shadow: 0px 1px 3px 1px rgba(0, 0, 0, 0.15);\n",
              "      filter: drop-shadow(0px 1px 2px rgba(0, 0, 0, 0.3));\n",
              "      fill: #FFFFFF;\n",
              "    }\n",
              "  </style>\n",
              "\n",
              "      <script>\n",
              "        const buttonEl =\n",
              "          document.querySelector('#df-11db2d0c-03a8-4214-b219-491d4d0d96a1 button.colab-df-convert');\n",
              "        buttonEl.style.display =\n",
              "          google.colab.kernel.accessAllowed ? 'block' : 'none';\n",
              "\n",
              "        async function convertToInteractive(key) {\n",
              "          const element = document.querySelector('#df-11db2d0c-03a8-4214-b219-491d4d0d96a1');\n",
              "          const dataTable =\n",
              "            await google.colab.kernel.invokeFunction('convertToInteractive',\n",
              "                                                     [key], {});\n",
              "          if (!dataTable) return;\n",
              "\n",
              "          const docLinkHtml = 'Like what you see? Visit the ' +\n",
              "            '<a target=\"_blank\" href=https://colab.research.google.com/notebooks/data_table.ipynb>data table notebook</a>'\n",
              "            + ' to learn more about interactive tables.';\n",
              "          element.innerHTML = '';\n",
              "          dataTable['output_type'] = 'display_data';\n",
              "          await google.colab.output.renderOutput(dataTable, element);\n",
              "          const docLink = document.createElement('div');\n",
              "          docLink.innerHTML = docLinkHtml;\n",
              "          element.appendChild(docLink);\n",
              "        }\n",
              "      </script>\n",
              "    </div>\n",
              "  </div>\n",
              "  "
            ]
          },
          "metadata": {},
          "execution_count": 21
        }
      ]
    },
    {
      "cell_type": "code",
      "source": [
        "#create scatterplot with regression line. The syntax ci=None means confidence interval is not shown.\n",
        "sns.regplot(dataframe.head(7)['property price'], dataframe.head(7)['number of rooms'], ci=None, color=\"red\")"
      ],
      "metadata": {
        "colab": {
          "base_uri": "https://localhost:8080/",
          "height": 351
        },
        "id": "UA5OQk8ACm5R",
        "outputId": "1a2b256f-0743-4a10-be0b-764a768de2be"
      },
      "execution_count": null,
      "outputs": [
        {
          "output_type": "stream",
          "name": "stderr",
          "text": [
            "/usr/local/lib/python3.7/dist-packages/seaborn/_decorators.py:43: FutureWarning: Pass the following variables as keyword args: x, y. From version 0.12, the only valid positional argument will be `data`, and passing other arguments without an explicit keyword will result in an error or misinterpretation.\n",
            "  FutureWarning\n"
          ]
        },
        {
          "output_type": "execute_result",
          "data": {
            "text/plain": [
              "<matplotlib.axes._subplots.AxesSubplot at 0x7fea9b934c10>"
            ]
          },
          "metadata": {},
          "execution_count": 22
        },
        {
          "output_type": "display_data",
          "data": {
            "text/plain": [
              "<Figure size 432x288 with 1 Axes>"
            ],
            "image/png": "[encoded data removed]"
          },
          "metadata": {
            "needs_background": "light"
          }
        }
      ]
    },
    {
      "cell_type": "markdown",
      "metadata": {
        "id": "Ld6RZtYfdrTl"
      },
      "source": [
        "From the graph above, there is a very weak correlation between the number of rooms and property price in Boston Hill as there are no points on the regression line. The correlation coefficient is (R) **0.395027** (seen in **corr_Boston table** above). This implies that the number of rooms in a property located in Boston Hill has little significance in the price estimation. As seen above, property 1 with 6 rooms has price of £13400 while property 5 with same number of rooms has a price of £8400.\n",
        "\n",
        "\n",
        "\n",
        "\n",
        "\n"
      ]
    },
    {
      "cell_type": "code",
      "source": [
        "#filter to display the columns of only property price and age of property\n",
        "dataframe.head(7)[[\"age of property\", \"property price\"]]\n"
      ],
      "metadata": {
        "id": "R1nkMYKSyEGn",
        "colab": {
          "base_uri": "https://localhost:8080/",
          "height": 269
        },
        "outputId": "45a16da8-1dd6-476b-d905-8db6e2c3e69f"
      },
      "execution_count": null,
      "outputs": [
        {
          "output_type": "execute_result",
          "data": {
            "text/plain": [
              "   age of property  property price\n",
              "0               88           14300\n",
              "1               95           11700\n",
              "2               95           13400\n",
              "3               93            9600\n",
              "4              100            8700\n",
              "5               88            8400\n",
              "6               94           12800"
            ],
            "text/html": [
              "\n",
              "  <div id=\"df-fd1107bc-887d-4a20-9bab-eff0bb440267\">\n",
              "    <div class=\"colab-df-container\">\n",
              "      <div>\n",
              "<style scoped>\n",
              "    .dataframe tbody tr th:only-of-type {\n",
              "        vertical-align: middle;\n",
              "    }\n",
              "\n",
              "    .dataframe tbody tr th {\n",
              "        vertical-align: top;\n",
              "    }\n",
              "\n",
              "    .dataframe thead th {\n",
              "        text-align: right;\n",
              "    }\n",
              "</style>\n",
              "<table border=\"1\" class=\"dataframe\">\n",
              "  <thead>\n",
              "    <tr style=\"text-align: right;\">\n",
              "      <th></th>\n",
              "      <th>age of property</th>\n",
              "      <th>property price</th>\n",
              "    </tr>\n",
              "  </thead>\n",
              "  <tbody>\n",
              "    <tr>\n",
              "      <th>0</th>\n",
              "      <td>88</td>\n",
              "      <td>14300</td>\n",
              "    </tr>\n",
              "    <tr>\n",
              "      <th>1</th>\n",
              "      <td>95</td>\n",
              "      <td>11700</td>\n",
              "    </tr>\n",
              "    <tr>\n",
              "      <th>2</th>\n",
              "      <td>95</td>\n",
              "      <td>13400</td>\n",
              "    </tr>\n",
              "    <tr>\n",
              "      <th>3</th>\n",
              "      <td>93</td>\n",
              "      <td>9600</td>\n",
              "    </tr>\n",
              "    <tr>\n",
              "      <th>4</th>\n",
              "      <td>100</td>\n",
              "      <td>8700</td>\n",
              "    </tr>\n",
              "    <tr>\n",
              "      <th>5</th>\n",
              "      <td>88</td>\n",
              "      <td>8400</td>\n",
              "    </tr>\n",
              "    <tr>\n",
              "      <th>6</th>\n",
              "      <td>94</td>\n",
              "      <td>12800</td>\n",
              "    </tr>\n",
              "  </tbody>\n",
              "</table>\n",
              "</div>\n",
              "      <button class=\"colab-df-convert\" onclick=\"convertToInteractive('df-fd1107bc-887d-4a20-9bab-eff0bb440267')\"\n",
              "              title=\"Convert this dataframe to an interactive table.\"\n",
              "              style=\"display:none;\">\n",
              "        \n",
              "  <svg xmlns=\"http://www.w3.org/2000/svg\" height=\"24px\"viewBox=\"0 0 24 24\"\n",
              "       width=\"24px\">\n",
              "    <path d=\"M0 0h24v24H0V0z\" fill=\"none\"/>\n",
              "    <path d=\"M18.56 5.44l.94 2.06.94-2.06 2.06-.94-2.06-.94-.94-2.06-.94 2.06-2.06.94zm-11 1L8.5 8.5l.94-2.06 2.06-.94-2.06-.94L8.5 2.5l-.94 2.06-2.06.94zm10 10l.94 2.06.94-2.06 2.06-.94-2.06-.94-.94-2.06-.94 2.06-2.06.94z\"/><path d=\"M17.41 7.96l-1.37-1.37c-.4-.4-.92-.59-1.43-.59-.52 0-1.04.2-1.43.59L10.3 9.45l-7.72 7.72c-.78.78-.78 2.05 0 2.83L4 21.41c.39.39.9.59 1.41.59.51 0 1.02-.2 1.41-.59l7.78-7.78 2.81-2.81c.8-.78.8-2.07 0-2.86zM5.41 20L4 18.59l7.72-7.72 1.47 1.35L5.41 20z\"/>\n",
              "  </svg>\n",
              "      </button>\n",
              "      \n",
              "  <style>\n",
              "    .colab-df-container {\n",
              "      display:flex;\n",
              "      flex-wrap:wrap;\n",
              "      gap: 12px;\n",
              "    }\n",
              "\n",
              "    .colab-df-convert {\n",
              "      background-color: #E8F0FE;\n",
              "      border: none;\n",
              "      border-radius: 50%;\n",
              "      cursor: pointer;\n",
              "      display: none;\n",
              "      fill: #1967D2;\n",
              "      height: 32px;\n",
              "      padding: 0 0 0 0;\n",
              "      width: 32px;\n",
              "    }\n",
              "\n",
              "    .colab-df-convert:hover {\n",
              "      background-color: #E2EBFA;\n",
              "      box-shadow: 0px 1px 2px rgba(60, 64, 67, 0.3), 0px 1px 3px 1px rgba(60, 64, 67, 0.15);\n",
              "      fill: #174EA6;\n",
              "    }\n",
              "\n",
              "    [theme=dark] .colab-df-convert {\n",
              "      background-color: #3B4455;\n",
              "      fill: #D2E3FC;\n",
              "    }\n",
              "\n",
              "    [theme=dark] .colab-df-convert:hover {\n",
              "      background-color: #434B5C;\n",
              "      box-shadow: 0px 1px 3px 1px rgba(0, 0, 0, 0.15);\n",
              "      filter: drop-shadow(0px 1px 2px rgba(0, 0, 0, 0.3));\n",
              "      fill: #FFFFFF;\n",
              "    }\n",
              "  </style>\n",
              "\n",
              "      <script>\n",
              "        const buttonEl =\n",
              "          document.querySelector('#df-fd1107bc-887d-4a20-9bab-eff0bb440267 button.colab-df-convert');\n",
              "        buttonEl.style.display =\n",
              "          google.colab.kernel.accessAllowed ? 'block' : 'none';\n",
              "\n",
              "        async function convertToInteractive(key) {\n",
              "          const element = document.querySelector('#df-fd1107bc-887d-4a20-9bab-eff0bb440267');\n",
              "          const dataTable =\n",
              "            await google.colab.kernel.invokeFunction('convertToInteractive',\n",
              "                                                     [key], {});\n",
              "          if (!dataTable) return;\n",
              "\n",
              "          const docLinkHtml = 'Like what you see? Visit the ' +\n",
              "            '<a target=\"_blank\" href=https://colab.research.google.com/notebooks/data_table.ipynb>data table notebook</a>'\n",
              "            + ' to learn more about interactive tables.';\n",
              "          element.innerHTML = '';\n",
              "          dataTable['output_type'] = 'display_data';\n",
              "          await google.colab.output.renderOutput(dataTable, element);\n",
              "          const docLink = document.createElement('div');\n",
              "          docLink.innerHTML = docLinkHtml;\n",
              "          element.appendChild(docLink);\n",
              "        }\n",
              "      </script>\n",
              "    </div>\n",
              "  </div>\n",
              "  "
            ]
          },
          "metadata": {},
          "execution_count": 23
        }
      ]
    },
    {
      "cell_type": "code",
      "source": [
        "\n",
        "#create scatterplot with regression line. The syntax ci=None means confidence interval is not shown.\n",
        "sns.regplot(dataframe.head(7)['property price'], dataframe.head(7)['age of property'], ci=None, color=\"green\")"
      ],
      "metadata": {
        "colab": {
          "base_uri": "https://localhost:8080/",
          "height": 351
        },
        "id": "v9odn7X-EQWa",
        "outputId": "81df69eb-329a-4a8e-fa38-703e259a7887"
      },
      "execution_count": null,
      "outputs": [
        {
          "output_type": "stream",
          "name": "stderr",
          "text": [
            "/usr/local/lib/python3.7/dist-packages/seaborn/_decorators.py:43: FutureWarning: Pass the following variables as keyword args: x, y. From version 0.12, the only valid positional argument will be `data`, and passing other arguments without an explicit keyword will result in an error or misinterpretation.\n",
            "  FutureWarning\n"
          ]
        },
        {
          "output_type": "execute_result",
          "data": {
            "text/plain": [
              "<matplotlib.axes._subplots.AxesSubplot at 0x7fea9b87d310>"
            ]
          },
          "metadata": {},
          "execution_count": 24
        },
        {
          "output_type": "display_data",
          "data": {
            "text/plain": [
              "<Figure size 432x288 with 1 Axes>"
            ],
            "image/png": "[encoded data removed]"
          },
          "metadata": {
            "needs_background": "light"
          }
        }
      ]
    },
    {
      "cell_type": "markdown",
      "metadata": {
        "id": "zrHTc7IGeBVO"
      },
      "source": [
        "The graph above shows that there is a weak negative correlation between the price of property and the age of property in Boston Hill with a correlation coefficient of (R)**-0.201292**. It can be inferred from the graph that older the property, the lower the price and vice versa. Example; property 0 (88 years) has price of £14300 while property 5 of same age has price of £8400 but this is not significant in price determination as it has a low correlation value of **-0.201.**\n",
        " \n",
        "\n"
      ]
    },
    {
      "cell_type": "code",
      "source": [
        "dataframe.head(7)[[\"number of pupils per teacher\", \"property price\"]]\n",
        "#filter to display the columns of only property price and number of pupils per tutor"
      ],
      "metadata": {
        "id": "x_BCBGbDycqH",
        "colab": {
          "base_uri": "https://localhost:8080/",
          "height": 269
        },
        "outputId": "19099012-5634-4131-e763-03a7874e0d6f"
      },
      "execution_count": null,
      "outputs": [
        {
          "output_type": "execute_result",
          "data": {
            "text/plain": [
              "   number of pupils per teacher  property price\n",
              "0                            20           14300\n",
              "1                            20           11700\n",
              "2                            20           13400\n",
              "3                            20            9600\n",
              "4                            20            8700\n",
              "5                            20            8400\n",
              "6                            20           12800"
            ],
            "text/html": [
              "\n",
              "  <div id=\"df-a1ba5629-050f-406c-9fa3-a75521a8513a\">\n",
              "    <div class=\"colab-df-container\">\n",
              "      <div>\n",
              "<style scoped>\n",
              "    .dataframe tbody tr th:only-of-type {\n",
              "        vertical-align: middle;\n",
              "    }\n",
              "\n",
              "    .dataframe tbody tr th {\n",
              "        vertical-align: top;\n",
              "    }\n",
              "\n",
              "    .dataframe thead th {\n",
              "        text-align: right;\n",
              "    }\n",
              "</style>\n",
              "<table border=\"1\" class=\"dataframe\">\n",
              "  <thead>\n",
              "    <tr style=\"text-align: right;\">\n",
              "      <th></th>\n",
              "      <th>number of pupils per teacher</th>\n",
              "      <th>property price</th>\n",
              "    </tr>\n",
              "  </thead>\n",
              "  <tbody>\n",
              "    <tr>\n",
              "      <th>0</th>\n",
              "      <td>20</td>\n",
              "      <td>14300</td>\n",
              "    </tr>\n",
              "    <tr>\n",
              "      <th>1</th>\n",
              "      <td>20</td>\n",
              "      <td>11700</td>\n",
              "    </tr>\n",
              "    <tr>\n",
              "      <th>2</th>\n",
              "      <td>20</td>\n",
              "      <td>13400</td>\n",
              "    </tr>\n",
              "    <tr>\n",
              "      <th>3</th>\n",
              "      <td>20</td>\n",
              "      <td>9600</td>\n",
              "    </tr>\n",
              "    <tr>\n",
              "      <th>4</th>\n",
              "      <td>20</td>\n",
              "      <td>8700</td>\n",
              "    </tr>\n",
              "    <tr>\n",
              "      <th>5</th>\n",
              "      <td>20</td>\n",
              "      <td>8400</td>\n",
              "    </tr>\n",
              "    <tr>\n",
              "      <th>6</th>\n",
              "      <td>20</td>\n",
              "      <td>12800</td>\n",
              "    </tr>\n",
              "  </tbody>\n",
              "</table>\n",
              "</div>\n",
              "      <button class=\"colab-df-convert\" onclick=\"convertToInteractive('df-a1ba5629-050f-406c-9fa3-a75521a8513a')\"\n",
              "              title=\"Convert this dataframe to an interactive table.\"\n",
              "              style=\"display:none;\">\n",
              "        \n",
              "  <svg xmlns=\"http://www.w3.org/2000/svg\" height=\"24px\"viewBox=\"0 0 24 24\"\n",
              "       width=\"24px\">\n",
              "    <path d=\"M0 0h24v24H0V0z\" fill=\"none\"/>\n",
              "    <path d=\"M18.56 5.44l.94 2.06.94-2.06 2.06-.94-2.06-.94-.94-2.06-.94 2.06-2.06.94zm-11 1L8.5 8.5l.94-2.06 2.06-.94-2.06-.94L8.5 2.5l-.94 2.06-2.06.94zm10 10l.94 2.06.94-2.06 2.06-.94-2.06-.94-.94-2.06-.94 2.06-2.06.94z\"/><path d=\"M17.41 7.96l-1.37-1.37c-.4-.4-.92-.59-1.43-.59-.52 0-1.04.2-1.43.59L10.3 9.45l-7.72 7.72c-.78.78-.78 2.05 0 2.83L4 21.41c.39.39.9.59 1.41.59.51 0 1.02-.2 1.41-.59l7.78-7.78 2.81-2.81c.8-.78.8-2.07 0-2.86zM5.41 20L4 18.59l7.72-7.72 1.47 1.35L5.41 20z\"/>\n",
              "  </svg>\n",
              "      </button>\n",
              "      \n",
              "  <style>\n",
              "    .colab-df-container {\n",
              "      display:flex;\n",
              "      flex-wrap:wrap;\n",
              "      gap: 12px;\n",
              "    }\n",
              "\n",
              "    .colab-df-convert {\n",
              "      background-color: #E8F0FE;\n",
              "      border: none;\n",
              "      border-radius: 50%;\n",
              "      cursor: pointer;\n",
              "      display: none;\n",
              "      fill: #1967D2;\n",
              "      height: 32px;\n",
              "      padding: 0 0 0 0;\n",
              "      width: 32px;\n",
              "    }\n",
              "\n",
              "    .colab-df-convert:hover {\n",
              "      background-color: #E2EBFA;\n",
              "      box-shadow: 0px 1px 2px rgba(60, 64, 67, 0.3), 0px 1px 3px 1px rgba(60, 64, 67, 0.15);\n",
              "      fill: #174EA6;\n",
              "    }\n",
              "\n",
              "    [theme=dark] .colab-df-convert {\n",
              "      background-color: #3B4455;\n",
              "      fill: #D2E3FC;\n",
              "    }\n",
              "\n",
              "    [theme=dark] .colab-df-convert:hover {\n",
              "      background-color: #434B5C;\n",
              "      box-shadow: 0px 1px 3px 1px rgba(0, 0, 0, 0.15);\n",
              "      filter: drop-shadow(0px 1px 2px rgba(0, 0, 0, 0.3));\n",
              "      fill: #FFFFFF;\n",
              "    }\n",
              "  </style>\n",
              "\n",
              "      <script>\n",
              "        const buttonEl =\n",
              "          document.querySelector('#df-a1ba5629-050f-406c-9fa3-a75521a8513a button.colab-df-convert');\n",
              "        buttonEl.style.display =\n",
              "          google.colab.kernel.accessAllowed ? 'block' : 'none';\n",
              "\n",
              "        async function convertToInteractive(key) {\n",
              "          const element = document.querySelector('#df-a1ba5629-050f-406c-9fa3-a75521a8513a');\n",
              "          const dataTable =\n",
              "            await google.colab.kernel.invokeFunction('convertToInteractive',\n",
              "                                                     [key], {});\n",
              "          if (!dataTable) return;\n",
              "\n",
              "          const docLinkHtml = 'Like what you see? Visit the ' +\n",
              "            '<a target=\"_blank\" href=https://colab.research.google.com/notebooks/data_table.ipynb>data table notebook</a>'\n",
              "            + ' to learn more about interactive tables.';\n",
              "          element.innerHTML = '';\n",
              "          dataTable['output_type'] = 'display_data';\n",
              "          await google.colab.output.renderOutput(dataTable, element);\n",
              "          const docLink = document.createElement('div');\n",
              "          docLink.innerHTML = docLinkHtml;\n",
              "          element.appendChild(docLink);\n",
              "        }\n",
              "      </script>\n",
              "    </div>\n",
              "  </div>\n",
              "  "
            ]
          },
          "metadata": {},
          "execution_count": 25
        }
      ]
    },
    {
      "cell_type": "code",
      "source": [
        "# Using a multigraph to illustrate correlation between the property price and number of pupils per tutor other than scatter graph.\n",
        "\n",
        "#ratio is a variable to list the towns in Boston Hill\n",
        "ratio=[\"town 1\",\"town 2\",\"town 3\",\"town 4\",\"town 5\",\"town 6\",\"town 7\",]\n",
        "\n",
        "number_of_pupils=[20,20,20,20,20,20,20]\n",
        "property_price=[14300,11700,13400,9600,8700,8400,12800]\n",
        "\n",
        "\n",
        "#plotting ratio against number of pupils\n",
        "plt.plot(ratio,number_of_pupils,label='pupils')\n",
        "\n",
        "#plotting ratio against property price\n",
        "plt.plot(ratio,property_price,label='price')\n",
        "\n",
        "#the attribute loc=best in the legend function puts the orange and blue color label in the best view of the graph.\n",
        "plt.legend(loc='best')\n",
        "\n",
        "plt.title(\"Multigraph showing correlation of property price and age of property in Boston \")\n",
        "plt.show()\n"
      ],
      "metadata": {
        "id": "DDgEeGQrqYSx",
        "colab": {
          "base_uri": "https://localhost:8080/",
          "height": 281
        },
        "outputId": "f89dd372-06e7-4fff-ffd7-2fab67999f38"
      },
      "execution_count": null,
      "outputs": [
        {
          "output_type": "display_data",
          "data": {
            "text/plain": [
              "<Figure size 432x288 with 1 Axes>"
            ],
            "image/png": "[encoded data removed]"
          },
          "metadata": {
            "needs_background": "light"
          }
        }
      ]
    },
    {
      "cell_type": "markdown",
      "source": [
        "The graph illustrates that at a constant number of pupils per tutor (20), the price of properties in Boston varies at each town. This implies that there is zero correlation of these two parameters and that the property is completely independent of number of pupils per student."
      ],
      "metadata": {
        "id": "8ar4EX7QiJlz"
      }
    },
    {
      "cell_type": "code",
      "source": [
        "#filter to display the columns of only property price and distance to nearest town centre\n",
        "dataframe.head(7)[[\"distance to nearest town centre\", \"property price\"]]\n"
      ],
      "metadata": {
        "id": "L3IP7RP9yuuN",
        "colab": {
          "base_uri": "https://localhost:8080/",
          "height": 269
        },
        "outputId": "fe1c857c-74b4-4360-ca05-a0f6edd32acc"
      },
      "execution_count": null,
      "outputs": [
        {
          "output_type": "execute_result",
          "data": {
            "text/plain": [
              "   distance to nearest town centre  property price\n",
              "0                             2.32           14300\n",
              "1                             2.22           11700\n",
              "2                             2.12           13400\n",
              "3                             2.00            9600\n",
              "4                             1.91            8700\n",
              "5                             1.82            8400\n",
              "6                             1.82           12800"
            ],
            "text/html": [
              "\n",
              "  <div id=\"df-9fbcafcc-0f4a-42d5-a3ea-644c5eec985f\">\n",
              "    <div class=\"colab-df-container\">\n",
              "      <div>\n",
              "<style scoped>\n",
              "    .dataframe tbody tr th:only-of-type {\n",
              "        vertical-align: middle;\n",
              "    }\n",
              "\n",
              "    .dataframe tbody tr th {\n",
              "        vertical-align: top;\n",
              "    }\n",
              "\n",
              "    .dataframe thead th {\n",
              "        text-align: right;\n",
              "    }\n",
              "</style>\n",
              "<table border=\"1\" class=\"dataframe\">\n",
              "  <thead>\n",
              "    <tr style=\"text-align: right;\">\n",
              "      <th></th>\n",
              "      <th>distance to nearest town centre</th>\n",
              "      <th>property price</th>\n",
              "    </tr>\n",
              "  </thead>\n",
              "  <tbody>\n",
              "    <tr>\n",
              "      <th>0</th>\n",
              "      <td>2.32</td>\n",
              "      <td>14300</td>\n",
              "    </tr>\n",
              "    <tr>\n",
              "      <th>1</th>\n",
              "      <td>2.22</td>\n",
              "      <td>11700</td>\n",
              "    </tr>\n",
              "    <tr>\n",
              "      <th>2</th>\n",
              "      <td>2.12</td>\n",
              "      <td>13400</td>\n",
              "    </tr>\n",
              "    <tr>\n",
              "      <th>3</th>\n",
              "      <td>2.00</td>\n",
              "      <td>9600</td>\n",
              "    </tr>\n",
              "    <tr>\n",
              "      <th>4</th>\n",
              "      <td>1.91</td>\n",
              "      <td>8700</td>\n",
              "    </tr>\n",
              "    <tr>\n",
              "      <th>5</th>\n",
              "      <td>1.82</td>\n",
              "      <td>8400</td>\n",
              "    </tr>\n",
              "    <tr>\n",
              "      <th>6</th>\n",
              "      <td>1.82</td>\n",
              "      <td>12800</td>\n",
              "    </tr>\n",
              "  </tbody>\n",
              "</table>\n",
              "</div>\n",
              "      <button class=\"colab-df-convert\" onclick=\"convertToInteractive('df-9fbcafcc-0f4a-42d5-a3ea-644c5eec985f')\"\n",
              "              title=\"Convert this dataframe to an interactive table.\"\n",
              "              style=\"display:none;\">\n",
              "        \n",
              "  <svg xmlns=\"http://www.w3.org/2000/svg\" height=\"24px\"viewBox=\"0 0 24 24\"\n",
              "       width=\"24px\">\n",
              "    <path d=\"M0 0h24v24H0V0z\" fill=\"none\"/>\n",
              "    <path d=\"M18.56 5.44l.94 2.06.94-2.06 2.06-.94-2.06-.94-.94-2.06-.94 2.06-2.06.94zm-11 1L8.5 8.5l.94-2.06 2.06-.94-2.06-.94L8.5 2.5l-.94 2.06-2.06.94zm10 10l.94 2.06.94-2.06 2.06-.94-2.06-.94-.94-2.06-.94 2.06-2.06.94z\"/><path d=\"M17.41 7.96l-1.37-1.37c-.4-.4-.92-.59-1.43-.59-.52 0-1.04.2-1.43.59L10.3 9.45l-7.72 7.72c-.78.78-.78 2.05 0 2.83L4 21.41c.39.39.9.59 1.41.59.51 0 1.02-.2 1.41-.59l7.78-7.78 2.81-2.81c.8-.78.8-2.07 0-2.86zM5.41 20L4 18.59l7.72-7.72 1.47 1.35L5.41 20z\"/>\n",
              "  </svg>\n",
              "      </button>\n",
              "      \n",
              "  <style>\n",
              "    .colab-df-container {\n",
              "      display:flex;\n",
              "      flex-wrap:wrap;\n",
              "      gap: 12px;\n",
              "    }\n",
              "\n",
              "    .colab-df-convert {\n",
              "      background-color: #E8F0FE;\n",
              "      border: none;\n",
              "      border-radius: 50%;\n",
              "      cursor: pointer;\n",
              "      display: none;\n",
              "      fill: #1967D2;\n",
              "      height: 32px;\n",
              "      padding: 0 0 0 0;\n",
              "      width: 32px;\n",
              "    }\n",
              "\n",
              "    .colab-df-convert:hover {\n",
              "      background-color: #E2EBFA;\n",
              "      box-shadow: 0px 1px 2px rgba(60, 64, 67, 0.3), 0px 1px 3px 1px rgba(60, 64, 67, 0.15);\n",
              "      fill: #174EA6;\n",
              "    }\n",
              "\n",
              "    [theme=dark] .colab-df-convert {\n",
              "      background-color: #3B4455;\n",
              "      fill: #D2E3FC;\n",
              "    }\n",
              "\n",
              "    [theme=dark] .colab-df-convert:hover {\n",
              "      background-color: #434B5C;\n",
              "      box-shadow: 0px 1px 3px 1px rgba(0, 0, 0, 0.15);\n",
              "      filter: drop-shadow(0px 1px 2px rgba(0, 0, 0, 0.3));\n",
              "      fill: #FFFFFF;\n",
              "    }\n",
              "  </style>\n",
              "\n",
              "      <script>\n",
              "        const buttonEl =\n",
              "          document.querySelector('#df-9fbcafcc-0f4a-42d5-a3ea-644c5eec985f button.colab-df-convert');\n",
              "        buttonEl.style.display =\n",
              "          google.colab.kernel.accessAllowed ? 'block' : 'none';\n",
              "\n",
              "        async function convertToInteractive(key) {\n",
              "          const element = document.querySelector('#df-9fbcafcc-0f4a-42d5-a3ea-644c5eec985f');\n",
              "          const dataTable =\n",
              "            await google.colab.kernel.invokeFunction('convertToInteractive',\n",
              "                                                     [key], {});\n",
              "          if (!dataTable) return;\n",
              "\n",
              "          const docLinkHtml = 'Like what you see? Visit the ' +\n",
              "            '<a target=\"_blank\" href=https://colab.research.google.com/notebooks/data_table.ipynb>data table notebook</a>'\n",
              "            + ' to learn more about interactive tables.';\n",
              "          element.innerHTML = '';\n",
              "          dataTable['output_type'] = 'display_data';\n",
              "          await google.colab.output.renderOutput(dataTable, element);\n",
              "          const docLink = document.createElement('div');\n",
              "          docLink.innerHTML = docLinkHtml;\n",
              "          element.appendChild(docLink);\n",
              "        }\n",
              "      </script>\n",
              "    </div>\n",
              "  </div>\n",
              "  "
            ]
          },
          "metadata": {},
          "execution_count": 27
        }
      ]
    },
    {
      "cell_type": "code",
      "source": [
        "\n",
        "\n",
        "#create scatterplot with regression line. The syntax has confidence interval shown because \"ci=None\" is absent.\n",
        "sns.regplot(dataframe.head(7)['property price'], dataframe.head(7)['distance to nearest town centre'], color=\"black\")"
      ],
      "metadata": {
        "colab": {
          "base_uri": "https://localhost:8080/",
          "height": 351
        },
        "id": "Nh2cilB2E2of",
        "outputId": "a990c827-b516-4887-954c-254052ef8422"
      },
      "execution_count": null,
      "outputs": [
        {
          "output_type": "stream",
          "name": "stderr",
          "text": [
            "/usr/local/lib/python3.7/dist-packages/seaborn/_decorators.py:43: FutureWarning: Pass the following variables as keyword args: x, y. From version 0.12, the only valid positional argument will be `data`, and passing other arguments without an explicit keyword will result in an error or misinterpretation.\n",
            "  FutureWarning\n"
          ]
        },
        {
          "output_type": "execute_result",
          "data": {
            "text/plain": [
              "<matplotlib.axes._subplots.AxesSubplot at 0x7fea9b7f9fd0>"
            ]
          },
          "metadata": {},
          "execution_count": 28
        },
        {
          "output_type": "display_data",
          "data": {
            "text/plain": [
              "<Figure size 432x288 with 1 Axes>"
            ],
            "image/png": "[encoded data removed]"
          },
          "metadata": {
            "needs_background": "light"
          }
        }
      ]
    },
    {
      "cell_type": "markdown",
      "metadata": {
        "id": "VUhmkT2aeah5"
      },
      "source": [
        "The graph above shows that there is a moderate positive correlation between the price of property and the distance from nearest town centre in Boston Hill as there are two points very close to the line of best fit and 3 other points in the confidence interval. The correlation coefficient is also high with a R = **0.639508.** This means the closer the property to the nearest town centre,\n",
        "the higher its price and vice versa. It is seen from the dataset that property 6 in Boston which is 1.82km away from the town centre is more expensive than properties 3,1 and 4 which are 2.22km,2.00km and 1.91km far from the town centre respectively.\n"
      ]
    },
    {
      "cell_type": "code",
      "source": [
        "#filter to display the columns of only property price and property tax per year\n",
        "dataframe.head(7)[[\"property tax per year\", \"property price\"]]\n"
      ],
      "metadata": {
        "id": "J5yulvXtzcU7",
        "colab": {
          "base_uri": "https://localhost:8080/",
          "height": 269
        },
        "outputId": "eea0abab-28a2-4717-b2e5-732cb82b914b"
      },
      "execution_count": null,
      "outputs": [
        {
          "output_type": "execute_result",
          "data": {
            "text/plain": [
              "   property tax per year  property price\n",
              "0                 952.38           14300\n",
              "1                 779.22           11700\n",
              "2                 892.44           13400\n",
              "3                 639.36            9600\n",
              "4                 579.42            8700\n",
              "5                 559.44            8400\n",
              "6                 852.48           12800"
            ],
            "text/html": [
              "\n",
              "  <div id=\"df-85cbfe79-0a52-4edb-b424-1148e0add31e\">\n",
              "    <div class=\"colab-df-container\">\n",
              "      <div>\n",
              "<style scoped>\n",
              "    .dataframe tbody tr th:only-of-type {\n",
              "        vertical-align: middle;\n",
              "    }\n",
              "\n",
              "    .dataframe tbody tr th {\n",
              "        vertical-align: top;\n",
              "    }\n",
              "\n",
              "    .dataframe thead th {\n",
              "        text-align: right;\n",
              "    }\n",
              "</style>\n",
              "<table border=\"1\" class=\"dataframe\">\n",
              "  <thead>\n",
              "    <tr style=\"text-align: right;\">\n",
              "      <th></th>\n",
              "      <th>property tax per year</th>\n",
              "      <th>property price</th>\n",
              "    </tr>\n",
              "  </thead>\n",
              "  <tbody>\n",
              "    <tr>\n",
              "      <th>0</th>\n",
              "      <td>952.38</td>\n",
              "      <td>14300</td>\n",
              "    </tr>\n",
              "    <tr>\n",
              "      <th>1</th>\n",
              "      <td>779.22</td>\n",
              "      <td>11700</td>\n",
              "    </tr>\n",
              "    <tr>\n",
              "      <th>2</th>\n",
              "      <td>892.44</td>\n",
              "      <td>13400</td>\n",
              "    </tr>\n",
              "    <tr>\n",
              "      <th>3</th>\n",
              "      <td>639.36</td>\n",
              "      <td>9600</td>\n",
              "    </tr>\n",
              "    <tr>\n",
              "      <th>4</th>\n",
              "      <td>579.42</td>\n",
              "      <td>8700</td>\n",
              "    </tr>\n",
              "    <tr>\n",
              "      <th>5</th>\n",
              "      <td>559.44</td>\n",
              "      <td>8400</td>\n",
              "    </tr>\n",
              "    <tr>\n",
              "      <th>6</th>\n",
              "      <td>852.48</td>\n",
              "      <td>12800</td>\n",
              "    </tr>\n",
              "  </tbody>\n",
              "</table>\n",
              "</div>\n",
              "      <button class=\"colab-df-convert\" onclick=\"convertToInteractive('df-85cbfe79-0a52-4edb-b424-1148e0add31e')\"\n",
              "              title=\"Convert this dataframe to an interactive table.\"\n",
              "              style=\"display:none;\">\n",
              "        \n",
              "  <svg xmlns=\"http://www.w3.org/2000/svg\" height=\"24px\"viewBox=\"0 0 24 24\"\n",
              "       width=\"24px\">\n",
              "    <path d=\"M0 0h24v24H0V0z\" fill=\"none\"/>\n",
              "    <path d=\"M18.56 5.44l.94 2.06.94-2.06 2.06-.94-2.06-.94-.94-2.06-.94 2.06-2.06.94zm-11 1L8.5 8.5l.94-2.06 2.06-.94-2.06-.94L8.5 2.5l-.94 2.06-2.06.94zm10 10l.94 2.06.94-2.06 2.06-.94-2.06-.94-.94-2.06-.94 2.06-2.06.94z\"/><path d=\"M17.41 7.96l-1.37-1.37c-.4-.4-.92-.59-1.43-.59-.52 0-1.04.2-1.43.59L10.3 9.45l-7.72 7.72c-.78.78-.78 2.05 0 2.83L4 21.41c.39.39.9.59 1.41.59.51 0 1.02-.2 1.41-.59l7.78-7.78 2.81-2.81c.8-.78.8-2.07 0-2.86zM5.41 20L4 18.59l7.72-7.72 1.47 1.35L5.41 20z\"/>\n",
              "  </svg>\n",
              "      </button>\n",
              "      \n",
              "  <style>\n",
              "    .colab-df-container {\n",
              "      display:flex;\n",
              "      flex-wrap:wrap;\n",
              "      gap: 12px;\n",
              "    }\n",
              "\n",
              "    .colab-df-convert {\n",
              "      background-color: #E8F0FE;\n",
              "      border: none;\n",
              "      border-radius: 50%;\n",
              "      cursor: pointer;\n",
              "      display: none;\n",
              "      fill: #1967D2;\n",
              "      height: 32px;\n",
              "      padding: 0 0 0 0;\n",
              "      width: 32px;\n",
              "    }\n",
              "\n",
              "    .colab-df-convert:hover {\n",
              "      background-color: #E2EBFA;\n",
              "      box-shadow: 0px 1px 2px rgba(60, 64, 67, 0.3), 0px 1px 3px 1px rgba(60, 64, 67, 0.15);\n",
              "      fill: #174EA6;\n",
              "    }\n",
              "\n",
              "    [theme=dark] .colab-df-convert {\n",
              "      background-color: #3B4455;\n",
              "      fill: #D2E3FC;\n",
              "    }\n",
              "\n",
              "    [theme=dark] .colab-df-convert:hover {\n",
              "      background-color: #434B5C;\n",
              "      box-shadow: 0px 1px 3px 1px rgba(0, 0, 0, 0.15);\n",
              "      filter: drop-shadow(0px 1px 2px rgba(0, 0, 0, 0.3));\n",
              "      fill: #FFFFFF;\n",
              "    }\n",
              "  </style>\n",
              "\n",
              "      <script>\n",
              "        const buttonEl =\n",
              "          document.querySelector('#df-85cbfe79-0a52-4edb-b424-1148e0add31e button.colab-df-convert');\n",
              "        buttonEl.style.display =\n",
              "          google.colab.kernel.accessAllowed ? 'block' : 'none';\n",
              "\n",
              "        async function convertToInteractive(key) {\n",
              "          const element = document.querySelector('#df-85cbfe79-0a52-4edb-b424-1148e0add31e');\n",
              "          const dataTable =\n",
              "            await google.colab.kernel.invokeFunction('convertToInteractive',\n",
              "                                                     [key], {});\n",
              "          if (!dataTable) return;\n",
              "\n",
              "          const docLinkHtml = 'Like what you see? Visit the ' +\n",
              "            '<a target=\"_blank\" href=https://colab.research.google.com/notebooks/data_table.ipynb>data table notebook</a>'\n",
              "            + ' to learn more about interactive tables.';\n",
              "          element.innerHTML = '';\n",
              "          dataTable['output_type'] = 'display_data';\n",
              "          await google.colab.output.renderOutput(dataTable, element);\n",
              "          const docLink = document.createElement('div');\n",
              "          docLink.innerHTML = docLinkHtml;\n",
              "          element.appendChild(docLink);\n",
              "        }\n",
              "      </script>\n",
              "    </div>\n",
              "  </div>\n",
              "  "
            ]
          },
          "metadata": {},
          "execution_count": 29
        }
      ]
    },
    {
      "cell_type": "code",
      "metadata": {
        "id": "PjSbFFbbevJ-",
        "colab": {
          "base_uri": "https://localhost:8080/",
          "height": 351
        },
        "outputId": "b5327356-6681-4527-d157-222ff4e02c08"
      },
      "source": [
        "\n",
        "\n",
        "#create scatterplot with regression line. The syntax ci=None means confidence interval is not shown.\n",
        "sns.regplot(dataframe.head(7)['property price'], dataframe.head(7)['property tax per year'], ci=None, color=\"purple\")\n"
      ],
      "execution_count": null,
      "outputs": [
        {
          "output_type": "stream",
          "name": "stderr",
          "text": [
            "/usr/local/lib/python3.7/dist-packages/seaborn/_decorators.py:43: FutureWarning: Pass the following variables as keyword args: x, y. From version 0.12, the only valid positional argument will be `data`, and passing other arguments without an explicit keyword will result in an error or misinterpretation.\n",
            "  FutureWarning\n"
          ]
        },
        {
          "output_type": "execute_result",
          "data": {
            "text/plain": [
              "<matplotlib.axes._subplots.AxesSubplot at 0x7fea9b6dfb50>"
            ]
          },
          "metadata": {},
          "execution_count": 30
        },
        {
          "output_type": "display_data",
          "data": {
            "text/plain": [
              "<Figure size 432x288 with 1 Axes>"
            ],
            "image/png": "[encoded data removed]"
          },
          "metadata": {
            "needs_background": "light"
          }
        }
      ]
    },
    {
      "cell_type": "markdown",
      "metadata": {
        "id": "wz9szMWze4g6"
      },
      "source": [
        "The above graph shows that there is a perfect positive correlation between property price and property tax per year with R = **1.0000** and all point are perfectly fixed on the line of best fit. The higher the price of the property, the higher taxes paid per annum and vice versa.  It can be inferred from the dataset that the highest priced property (£14300) is also the highest taxed property (£952.38) while the lowest priced property(£8400) is the least taxed property (£599.44).\n"
      ]
    },
    {
      "cell_type": "markdown",
      "source": [
        "From the 5 correlations of property prices and the parameters above, this report mini-concludes that the price variance of properites in Boston Savin Hill depends mainly on the distance to nearest town centre, and the tax per annum paid on property.\n",
        "<br>\n",
        "<br>\n",
        "<hr>\n",
        "\n",
        "However, to give a general conclusion regarding property prices in this town, further examination of how these prices are distributed will be conducted as seen below:"
      ],
      "metadata": {
        "id": "AEVKn7qCjkHW"
      }
    },
    {
      "cell_type": "markdown",
      "metadata": {
        "id": "UVq7WE0taxF-"
      },
      "source": [
        "###***7.1 Analysing the property pricing distribution of Boston Savin Hill***"
      ]
    },
    {
      "cell_type": "markdown",
      "source": [
        "To commence the how the prices are distributed, firstly, the empirical rule will be used to find out if the price distribution is a normal distribution or not. Afterwards, a gaussian curve will be drawn to serve as a benchmark for the analysis and again, the empirical rule will be used predict the probability of a property price falling within a given limit. Finally, the skewness and tailedness of the normal distribution curve will be examined and all these will finally be used to forecast profits and lossess.\n",
        "\n",
        "\n",
        "\n",
        "\n",
        "\n",
        "\n"
      ],
      "metadata": {
        "id": "KG5zn81hkXvt"
      }
    },
    {
      "cell_type": "markdown",
      "source": [
        " The code below calculates the empirical three-sigma values of property prices in Boston Hill \n"
      ],
      "metadata": {
        "id": "6jmmW-4W0I1-"
      }
    },
    {
      "cell_type": "code",
      "source": [
        "\n",
        "# setting the values of\n",
        "# mean and S.D.\n",
        "mean = 11271.43\n",
        "SD = 2376.07\n",
        "print('68% of the property prices fall within' ,(mean-SD, mean+SD))\n",
        "print(\"95% of the property prices fall within\" ,(mean-2*SD, mean+2*SD))\n",
        "print('99.7% of the property prices fall within' ,(mean-3*SD, mean+3*SD))\n",
        "\n"
      ],
      "metadata": {
        "colab": {
          "base_uri": "https://localhost:8080/"
        },
        "id": "GztcQ7TMVeYY",
        "outputId": "7bf2f9a2-935e-4c1a-f871-9b0b7df255b2"
      },
      "execution_count": null,
      "outputs": [
        {
          "output_type": "stream",
          "name": "stdout",
          "text": [
            "68% of the property prices fall within (8895.36, 13647.5)\n",
            "95% of the property prices fall within (6519.29, 16023.57)\n",
            "99.7% of the property prices fall within (4143.219999999999, 18399.64)\n"
          ]
        }
      ]
    },
    {
      "cell_type": "markdown",
      "source": [
        "The code above shows that all the property prices in Boston are normally distributed as the all the prices fall within 2 standard deviations from the mean (6519.29, 16023.57), even without extension to the 3rd standard deviation.***`This further confirms that there exist no outliers in the prices already established in section 7.0`***. \n",
        "\n",
        "Now that the distribution is known to be normal, the Gaussian curve will be drawn, and its skewness and tailedness will be analysed to determine whether prices are scattered around the mean or not, and how profits and loss can be estimated."
      ],
      "metadata": {
        "id": "UHYCzJ6Bfaqa"
      }
    },
    {
      "cell_type": "code",
      "source": [
        "\n",
        "#x-axis ranges from -65000 and 65000 with 0.5 steps on the y-axis\n",
        "x = np.arange(-65000, 65000, 0.5)\n",
        "\n",
        "\n",
        "#plot normal distribution with standard deviation 2376.071187 and mean 11271.428571 \n",
        "plt.plot(x, norm.pdf(x, 2376.071187,11271.42857 ),color='red', linewidth=3)"
      ],
      "metadata": {
        "colab": {
          "base_uri": "https://localhost:8080/",
          "height": 200
        },
        "id": "ts-s-a2peyaV",
        "outputId": "cd36b336-331a-4220-db44-fe983481adc5"
      },
      "execution_count": null,
      "outputs": [
        {
          "output_type": "error",
          "ename": "NameError",
          "evalue": "ignored",
          "traceback": [
            "\u001b[0;31m---------------------------------------------------------------------------\u001b[0m",
            "\u001b[0;31mNameError\u001b[0m                                 Traceback (most recent call last)",
            "\u001b[0;32m<ipython-input-34-116f86746b8e>\u001b[0m in \u001b[0;36m<module>\u001b[0;34m()\u001b[0m\n\u001b[1;32m      5\u001b[0m \u001b[0;34m\u001b[0m\u001b[0m\n\u001b[1;32m      6\u001b[0m \u001b[0;31m#plot normal distribution with standard deviation 2376.071187 and mean 11271.428571\u001b[0m\u001b[0;34m\u001b[0m\u001b[0;34m\u001b[0m\u001b[0;34m\u001b[0m\u001b[0m\n\u001b[0;32m----> 7\u001b[0;31m \u001b[0mplt\u001b[0m\u001b[0;34m.\u001b[0m\u001b[0mplot\u001b[0m\u001b[0;34m(\u001b[0m\u001b[0mx\u001b[0m\u001b[0;34m,\u001b[0m \u001b[0mnorm\u001b[0m\u001b[0;34m.\u001b[0m\u001b[0mpdf\u001b[0m\u001b[0;34m(\u001b[0m\u001b[0mx\u001b[0m\u001b[0;34m,\u001b[0m \u001b[0;36m2376.071187\u001b[0m\u001b[0;34m,\u001b[0m\u001b[0;36m11271.42857\u001b[0m \u001b[0;34m)\u001b[0m\u001b[0;34m,\u001b[0m\u001b[0mcolor\u001b[0m\u001b[0;34m=\u001b[0m\u001b[0;34m'red'\u001b[0m\u001b[0;34m,\u001b[0m \u001b[0mlinewidth\u001b[0m\u001b[0;34m=\u001b[0m\u001b[0;36m3\u001b[0m\u001b[0;34m)\u001b[0m\u001b[0;34m\u001b[0m\u001b[0;34m\u001b[0m\u001b[0m\n\u001b[0m",
            "\u001b[0;31mNameError\u001b[0m: name 'norm' is not defined"
          ]
        }
      ]
    },
    {
      "cell_type": "code",
      "source": [
        "#Determining the skewness of the normal distribution\n",
        "\n",
        "#The argument \"bias=False\" is used to calculate the sample skewness as opposed to the population skewness.\n",
        "\n",
        "from scipy.stats import skew\n",
        "skew(dataframe.head(7)['property price'], bias=False)"
      ],
      "metadata": {
        "id": "-fj13iBTe5_9",
        "colab": {
          "base_uri": "https://localhost:8080/"
        },
        "outputId": "dc7494c6-ac04-4dc4-e4ed-eb9f37b140df"
      },
      "execution_count": null,
      "outputs": [
        {
          "output_type": "execute_result",
          "data": {
            "text/plain": [
              "-0.07434746032263424"
            ]
          },
          "metadata": {},
          "execution_count": 33
        }
      ]
    },
    {
      "cell_type": "code",
      "source": [
        "# Calculating the tailedness of the distribution\n",
        "\n",
        "#setting \"fisher=False\" in the code below does the calculation of the Pearson’s definition of kurtosis where the kurtosis value for normal distribution = 3.\n",
        "#3 is then substrated from the answer and the result will be interpreted (Larson & Farber, 2018).\n",
        "from scipy.stats import kurtosis\n",
        "kurtosis(dataframe.head(7)['property price'], fisher=False)"
      ],
      "metadata": {
        "id": "z0_FdELGe7Hd"
      },
      "execution_count": null,
      "outputs": []
    },
    {
      "cell_type": "markdown",
      "source": [
        "The graph and calculation results in a negative skewness and positive tailedness(kurtosis). \n",
        "\n",
        "A negatively skewed distribution means the mean price is less than the median price and there will be many small wins and a few large losses on the estate investment(Zach, 2020). This implies that consistent profit will be made when a property is rented or sold in Boston Hill. However, there will be huge losses intermittently. \n",
        "\n",
        "The positive kurtosis (also called leptokurtic) means the distribution has a sharp peak and more of the property prices are found in the tails of the curve other than around the mean. The mean price is already calculated as 11271.43 which is less than 4 property prices in Boston(14300,11700,13400,12800). This attests to the rationality established by the negative skewness that losses will be huge when incurred because most of the properties are priced above average.\n",
        "\n",
        "\n",
        "\n",
        "\n",
        "\n",
        "\n",
        "\n",
        " \n"
      ],
      "metadata": {
        "id": "7Q18lSdPlQmP"
      }
    },
    {
      "cell_type": "markdown",
      "source": [
        "\n",
        "### ***7.2 Finding probability of property prices of new properties in Boston Savin.***\n",
        "\n"
      ],
      "metadata": {
        "id": "JP57kxY27Jpc"
      }
    },
    {
      "cell_type": "markdown",
      "source": [
        "Now that the parameters on which price is dependent and the profit/loss levels have been assessed, the empirical rule can be used to determine the probability of property price exceeding a certain amount or being below a certain amount. An example is explained below:\n",
        "\n",
        "If the estate agent wants to know that probability that newly constructed properties will be higher than £13500, the estimation can be done using the code below: "
      ],
      "metadata": {
        "id": "yKTDrw_A7XSD"
      }
    },
    {
      "cell_type": "code",
      "source": [
        "mean=11271.42\n",
        "sD=2376.07\n",
        "print('One standard deviaton ' ,(mean-SD, mean+SD))\n",
        "print(\"Two standard deviations\" ,(mean-2*SD, mean+2*SD))\n",
        "print('Three standard deviations' ,(mean-3*SD, mean+3*SD))"
      ],
      "metadata": {
        "id": "TzG1Pssm8saR"
      },
      "execution_count": null,
      "outputs": []
    },
    {
      "cell_type": "markdown",
      "source": [
        "The empirical rule shows that 68% of the distribution lies within one standard deviation, in this case, from 8989.82 to 13553.02 because 13500 lies between this range. Thus, the remaining 32% of the distribution lies outside this range(100%-68%). One half lies above 13553.02 and the other below 8989.82. So, the probability that newly constructed properties will be higher than £13500 is 16% (0.16) (calculated as 32% divided by two)."
      ],
      "metadata": {
        "id": "HLO4lYES99tV"
      }
    },
    {
      "cell_type": "markdown",
      "source": [
        "\n",
        "\n",
        "---\n",
        "\n",
        "The normal data distribution below illustrates the quantisation of probabilities, of how property prices will be distributed if 800 properties are newly constructed."
      ],
      "metadata": {
        "id": "VaBy3qBRZPdw"
      }
    },
    {
      "cell_type": "code",
      "source": [
        "#generating 800 properties which will be distributed about the mean (11271) and standard deviation(2376).\n",
        "x=np.random.normal(11271.42857,2376.071187, 800)\n",
        "\n",
        "#plotting the distribution\n",
        "plt.hist(x,100,color='orange')\n",
        "plt.show()"
      ],
      "metadata": {
        "id": "k4dOqQvlVKeB"
      },
      "execution_count": null,
      "outputs": []
    },
    {
      "cell_type": "markdown",
      "source": [
        "From the graph, it shows that most newly constructed properties will have a price ranging from £6000 to £15000. This is because the distribution is clustered within this range. Nonetheless, because the mean is 11271.43 and standard deviation is 2376.07, most of the property prices will be concentrated around a price of £11271.43 and rarely further away than 2376.07 from the mean. \n",
        "As seen from the chart, most prices are between £7500 and £14500."
      ],
      "metadata": {
        "id": "t-7BHgnkZ6RU"
      }
    },
    {
      "cell_type": "markdown",
      "metadata": {
        "id": "Bb-EBsoQIL2V"
      },
      "source": [
        "\n",
        "\n",
        "\n",
        "### ***7.3 Conclusion***"
      ]
    },
    {
      "cell_type": "markdown",
      "source": [
        "In summary, property pricing in Boston Savin Hill depends mainly on the **distance to nearest town centre**, and the **tax per annum** paid on property and investment in this town is likely to have many few returns and irregular huge losses. Also, estate agents should expect the lowest price budget in this town to be more than £6000 and the highest less than £16000, "
      ],
      "metadata": {
        "id": "g97hT_pw5aHB"
      }
    },
    {
      "cell_type": "markdown",
      "source": [
        "\n",
        "\n",
        "---\n",
        "\n",
        "\n",
        "\n",
        "---\n",
        "\n",
        "\n",
        "\n",
        "---\n",
        "\n"
      ],
      "metadata": {
        "id": "lh1NJt5858-z"
      }
    },
    {
      "cell_type": "markdown",
      "source": [
        "  <a id='Bur'></a>"
      ],
      "metadata": {
        "id": "2VPo_xl76YDv"
      }
    },
    {
      "cell_type": "markdown",
      "metadata": {
        "id": "Q9HFH5_c9rYR"
      },
      "source": [
        "# <font color=\"blue\">8.0 Analysis of Property Prices in  **Burlington** With Set Parameters.\n",
        " "
      ]
    },
    {
      "cell_type": "markdown",
      "source": [
        "This section analyses the second town in the local area. The code below displays only the rows and columns relating to this town . Afterwards, the report will determine the parameters on which property price is dependent and independent.\n"
      ],
      "metadata": {
        "id": "0H80dwPM7zHJ"
      }
    },
    {
      "cell_type": "code",
      "metadata": {
        "id": "MfY36JGlaDYU"
      },
      "source": [
        "dataframe.iloc[7:11]\n",
        "#Below is a filter of the dataframe to show rows of only Burlington."
      ],
      "execution_count": null,
      "outputs": []
    },
    {
      "cell_type": "markdown",
      "source": [
        "Since property price is the benchmark of the analysis, a brief statistical examination of the property prices in this town will be taken before further discussions.These are shown below in the table and graphs.\n",
        "\n"
      ],
      "metadata": {
        "id": "IuRcRslM0sgY"
      }
    },
    {
      "cell_type": "code",
      "source": [
        "# Using a bar chart to illustrate how prices vary in each town in Burlington\n",
        "\n",
        "#labelling each town with the respective index number\n",
        "town_index = [\"index 7\", \"index 8\", \"index 9\", \"index 10\"]\n",
        "\n",
        "#Prices of each property in the town\n",
        "prices = [24200, 21700, 22800, 23400]\n",
        "\n",
        "#To plot town index against prices.\n",
        "plt.bar(town_index, prices,color='#486353')\n",
        "\n",
        "#labelling y axis\n",
        "plt.ylabel(\"Prices in £\")\n",
        "#labelling x-axis\n",
        "plt.xlabel(\"Town indexes\")\n",
        "\n",
        "#title of bar chart.\n",
        "plt.title(\"Property Prices in Burlington\")\n",
        "plt.show()\n"
      ],
      "metadata": {
        "id": "sTRYaZ2u8W0n"
      },
      "execution_count": null,
      "outputs": []
    },
    {
      "cell_type": "markdown",
      "source": [
        "The bar graph above shows at a glance that the highest priced property is at index 7 with a price above 24000 and the lowest priced property at index 8 with price above 22000. This graph indicates that all property prices in Burlington are within the range of £20000 - £25000. The determinants for these prices will be analysed shortly."
      ],
      "metadata": {
        "id": "cKhkTGmr6lar"
      }
    },
    {
      "cell_type": "code",
      "source": [
        "property_price=dataframe.iloc[7:11]['property price']\n",
        "#labelling the wedges of the pie chart\n",
        "lab=['T7','T8',  'T9', 'T10']\n",
        "# Assigning colours to each wedge (town)\n",
        "col=['red', 'grey', 'yellow','lightgreen']\n",
        "#Giving title to the pie chart\n",
        "plt.title('Overview of Property prices in Burlington')\n",
        "#To make the highest price stand out.\n",
        "myexplode = [0.2, 0.2, 0,0]\n",
        "#autopct enables display og the percent value using Python string formatting. \n",
        "plt.pie(property_price, labels=lab, colors=col,explode=myexplode, shadow=True, autopct='%1.2f')\n",
        "#plotting the pie chart\n",
        "plt.show"
      ],
      "metadata": {
        "id": "UVwVmFiCDsZA"
      },
      "execution_count": null,
      "outputs": []
    },
    {
      "cell_type": "markdown",
      "source": [
        "From the pie chart, the highest price amounts to a share of 26.28% (represented by the exploded red wedge) and the lowest price 23.56% (the exploded grey wedge) which leads to a difference of 2.72%. This range (2500) is minimal as compared to Boston Hill (5900)."
      ],
      "metadata": {
        "id": "vfTwD4IFE9hq"
      }
    },
    {
      "cell_type": "code",
      "source": [
        "#This code shows the numerical representation of property prices of Burlington in detail.\n",
        "dataframe.iloc[7:11].describe()"
      ],
      "metadata": {
        "id": "e1mAaazj3hok"
      },
      "execution_count": null,
      "outputs": []
    },
    {
      "cell_type": "markdown",
      "source": [
        "Since interquartile range, range, outliers and variance are not shown with the describe() syntax, the code below performs it manually."
      ],
      "metadata": {
        "id": "d-M62O1_8Hoa"
      }
    },
    {
      "cell_type": "code",
      "source": [
        "Interquartile_range=(23600-22525) #upper_quartile - lower_quartile\n",
        "upper_outlier=23600+(1.5*Interquartile_range) #upper-quartile =23600\n",
        "lower_outlier=22525-(1.5*Interquartile_range) #lower_quartile = 22525\n",
        "\n",
        "#range =max_price - min_price\n",
        "range = 24200 - 21700\n",
        "\n",
        "print(lower_outlier)\n",
        "print(upper_outlier)\n",
        "print(range)\n",
        "np.var(dataframe.iloc[7:11]['property price'])#variance\n"
      ],
      "metadata": {
        "id": "Ps2KaKGA3zaj"
      },
      "execution_count": null,
      "outputs": []
    },
    {
      "cell_type": "markdown",
      "source": [
        "The numerical statistics above are visualised below using a frequency density and a box plot which will help with detailed analysis of the measures of central tendencies."
      ],
      "metadata": {
        "id": "ZuTZU66k_6Y2"
      }
    },
    {
      "cell_type": "code",
      "source": [
        "# plotting the frequency density, kind=hist means we want to plot histogrm.\n",
        "ax=dataframe.iloc[7:11]['property price'].plot(kind='hist', color='#804590', figsize=(14,8))\n",
        "\n",
        "#to give a blue line colour to the mean and black colour to median for better visualisation.\n",
        "ax.axvline(dataframe.iloc[7:11]['property price'].mean(),color='blue')\n",
        "ax.axvline(dataframe.iloc[7:11]['property price'].median(),color='black')"
      ],
      "metadata": {
        "id": "OSK6pfc7-tfQ"
      },
      "execution_count": null,
      "outputs": []
    },
    {
      "cell_type": "markdown",
      "source": [
        " The density above illustrates that mean and median are not widely spread from the prices in Burlington as they concentrate around common value (23,025<mean/median <23,100) with just 75 difference in the limits. This might imply that there exist no outliers in the pricing system as mean and median calculation were not affected by any extreme values. However, to firmly conclude whether there exist outliers or not, the boxplot below will give an answer.\n"
      ],
      "metadata": {
        "id": "Iij-55yBA00N"
      }
    },
    {
      "cell_type": "code",
      "source": [
        "# Box plot to help with further explanation of the statistics above.\n",
        "#vert=True means the boxplot will stand vertically\n",
        "\n",
        "dataframe.iloc[7:11]['property price'].plot(kind='box', vert=True, figsize=(16,10),color='orangered')\n",
        "\n"
      ],
      "metadata": {
        "id": "tCModIX5_C4T"
      },
      "execution_count": null,
      "outputs": []
    },
    {
      "cell_type": "markdown",
      "source": [
        "\n",
        "\n",
        "\n",
        "\n",
        "From the table and boxplot above, it can be inferred that there exist no outliers in the pricing of properties in Burlington. No property is unreasonably priced high(above upper outlier of 25212.5) or low (below lower outlier of 20912.5).\n",
        "\n",
        "The standard deviation of 1053.17 and the variance of 831875.0 indicates there are variations in price determinants. However, these variations are relatively low compared to that of Boston Hill, meaning property prices are based on similar parameters in Burlington. This is further confirmed by the  range value of 2500 which is 3400 (5900-2500)less than that of Boston Hill. \n",
        "\n",
        "This variation is now analysed below in the various correlations."
      ],
      "metadata": {
        "id": "08hSI1OZ5g38"
      }
    },
    {
      "cell_type": "code",
      "metadata": {
        "id": "uXxEskd2-b4M"
      },
      "source": [
        "#This syntax gives the correlation of property prices and given parameters in Burlington.\n",
        "corr_Burlington=dataframe.iloc[7:11].corr()\n",
        "corr_Burlington.style.background_gradient(cmap='coolwarm')\n",
        "\n",
        "#Below is a tabular correlation between the parameters in Burlington and the property price."
      ],
      "execution_count": null,
      "outputs": []
    },
    {
      "cell_type": "markdown",
      "metadata": {
        "id": "u8s1Li2B_gUb"
      },
      "source": [
        "From the correlation table above, it can be easily inferred that there is completely no correlation between the property price and number of rooms, distance to nearest town centre and number of pupils per teacher. However, there is a very strong negative correlation between property price and age of property, and a perfect positive correlation between tax per annum and property price.\n",
        "\n",
        "\n",
        "\n",
        "---\n",
        "\n",
        "\n",
        "The graph below illustrates visually what I have explained above.\n"
      ]
    },
    {
      "cell_type": "code",
      "source": [
        "#To clear all duplicate correlations\n",
        "mask = np.zeros(corr_Burlington.shape, dtype=bool)\n",
        "mask[np.triu_indices(len(mask))] = True\n",
        "hm= sns.heatmap(corr_Burlington.corr(),vmin = -1, vmax = 1, center = 0, cmap = 'coolwarm', mask = mask)\n",
        "\n",
        "#Adding the parameter label to the x and y axis\n",
        "hm.set(xlabel='\\nParameters', ylabel='Parameters\\t', title = \"Correlation matrix of Burlington\\n\")\n",
        "\n",
        "#showing the correlation matrix without duplicates for easier analysis.\n",
        "plt.show()"
      ],
      "metadata": {
        "id": "66OchqGZhutv"
      },
      "execution_count": null,
      "outputs": []
    },
    {
      "cell_type": "markdown",
      "source": [
        "From the visualisation above, there is no correlation between the property price and number of rooms, distance to nearest town, and number of pupils per tutor since they are represented by white colour (coefficient =0). Therefore, property prices in Burlington are independent of none of those parameters.\n",
        "<br>\n",
        "\n",
        "However,the graph illustrates that there is a strong negative correlation (R= - 0.864) indicated by a dark blue colour between age of property and property price. This means, the older the property, the cheaper its price and vice versa. This is inferred from the dataset where the oldest property (18 years) has the lowest price (£21700) while the newest properties (6years and 7 years) have the highest prices (£23400 and £24200) respectively.<br><br>\n",
        "\n",
        "From the graph and correlation table, there is a perfect correlation between property price and tax per year(R=1.00) represented by red, the darkest shade.\n",
        "The higher the price of the property, the higher taxes paid per annum and vice versa. It can be inferred from the dataset that the highest priced property (£24200) is also the highest taxed property (£738.10) while the lowest priced property(£21700) is the least taxed property (£661.85).\n",
        "<br>\n"
      ],
      "metadata": {
        "id": "f9-H_vnZjr9X"
      }
    },
    {
      "cell_type": "markdown",
      "source": [
        "From the 5 correlations of property prices and the parameters above, this report mini-concludes that the **property prices in Burlington depends mainly on the age of property and the tax per annum paid on property.**\n",
        "<br>\n",
        "<br>\n",
        "<hr>\n",
        "\n",
        "However, to give an overall conclusion regarding property prices in this town, further examination of how these prices are distributed will be conducted as seen below:"
      ],
      "metadata": {
        "id": "98S9w07dC1ag"
      }
    },
    {
      "cell_type": "markdown",
      "source": [
        "###***8.1 Analysing the property pricing distribution of Burlington***"
      ],
      "metadata": {
        "id": "rWeY3WhvLcxB"
      }
    },
    {
      "cell_type": "markdown",
      "source": [
        "like Boston Hill, the empirical rule will be used to determine whether the property prices in Burlington is normally distributed or not. \n",
        "\n",
        "The code below calculates this rule."
      ],
      "metadata": {
        "id": "4hu7uxQ-L7Rj"
      }
    },
    {
      "cell_type": "code",
      "source": [
        "\n",
        "# setting the values of mean and S.D.\n",
        "mean = 23025\n",
        "SD = 1053.17\n",
        "print('68% of the property prices fall within' ,(mean-SD, mean+SD))\n",
        "print(\"95% of the property prices fall within\" ,(mean-2*SD, mean+2*SD))\n",
        "print('99.7% of the property prices fall within' ,(mean-3*SD, mean+3*SD))\n"
      ],
      "metadata": {
        "id": "HFviaOlKkRmS"
      },
      "execution_count": null,
      "outputs": []
    },
    {
      "cell_type": "markdown",
      "source": [
        "The code above indicates that all the property prices in Burlington are normally distributed as the all the prices fall within 2 standard deviations from the mean (20918.66, 25131.34), even without extension to the 3rd standard deviation.This further confirms that there exist no outliers in the prices. Now that the empirical rule proves that the distribution is normal, the Gaussian curve will be drawn, and its skewness and tailedness will be analysed to determine whether prices are scattered around the mean or not, and how profits and loss can be evaluated."
      ],
      "metadata": {
        "id": "kRQoKRbSnLDz"
      }
    },
    {
      "cell_type": "code",
      "source": [
        "\n",
        "#x-axis ranges from -85000 and 85000 with 0.5 steps on the y-axis\n",
        "x = np.arange(-85000, 85000, 0.5)\n",
        "\n",
        "#plot normal distribution with standard deviation 1053.17 and mean 23025.00\n",
        "plt.plot(x, norm.pdf(x, 1053.17 ,23025.00 ),color='green', linewidth=3)"
      ],
      "metadata": {
        "id": "3B9M7PS5L9Sy"
      },
      "execution_count": null,
      "outputs": []
    },
    {
      "cell_type": "code",
      "source": [
        "#Determining the skewness of the normal distribution\n",
        "#The argument bias=False is used to calculate the sample skewness a as opposed to the population skewness.\n",
        "from scipy.stats import skew\n",
        "skew(dataframe.iloc[7:11]['property price'], bias=False)"
      ],
      "metadata": {
        "id": "OA9IJX5uOdwQ"
      },
      "execution_count": null,
      "outputs": []
    },
    {
      "cell_type": "code",
      "source": [
        "# Calculating the tailedness of the distribution\n",
        "#setting fisher=False in the below code does the calculation of the Pearson’s definition of kurtosis where the kurtosis value for normal distribution = 3.\n",
        "#3 is then substrated from the answer and the result will be interpreted (Larson & Farber, 2018).\n",
        "from scipy.stats import kurtosis\n",
        "kurtosis(dataframe.iloc[7:11]['property price'],fisher=False)"
      ],
      "metadata": {
        "id": "O7kD8aHtOtTF"
      },
      "execution_count": null,
      "outputs": []
    },
    {
      "cell_type": "markdown",
      "source": [
        "\n",
        "The graph and calculation results in a negative skewness and positive tailedness(kurtosis) same as that of Boston Hill. \n",
        "\n",
        "The negative skewness signifies smaller mean (23025) compared to median(23100).\n",
        "However, because Burlington has lesser skewed value (-0.37) than Boston (-0.07), the returns on investment in Burlington will be smaller than that of Boston. Likewise, if there happens to be a loss, the effect on Burlington will be less compared to that of Boston.\n",
        "\n",
        "Moreover, the positive kurtosis (leptokurtic) means property prices are not distributed around the mean implying the amount of profit made or loss incurred will largely depend on the price of the property itself and not on average. The significance here is that, expensive properties like property 10 (23400) will generate more small wins than cheaper ones like property 8 (21700). However, any loss made will be remarkable on expensive properties.\n"
      ],
      "metadata": {
        "id": "gTI0EclFTfEQ"
      }
    },
    {
      "cell_type": "markdown",
      "source": [
        "### ***8.2 Finding the probability of prices for new properties in Burlington***"
      ],
      "metadata": {
        "id": "W3y1WUyV_ezs"
      }
    },
    {
      "cell_type": "markdown",
      "source": [
        "If the new estate agent wish to find out the probability of new properties falling within a given amount, the empirical rule can be beneficial with this estimation. \n",
        "\n",
        "For instance, if the agent wish estimate the probability that new properties will be below 19500 in Burlington, the code below shows how this can be carried out."
      ],
      "metadata": {
        "id": "XcTdn0Z-_qsT"
      }
    },
    {
      "cell_type": "code",
      "source": [
        "mean = 23025\n",
        "SD = 1053.17\n",
        "print('68% of the new properties will fall within' ,(mean-SD, mean+SD))\n",
        "print(\"95% of the new properties will fall within\" ,(mean-2*SD, mean+2*SD))\n",
        "print('99.7% of the property prices fall within' ,(mean-3*SD, mean+3*SD))"
      ],
      "metadata": {
        "id": "GEb8El7LAgvr"
      },
      "execution_count": null,
      "outputs": []
    },
    {
      "cell_type": "markdown",
      "source": [
        "From the empirical calculation above, £19500 is not within 3 standard deviation from the mean, therefore it falls within 0.3% (100-99.7) with one half above 26184.51 and the other below 19865.49. So, the probability that newly constructed properties will be below 19500 in Burlington is 0.0015 (calculated as 0.3% divided by two). This implies it is unlikely for a property in Burlington to be below £19500."
      ],
      "metadata": {
        "id": "Q7CXB9JVBMNq"
      }
    },
    {
      "cell_type": "markdown",
      "source": [
        "\n",
        "\n",
        "---\n"
      ],
      "metadata": {
        "id": "3jTy3NfKl1bU"
      }
    },
    {
      "cell_type": "markdown",
      "source": [
        "The normal data distribution below shows the probabilities of how property prices will be distributed if 500 properties are newly constructed."
      ],
      "metadata": {
        "id": "i54tzzTimdVY"
      }
    },
    {
      "cell_type": "code",
      "source": [
        "#generating 500 properties which will be distributed about the mean (23025) and standard deviation(1053.17).\n",
        "x=np.random.normal(23025,1053.17, 500)\n",
        "\n",
        "#plotting the distribution\n",
        "plt.hist(x,500,color='brown')\n",
        "plt.show()"
      ],
      "metadata": {
        "id": "_K990iN5k86T"
      },
      "execution_count": null,
      "outputs": []
    },
    {
      "cell_type": "markdown",
      "source": [
        "\n",
        "\n",
        "---\n",
        "\n",
        "From the graph, it shows that most newly constructed properties will have a price ranging from £21000 to £25800. This is because the distribution is clustered within this range.  However, because the mean is 23025 and standard deviation is 1053.17, most of the property prices will be centered around a price of £23025 and rarely further away than 1053.17 from the mean. \n",
        "As seen from the chart, most prices are between £22000 and £24500, with the highest price at approximately £23500.\n"
      ],
      "metadata": {
        "id": "xstJ-Z6Rl5EM"
      }
    },
    {
      "cell_type": "code",
      "source": [
        ""
      ],
      "metadata": {
        "id": "pBCgBYrakvg7"
      },
      "execution_count": null,
      "outputs": []
    },
    {
      "cell_type": "markdown",
      "source": [
        "### ***8.3 conclusion***"
      ],
      "metadata": {
        "id": "sD_aupsePaGk"
      }
    },
    {
      "cell_type": "markdown",
      "source": [
        "In summary, property pricing in Burlington depends mainly on the **age of property**, and the **tax per annum** paid on property and like Boston Hill, investment in this town is likely to have many small returns and irregular huge losses. Additionally, the highest of a property in Burlinton is most likely not to exceed £26000 and the lowest price is likely not to be below £20000."
      ],
      "metadata": {
        "id": "LS0zC95U98Md"
      }
    },
    {
      "cell_type": "markdown",
      "source": [
        "\n",
        "\n",
        "\n",
        "\n",
        "---\n",
        "\n",
        "---\n",
        "\n",
        "\n",
        "\n",
        "---\n",
        "\n",
        "\n",
        "\n"
      ],
      "metadata": {
        "id": "eh4uBOAnLgER"
      }
    },
    {
      "cell_type": "markdown",
      "source": [
        "  <a id='Cam'></a>"
      ],
      "metadata": {
        "id": "xc1nJD1i6kTG"
      }
    },
    {
      "cell_type": "markdown",
      "metadata": {
        "id": "oQqxQG97IUrT"
      },
      "source": [
        "# <font color=\"blue\">9.0 Analysis of Property Prices in  **Cambridge** With Set Parameters.\n",
        " "
      ]
    },
    {
      "cell_type": "markdown",
      "source": [
        "This section of the report examines the third village in the local area. The code below displays only the rows and columns relating to this village . Afterwards,the parameters on which property price is dependent and independent in this area will be evaluated."
      ],
      "metadata": {
        "id": "GavR5hiHPnXE"
      }
    },
    {
      "cell_type": "code",
      "metadata": {
        "id": "alJiXGG8IzJL"
      },
      "source": [
        "dataframe.iloc[11:14]\n",
        "#Below is a filter of the dataframe to show rows of only Cambridge."
      ],
      "execution_count": null,
      "outputs": []
    },
    {
      "cell_type": "markdown",
      "source": [
        "Now, like Boston Hill and Burlington,  a brief statistical examination of the property prices in this town will be taken before further discussions."
      ],
      "metadata": {
        "id": "0qYjcD-7QLLb"
      }
    },
    {
      "cell_type": "code",
      "source": [
        "property_price=dataframe.iloc[11:14]['property price']\n",
        "#labelling the wedges of the pie chart\n",
        "lab=['Town 11', 'Town 12', 'Town 13']\n",
        "# Assigning colours to each wedge (town)\n",
        "col=['red', 'hotpink', 'yellow']\n",
        "#Giving title to the pie chart\n",
        "plt.title('Overview of Property prices in Cambridge')\n",
        "#plotting the pie chart\n",
        "#To make the highest price stand out.\n",
        "myexplode = [0, 0.5, 0]\n",
        "#autopct enables display og the percent value using Python string formatting. \n",
        "plt.pie(property_price, labels=lab, colors=col,explode=myexplode, shadow=True, autopct='%1.2f')\n",
        "plt.show"
      ],
      "metadata": {
        "id": "Or4oOxVTGgPt"
      },
      "execution_count": null,
      "outputs": []
    },
    {
      "cell_type": "markdown",
      "source": [
        "From the pie chart above, it can be deducted that the highest property price in Cambridge is in town 12 which takes 38.24% of the total of the three towns in this village and the lowest is in town 13 with 28.92% share of the price share."
      ],
      "metadata": {
        "id": "Nu_VjOr9IbPw"
      }
    },
    {
      "cell_type": "code",
      "source": [
        "dataframe.iloc[11:14].describe()"
      ],
      "metadata": {
        "id": "2MaRyO0cQoBz"
      },
      "execution_count": null,
      "outputs": []
    },
    {
      "cell_type": "markdown",
      "source": [
        "Since interquartile range, range, outliers and variance are not shown with the describe() syntax, the code below performs it manually."
      ],
      "metadata": {
        "id": "1wbiyLqO-0sy"
      }
    },
    {
      "cell_type": "code",
      "source": [
        "Interquartile_range=(14500-12600) #upper_quartile - lower_quartile\n",
        "upper_outlier=14500+(1.5*Interquartile_range) #upper-quartile =23600\n",
        "lower_outlier=12600-(1.5*Interquartile_range) #lower_quartile = 22525\n",
        "\n",
        "#range =max_price - min_price\n",
        "range = 15600 - 11800\n",
        "\n",
        "\n",
        "\n",
        "print(lower_outlier)\n",
        "print(upper_outlier)\n",
        "print(range)\n",
        "np.var(dataframe.iloc[11:14]['property price'])#variance\n",
        "\n"
      ],
      "metadata": {
        "id": "4v_kN2AuRHn7"
      },
      "execution_count": null,
      "outputs": []
    },
    {
      "cell_type": "code",
      "source": [
        "# Box plot to help with the explanation of the statistics above.\n",
        "\n",
        "\n",
        "fig = plt.figure(figsize =(10, 7))\n",
        " \n",
        "# Creating plot\n",
        "plt.boxplot(dataframe.iloc[11:14]['property price'])\n",
        " \n",
        "#show plot\n",
        "plt.show()"
      ],
      "metadata": {
        "id": "lbuNyfdh5Aj6"
      },
      "execution_count": null,
      "outputs": []
    },
    {
      "cell_type": "markdown",
      "source": [
        "From the table and boxplot above, it can be inferred that there exist no outliers in the pricing of properties in Cambridge. All properties are rationally priced as they fall between the lower and upper outliers.\n",
        "\n",
        "Since only 3 properties were sampled in Cambridge,  range will be a better measure of spread than standard deviation and variance. (Taylor,2019)  <br>\n",
        "\n",
        "\n",
        "The range of property prices as calculated above is 3800 which is relatively high and signifies a large variation in the property prices in Cambridge.\n",
        "\n",
        " "
      ],
      "metadata": {
        "id": "H2TSSVy3SrFZ"
      }
    },
    {
      "cell_type": "code",
      "metadata": {
        "id": "IJes9MxjJDSy"
      },
      "source": [
        "#This syntax gives the correlation of property prices and given parameters.\n",
        "corr_Cambridge=dataframe.iloc[11:14].corr()\n",
        "corr_Cambridge.style.background_gradient(cmap='coolwarm')\n",
        "\n",
        "\n",
        "#Below is a tabular correlation between the parameters in Cambridge and the property price."
      ],
      "execution_count": null,
      "outputs": []
    },
    {
      "cell_type": "markdown",
      "metadata": {
        "id": "1gk8g_oGLZCG"
      },
      "source": [
        "From the correlation table above, it can be easily seen that there is absolutely no correlation between the property price and number of rooms, and number of pupils per teacher. However, there is a very strong correlation between property price with age of property and distance to nearest town centre, and finally a perfect correlation between tax per annum and property price.\n",
        "\n",
        "The graphs below illustrates visually what I have explained above."
      ]
    },
    {
      "cell_type": "code",
      "source": [
        "dataframe.iloc[11:14][[\"number of rooms\", \"property price\"]]\n",
        "#filter to display the columns of only number of rooms and property price"
      ],
      "metadata": {
        "id": "pzXruNYwYTZs"
      },
      "execution_count": null,
      "outputs": []
    },
    {
      "cell_type": "code",
      "metadata": {
        "id": "tACudIx9MSRj"
      },
      "source": [
        "#create scatterplot with regression line. The syntax ci=None means confidence interval is not shown.\n",
        "sns.regplot(dataframe.iloc[11:14]['property price'], dataframe.iloc[11:14]['number of rooms'],ci=None, color=\"purple\")"
      ],
      "execution_count": null,
      "outputs": []
    },
    {
      "cell_type": "markdown",
      "metadata": {
        "id": "DQnUWL24Nu5W"
      },
      "source": [
        "\n",
        "The visualisation above indicates that there is no correlation (R=0) between the property price and number of rooms as all points lie horizontally on the regression line. All the properties have 5 rooms but are priced differently as seen from the dataset of Cambridge."
      ]
    },
    {
      "cell_type": "code",
      "source": [
        "dataframe.iloc[11:14][[\"age of property\", \"property price\"]]\n",
        "#filter to display the columns of only age of property and property price"
      ],
      "metadata": {
        "id": "fizt0DJSYx1p"
      },
      "execution_count": null,
      "outputs": []
    },
    {
      "cell_type": "code",
      "metadata": {
        "id": "orPPaTmkMZ26"
      },
      "source": [
        "\n",
        "#create scatterplot with regression line. The syntax ci=None means confidence interval is not shown.\n",
        "sns.regplot(dataframe.iloc[11:14]['property price'], dataframe.iloc[11:14]['age of property'], ci=None, color=\"red\")"
      ],
      "execution_count": null,
      "outputs": []
    },
    {
      "cell_type": "markdown",
      "metadata": {
        "id": "C-Ro4SbSOPLa"
      },
      "source": [
        "The graph illustrates that there is a strong positive correlation (R=0.817) between the property prices and the age of the properties. The newer the property, the lower its price and the older the property, the higher its price. From the graph, the newest property (98 years) has the lowest price (£11800) compared to the two old properties (100 years each) priced £13400 and £15600 respectively. \n",
        "\n",
        "It can be inferred that converse to Burlington, Cambridge values conservative or antique properties, hence value is placed on older houses other than newer ones."
      ]
    },
    {
      "cell_type": "code",
      "source": [
        "dataframe.iloc[11:14][[\"distance to nearest town centre\", \"property price\"]]\n",
        "#filter to display the columns of only distance to nearest town centre and property price"
      ],
      "metadata": {
        "id": "m6_wkjF_hKBn"
      },
      "execution_count": null,
      "outputs": []
    },
    {
      "cell_type": "code",
      "source": [
        "\n",
        "#create scatterplot with regression line. The syntax ci=None means confidence interval is not shown.\n",
        "sns.regplot(dataframe.iloc[11:14]['property price'], dataframe.iloc[11:14]['distance to nearest town centre'],ci=None  ,color=\"green\")"
      ],
      "metadata": {
        "id": "I7cYEi_cNemF"
      },
      "execution_count": null,
      "outputs": []
    },
    {
      "cell_type": "markdown",
      "metadata": {
        "id": "IN5MQG5LQkMq"
      },
      "source": [
        "The graph depicts that there is a moderate correlation between the property prices in Cambridge and distance to nearest town centre. However, this is not a main factor on which price is dependent as it can be seen from the graph that, although 1.41km the farthest distance from the town centre, it is the property with the maximum price."
      ]
    },
    {
      "cell_type": "code",
      "source": [
        "dataframe.iloc[11:14][[\"property tax per year\", \"property price\"]]\n",
        "#filter to display the columns of only property tax per year and property price"
      ],
      "metadata": {
        "id": "eQLqTmxbhrTf"
      },
      "execution_count": null,
      "outputs": []
    },
    {
      "cell_type": "code",
      "source": [
        "# Using a multigraph to illustrate correlation between the property price and taxes per year other than scatter graph.\n",
        "\n",
        "ratio=[\"town 1\",\"town 2\",\"town 3\",]\n",
        "taxes=[540.02, 628.68, 475.54]\n",
        "property_price=[1340.0,1560.0,1180.0]\n",
        "\n",
        "plt.xlabel(\"Towns In Cambridge\")\n",
        "plt.plot(ratio,taxes,label='taxes')\n",
        "plt.plot(ratio,property_price,label='price')\n",
        "plt.legend(loc=5)\n",
        "plt.title(\"Multigraph showing correlation of property price and taxes per year\")\n",
        "plt.show()"
      ],
      "metadata": {
        "id": "nSlMjL1sbX4v"
      },
      "execution_count": null,
      "outputs": []
    },
    {
      "cell_type": "markdown",
      "metadata": {
        "id": "ZrPmpRo6Rkj9"
      },
      "source": [
        "From the graph as price increased from 13,400 in town 1 to 15,600 in town 2. Likewise, as price dropped from 15,600 in town 2 to 11,800 in town 3, there was a respective drop in annual taxes in the town. This indicates that there is a perfect positive correlation(R=1.00) between the property prices and the tax per annum in Cambridge. The higher the price of the property, the higher taxes paid on per annum and vice versa. "
      ]
    },
    {
      "cell_type": "code",
      "source": [
        "dataframe.iloc[11:14][[\"number of pupils per teacher\", \"property price\"]]\n",
        "#filter to display the columns of only number of pupils per teacher and property price"
      ],
      "metadata": {
        "id": "z8aUIi78h1nM"
      },
      "execution_count": null,
      "outputs": []
    },
    {
      "cell_type": "code",
      "source": [
        "# Using a multigraph to illustrate correlation between the property price and number of pupils per tutor\n",
        "\n",
        "ratio=[\"town 1\",\"town 2\",\"town 3\",]\n",
        "students_per_tutor=[15,15,15]\n",
        "property_price=[13400,15600,11800]\n",
        "\n",
        "plt.xlabel(\"Towns In Cambridge\")\n",
        "plt.plot(ratio,students_per_tutor,label='student per tutor')\n",
        "plt.plot(ratio,property_price,label='price')\n",
        "plt.legend(loc=5)\n",
        "plt.title(\"Multigraph showing correlation of property price and student per tutor\")\n",
        "plt.show()"
      ],
      "metadata": {
        "id": "tdTJL4z1d107"
      },
      "execution_count": null,
      "outputs": []
    },
    {
      "cell_type": "markdown",
      "metadata": {
        "id": "4_ZOIVNOSa1c"
      },
      "source": [
        "The graph shows that there is zero correlation(R=0) between between property prices and number of pupils per tutor. From the graph, all the properties in Cambridge have the same number of pupils per tutor(15) but vary in prices."
      ]
    },
    {
      "cell_type": "markdown",
      "source": [
        "From the 5 correlations of property prices and the parameters in Cambridge, a minior conclusion can be generated that the property prices in Cambridge depends mainly on the age of property, distance to nearest town centre and the tax per annum paid on property.\n",
        "<br>\n",
        "<hr>\n",
        "\n",
        "However, to generalise the conclusion in Cambridge, further examination of how these prices are distributed will be conducted as seen below:"
      ],
      "metadata": {
        "id": "n1u17Q83Dr73"
      }
    },
    {
      "cell_type": "markdown",
      "source": [
        "###***9.1 Analysing property price distribution using the bell curve.***"
      ],
      "metadata": {
        "id": "lHW0jzGpemda"
      }
    },
    {
      "cell_type": "markdown",
      "source": [
        "Using the empirical rule to determine whether property prices in Cambridge is normally distributed or not."
      ],
      "metadata": {
        "id": "qK9VjgI8pNcS"
      }
    },
    {
      "cell_type": "code",
      "source": [
        "# setting the values of mean and S.D.\n",
        "mean = 13600\n",
        "SD = 1907.88\n",
        "print('68% of the property prices fall within' ,(mean-SD, mean+SD))\n",
        "print(\"95% of the property prices fall within\" ,(mean-2*SD, mean+2*SD))\n",
        "print('99.7% of the property prices fall within' ,(mean-3*SD, mean+3*SD))"
      ],
      "metadata": {
        "id": "_tjK1l-2ogbT"
      },
      "execution_count": null,
      "outputs": []
    },
    {
      "cell_type": "markdown",
      "source": [
        "The values generated from the empirical rule shows that property prices in Cambridge are normally distributed since they all fall within 3 standard deviations from the mean(7876.36, 19323.64).\n",
        "Now, the Gaussian curve will be drawn, and its skewness and tailedness will be analysed to determine whether whether prices are scattered around the mean or not, and how profits and loss can be estimated."
      ],
      "metadata": {
        "id": "Mquwton1pL8w"
      }
    },
    {
      "cell_type": "code",
      "source": [
        "\n",
        "\n",
        "#x-axis ranges from -85000 and 85000 with 0.5 steps on the y-axis\n",
        "x = np.arange(-85000, 85000, 0.05)\n",
        "\n",
        "#plot normal distribution with standard deviation 1907.87 and mean 13600.00\n",
        "plt.plot(x, norm.pdf(x, 1907.87 ,13600 ),color='black', linewidth=3)"
      ],
      "metadata": {
        "id": "nvMVWbjkek3S"
      },
      "execution_count": null,
      "outputs": []
    },
    {
      "cell_type": "code",
      "source": [
        "#Determining the skewness of the normal distribution\n",
        "#The argument bias=False is used to calculate the sample skewness a as opposed to the population skewness.\n",
        "from scipy.stats import skew\n",
        "skew(dataframe.iloc[11:14]['property price'], bias=False)"
      ],
      "metadata": {
        "id": "q62iLYGNiF65"
      },
      "execution_count": null,
      "outputs": []
    },
    {
      "cell_type": "code",
      "source": [
        "# Calculating the tailedness of the distribution\n",
        "#setting fisher=False in the below code does the calculation of the Pearson’s definition of kurtosis where the kurtosis value for normal distribution = 3.\n",
        "#3 is then substrated from the answer and the result will be interpreted(Larson & Farber, 2018).\n",
        "from scipy.stats import norm, kurtosis\n",
        "kurtosis(dataframe.iloc[11:14]['property price'], fisher=False)"
      ],
      "metadata": {
        "id": "wivbSQKliSt4"
      },
      "execution_count": null,
      "outputs": []
    },
    {
      "cell_type": "markdown",
      "source": [
        "The graph and calculation results in a positive skewness and positive tailedness(kurtosis). \n",
        "\n",
        "Unlike Boston Hill and Burlington, the positive skewed distribution in Cambridge denotes that the mean(13600) is higher than the median price(13400) therefore estate agents can expect frequent small losses and few massive returns from investment in Cambridge. The decision to invest in either Boston or  Burlington on one hand, and Cambridge on the other depends on risk estate agents are prepared to take. When investment is made in Cambridge, the huge profits can compensate the frequent – but small – losses which might not be the case in Boston and Burlington.\n",
        "\n",
        "The positive kurtosis (also called leptokurtic) means the distribution has a sharp peak and more of the property prices are found in the tails of the curve other than around the mean. \n"
      ],
      "metadata": {
        "id": "kC_tEmryTtKO"
      }
    },
    {
      "cell_type": "markdown",
      "source": [
        "### ***9.2 Probability of New Property prices falling within a certain range***"
      ],
      "metadata": {
        "id": "xFWQkHVrDKOd"
      }
    },
    {
      "cell_type": "markdown",
      "source": [
        "Ifthe new estate agent wish to find out the probability of new properties falling within a given amount, the empirical rule can be beneficial with this estimation. \n",
        "\n",
        "For example, if the agent wishes to predict the probability that new properties will be above 17500 in Cambridge, the code below shows how this can be carried out."
      ],
      "metadata": {
        "id": "-XszIzS2DWRL"
      }
    },
    {
      "cell_type": "code",
      "source": [
        "mean = 13600\n",
        "SD = 1907.88\n",
        "print('68% of the new properties will fall within the range' ,(mean-SD, mean+SD))\n",
        "print(\"95% of the new properties will fall within the range\" ,(mean-2*SD, mean+2*SD))\n",
        "print('99.7% of the new properties will fall within the range' ,(mean-3*SD, mean+3*SD))"
      ],
      "metadata": {
        "id": "CaDnexJ5DlmD"
      },
      "execution_count": null,
      "outputs": []
    },
    {
      "cell_type": "markdown",
      "source": [
        "The empirical rule shows that 95% of the distribution lies within two standard deviations, in this case, from 9784.24 to 17415.76 because 17500 lies between this range. Thus, the remaining 5% of the distribution lies outside this range. One half lies above 17415.76 and the other below 9784.24. So, the probability that newly constructed properties will be higher than £17500 is 0.025 (calculated as 5% divided by two)."
      ],
      "metadata": {
        "id": "AEQZG687DmDk"
      }
    },
    {
      "cell_type": "markdown",
      "source": [
        "\n",
        "\n",
        "---\n",
        "\n",
        "The normal data distribution below shows the probabilities of how property prices will be distributed if 1000 properties are newly constructed."
      ],
      "metadata": {
        "id": "ecVfa_PbojVd"
      }
    },
    {
      "cell_type": "code",
      "source": [
        "#generating 1000 properties which will be distributed about the mean (13600) and standard deviation(1907.88).\n",
        "x=np.random.normal(13600,1907.88, 1000)\n",
        "\n",
        "#plotting the distribution\n",
        "plt.hist(x,100,color='b')\n",
        "plt.show()"
      ],
      "metadata": {
        "id": "IHk9-RkBnMAp"
      },
      "execution_count": null,
      "outputs": []
    },
    {
      "cell_type": "markdown",
      "source": [
        "From the graph, it shows that most newly constructed properties will have a price ranging from 9500 to £18000. This is because the distribution is dispersed within this range.  However, because the mean is 13600 and standard deviation is 1907.88, most of the property prices will be concentrated around a price of £13600 and rarely further away than 1907.88 from the mean. \n",
        "As seen from the chart, most prices are between £11500 and £16000, with the highest price at approximately £13500."
      ],
      "metadata": {
        "id": "697GpwLfoGPZ"
      }
    },
    {
      "cell_type": "markdown",
      "source": [
        "### ***9.3 conclusion***"
      ],
      "metadata": {
        "id": "EGxTFQ-DKbCE"
      }
    },
    {
      "cell_type": "markdown",
      "source": [
        "In conclusion, property prices in Cambridge depends mainly on the age of property, distance to nearest town centre and the tax per annum paid on property. However, unlike Boston Savin Hill and Burlington, investment in this town is likely to have few huge returns and regular small losses."
      ],
      "metadata": {
        "id": "jxF6z2cREjgg"
      }
    },
    {
      "cell_type": "markdown",
      "source": [
        "\n",
        "\n",
        "---\n",
        "\n",
        "\n",
        "\n",
        "---\n",
        "\n",
        "\n",
        "\n",
        "---\n",
        "\n"
      ],
      "metadata": {
        "id": "1aKlfMCKPHA9"
      }
    },
    {
      "cell_type": "markdown",
      "source": [
        " <a id='Eve'></a>"
      ],
      "metadata": {
        "id": "HjnKFplY6sD9"
      }
    },
    {
      "cell_type": "markdown",
      "metadata": {
        "id": "hznWFhpwIUoD"
      },
      "source": [
        "#<font color=\"blue\">10.0 Analysis of Property Prices in **Everett** With Given Parameters.\n",
        "  "
      ]
    },
    {
      "cell_type": "markdown",
      "source": [
        "This section of the report examines the last town in the local area. The code below displays only the rows and columns relating to this town."
      ],
      "metadata": {
        "id": "HnjW-Fn5i--L"
      }
    },
    {
      "cell_type": "code",
      "metadata": {
        "id": "mWZlRqVCKoIq"
      },
      "source": [
        "dataframe.iloc[14:]\n",
        "##Below is a filter of the dataframe to show rows of only Everett."
      ],
      "execution_count": null,
      "outputs": []
    },
    {
      "cell_type": "markdown",
      "source": [
        "A statistical overview of property prices in Everett will be examined with a horizontal bar chart as it will be the fundamentals upon which the detailed analysis will be made."
      ],
      "metadata": {
        "id": "7bAQfd2rjX8q"
      }
    },
    {
      "cell_type": "code",
      "source": [
        "# Using a bar chart to illustrate how prices vary in each town in Burlington\n",
        "\n",
        "#labelling each town with the respective index number\n",
        "town_index = [\"I 14\", \"I 15\",\"I 16\",\"I 15\",\"I 18\",\"I 19\",\"I 20\",]\n",
        "\n",
        "#Prices of each property in the town\n",
        "prices = dataframe.iloc[14:]['property price']\n",
        "\n",
        "#To plot town index against prices in a horizontal bar (barh)\n",
        "plt.barh(town_index, prices,color='#e04567')\n",
        "\n",
        "#labelling y axis\n",
        "plt.ylabel(\"Town Index\")\n",
        "#labelling x-axis\n",
        "plt.xlabel(\"Prices in £\")\n",
        "\n",
        "#title of bar chart.\n",
        "plt.title(\"Property Prices in Everett\")\n",
        "plt.show()\n"
      ],
      "metadata": {
        "id": "Fih9ojqqRurG"
      },
      "execution_count": null,
      "outputs": []
    },
    {
      "cell_type": "markdown",
      "source": [
        "From the horizontal bar above, the highest price is at index 14 (£22000) since it is the longest bar and the lowest price is at index 20 (£15700) which has the shortest bar. Since all the bars are above £15000, it implies that no property in Everrett from the sample is below £15000. Similarly, no property is from the sample is above £30000 since no bar exceeds that."
      ],
      "metadata": {
        "id": "_DMdE0ARTCI8"
      }
    },
    {
      "cell_type": "code",
      "source": [
        "dataframe.iloc[14:].describe()"
      ],
      "metadata": {
        "id": "Fu0vazLXjtTn"
      },
      "execution_count": null,
      "outputs": []
    },
    {
      "cell_type": "markdown",
      "source": [
        "Since interquartile range, range, outliers and variance are not shown with the describe() syntax, the code below performs it manually.\n",
        "\n"
      ],
      "metadata": {
        "id": "8v5xEhElIxdV"
      }
    },
    {
      "cell_type": "code",
      "source": [
        "Interquartile_range=(20950-18050) #upper_quartile - lower_quartile\n",
        "upper_outlier=20950+(1.5*Interquartile_range) #upper-quartile =23600\n",
        "lower_outlier=18050-(1.5*Interquartile_range) #lower_quartile = 22525\n",
        "\n",
        "#range =max_price - min_price\n",
        "range = 22000 - 15700\n",
        "\n",
        "\n",
        "\n",
        "print(lower_outlier)\n",
        "print(upper_outlier)\n",
        "print(range)\n",
        "np.var(dataframe.iloc[14:]['property price'])#variance"
      ],
      "metadata": {
        "id": "7IZKYC2vkwXW"
      },
      "execution_count": null,
      "outputs": []
    },
    {
      "cell_type": "code",
      "source": [
        "# Box plot to help with the explanation of the statistics above.\n",
        "dataframe.iloc[14:]['property price'].plot(kind='box', vert=False, figsize=(14,6),color='blue')"
      ],
      "metadata": {
        "id": "U-dDyN73l979"
      },
      "execution_count": null,
      "outputs": []
    },
    {
      "cell_type": "markdown",
      "source": [
        "From the table and boxplot above, it can be inferred that there exist no outliers in the pricing of properties in Everett. No property is unreasonably priced high(above upper outlier of 25300) or low (below lower outlier of 13700).\n",
        "\n",
        "Also from the boxplot, it is seen that the mean is closer to the upper quartiles (higher prices) than the lower quartiles. Most of the properties in this town is priced above the average is it unlikely to find a cheaper price than the mean( as seen in the filtered dataframe for Everrett that 4 properties are priced above mean)\n",
        "\n",
        "The standard deviation of 2281.60 and the variance of 4462040.82 indicate ther is a high variation in how properties are priced in this town. \n",
        "\n",
        "This variation is now analysed below in the various correlations."
      ],
      "metadata": {
        "id": "pX2SV2nonT23"
      }
    },
    {
      "cell_type": "code",
      "metadata": {
        "id": "4yQlCq5qKQ_F"
      },
      "source": [
        "#This syntax gives the correlation of property prices and given parameters in Everett\n",
        "corr_Everett=dataframe.iloc[14:].corr()\n",
        "corr_Everett.style.background_gradient(cmap='coolwarm')\n",
        "#Below is a tabular correlation between the parameters in Everett and the property price."
      ],
      "execution_count": null,
      "outputs": []
    },
    {
      "cell_type": "markdown",
      "metadata": {
        "id": "4KxND7BaL6gt"
      },
      "source": [
        "From the correlation table above,there exist no correlation between the property price and number of rooms, and number of pupils per teacher. However, property price has a very strong negative correlation between property price with age of property and a very strong positive correlation  distance to nearest town centre, and finally it has  a perfect correlation between tax per annum.\n",
        "The graphs below illustrates visually what I have explained above."
      ]
    },
    {
      "cell_type": "code",
      "source": [
        "dataframe.iloc[14:][[\"number of rooms\", \"property price\"]]\n",
        "#filter to display the columns of only number of rooms and property price"
      ],
      "metadata": {
        "id": "leVTNMCooWHD"
      },
      "execution_count": null,
      "outputs": []
    },
    {
      "cell_type": "code",
      "metadata": {
        "id": "W-mvYQkPNDuJ"
      },
      "source": [
        "dataframe.iloc[14:].plot(kind='scatter', color='black', x='property price', y='number of rooms', figsize=(6,6))\n",
        "# The graph below shows a visual correlation between the property price and number of rooms."
      ],
      "execution_count": null,
      "outputs": []
    },
    {
      "cell_type": "markdown",
      "metadata": {
        "id": "vd_JX4AyS_De"
      },
      "source": [
        "The visualisation above indicates that there is no correlation (R=0) between the property price and number of rooms in Everett even without the line of best fit drawn.<br>\n",
        " All the properties have 6 rooms but are priced differently as seen."
      ]
    },
    {
      "cell_type": "code",
      "source": [
        "dataframe.iloc[14:][[\"age of property\", \"property price\"]]\n",
        "#filter to display the columns of only age of property and property price"
      ],
      "metadata": {
        "id": "h6OY-r-GouCm"
      },
      "execution_count": null,
      "outputs": []
    },
    {
      "cell_type": "code",
      "source": [
        "\n",
        "#create scatterplot with regression line and confidence interval.\n",
        "sns.regplot(dataframe.iloc[14:]['property price'], dataframe.iloc[14:]['age of property'], color=\"green\")"
      ],
      "metadata": {
        "id": "lBoyyrDHOVKI"
      },
      "execution_count": null,
      "outputs": []
    },
    {
      "cell_type": "markdown",
      "metadata": {
        "id": "xjA3ovlSUBfY"
      },
      "source": [
        "The graph illustrates that there is a strong negative correlation (R=-0.741) between the property prices and the age of the properties. The older the property, the lower its price and vice versa. From the graph, the newest property (70 years) has the highestprice (£22000) compared to the two old properties (96 and 97 years priced £15700 and £17300 respectively."
      ]
    },
    {
      "cell_type": "code",
      "source": [
        "dataframe.iloc[14:][[\"distance to nearest town centre\", \"property price\"]]\n",
        "#filter to display the columns of only distance to nearest town centre and property price"
      ],
      "metadata": {
        "id": "u2cstw-1o8qa"
      },
      "execution_count": null,
      "outputs": []
    },
    {
      "cell_type": "code",
      "metadata": {
        "id": "wYhioJDlNQHy"
      },
      "source": [
        "\n",
        "\n",
        "#create scatterplot with regression line. The syntax ci=None means confidence interval is not shown.\n",
        "sns.regplot(dataframe.iloc[14:]['property price'], dataframe.iloc[14:]['distance to nearest town centre'], ci=None, color=\"red\")"
      ],
      "execution_count": null,
      "outputs": []
    },
    {
      "cell_type": "markdown",
      "metadata": {
        "id": "Yqu4nV8LU4nQ"
      },
      "source": [
        "The graph above shows that there is a strong positive correlation between the price of property and the distance from nearest town centre in Everett with R = 0.845. This means the closer the property to the nearest town centre, the higher its price and vice versa. It is seen from the graph that property 19 in Everett which is 1.99km away from the town centre is more expensive than properties 16 and 18 which are 2.01km,and 2.09km far from the town centre respectively."
      ]
    },
    {
      "cell_type": "code",
      "source": [
        "dataframe.iloc[14:][[\"property tax per year\", \"property price\"]]\n",
        "#filter to display the columns of only property tax per year and property price"
      ],
      "metadata": {
        "id": "SL6tkXJOpxGX"
      },
      "execution_count": null,
      "outputs": []
    },
    {
      "cell_type": "code",
      "source": [
        "\n",
        "ratio=[\"town 1\",\"town 2\",\"town 3\",\"town 4\",\"town 5\",\"town 6\",\"town 7\"]\n",
        "taxes=[413.60,381.64,385.40,325.24,353.44,402.32,295.16]\n",
        "property_price=[220.00,203.00,205.00,173.00,188.00,214.00,157.00]\n",
        "\n",
        "#plt.xlabel(\"Towns In Everett\")\n",
        "plt.plot(ratio,taxes,label='taxes')\n",
        "plt.plot(ratio,property_price,label='price')\n",
        "plt.legend(loc=5)\n",
        "plt.title(\"Multigraph showing correlation of property price and annual taxes\")\n",
        "plt.show()"
      ],
      "metadata": {
        "id": "NTprh-qsqW4o"
      },
      "execution_count": null,
      "outputs": []
    },
    {
      "cell_type": "markdown",
      "metadata": {
        "id": "2d92q4WvWRz0"
      },
      "source": [
        "The graph above indicates that there is a perfect positive correlation(R=1.00) between the property prices and the tax per annum in Everett. The higher the price of the property, the higher taxes paid on per annum and vice versa. It can be inferred from the graph that the highest priced property (£22000) is also the highest taxed property (£413.60) while the lowest priced property(£15700) is the least taxed property (£295.16)."
      ]
    },
    {
      "cell_type": "code",
      "source": [
        "dataframe.iloc[14:][[\"number of pupils per teacher\", \"property price\"]]\n",
        "#filter to display the columns of only number of pupils per teacher and property price"
      ],
      "metadata": {
        "id": "6a6SxfXbqDkk"
      },
      "execution_count": null,
      "outputs": []
    },
    {
      "cell_type": "code",
      "source": [
        "\n",
        "ratio=[\"town 1\",\"town 2\",\"town 3\",\"town 4\",\"town 5\",\"town 6\",\"town 7\"]\n",
        "students_per_tutor=[19,19,19,19,19,19,19]\n",
        "property_price=[220.00,203.00,205.00,173.00,188.00,214.00,157.00]\n",
        "\n",
        "#plt.xlabel(\"Towns In Everett\")\n",
        "plt.plot(ratio,students_per_tutor,label='student per tutor')\n",
        "plt.plot(ratio,property_price,label='price')\n",
        "plt.legend(loc=5)\n",
        "plt.title(\"Multigraph showing correlation of property price and student per tutor\")\n",
        "plt.show()"
      ],
      "metadata": {
        "id": "Yh-7XAf5r4dz"
      },
      "execution_count": null,
      "outputs": []
    },
    {
      "cell_type": "markdown",
      "metadata": {
        "id": "s9lo2nTKW3OP"
      },
      "source": [
        "The graph shows that there is zero correlation(R=0) between between property prices and number of pupils per tutor. From the graph, all the properties in Everett have the same number of pupils per tutor(19) but vary in prices.\n",
        "<br>\n",
        "The 5 correlations show that property pricing in Everett depends mainly on the age of property,distance to the nearest town centre and the tax per annum paid on property. \n",
        "<br>\n",
        "<br>\n",
        "<hr>\n",
        "\n",
        "However, to generalise the conclusion in Everett, further examination of how these prices are distributed will be conducted as seen below:"
      ]
    },
    {
      "cell_type": "markdown",
      "source": [
        "###***10.1 Analysing the property pricing distribution of Everett***"
      ],
      "metadata": {
        "id": "r28iuMQesm_l"
      }
    },
    {
      "cell_type": "markdown",
      "source": [
        "like the above towns, empirical rule will determine the type of distribution in Everett.\n",
        "\n",
        "The code below shows how this is done."
      ],
      "metadata": {
        "id": "PCu9OEGkqLRl"
      }
    },
    {
      "cell_type": "code",
      "source": [
        "# setting the values of mean and S.D.\n",
        "mean = 19428.57\n",
        "SD = 2281.60\n",
        "print('68% of the property prices fall within' ,(mean-SD, mean+SD))\n",
        "print(\"95% of the property prices fall within\" ,(mean-2*SD, mean+2*SD))\n",
        "print('99.7% of the property prices fall within' ,(mean-3*SD, mean+3*SD))"
      ],
      "metadata": {
        "id": "_vGJc4CGqKRA"
      },
      "execution_count": null,
      "outputs": []
    },
    {
      "cell_type": "markdown",
      "source": [
        "The values generated from the empirical rule shows that property prices in Everett are normally distributed since they all fall within 3 standard deviations from the mean(12583.77, 26273.37). Now, the Gaussian curve will be drawn, and its skewness and tailedness will be analysed to determine whether whether prices are scattered around the mean or not, and how profits and loss can be calculated."
      ],
      "metadata": {
        "id": "cr4etultq0XU"
      }
    },
    {
      "cell_type": "code",
      "source": [
        "#Importing necessary libraries \n",
        "import numpy as np\n",
        "import matplotlib.pyplot as plt\n",
        "from scipy.stats import norm\n",
        "\n",
        "#x-axis ranges from -85000 and 85000 with 0.5 steps on the y-axis\n",
        "x = np.arange(-85000, 85000, 0.5)\n",
        "\n",
        "#plot normal distribution with standard deviation 2281.60 and mean 19482.57\n",
        "plt.plot(x, norm.pdf(x, 2281.60 ,19482.57),color='orange', linewidth=3)"
      ],
      "metadata": {
        "id": "xkZ_E_nCs3Dg"
      },
      "execution_count": null,
      "outputs": []
    },
    {
      "cell_type": "code",
      "source": [
        "#Determining the skewness of the normal distribution\n",
        "#The argument bias=False is used to calculate the sample skewness a as opposed to the population skewness.\n",
        "from scipy.stats import skew\n",
        "skew(dataframe.iloc[14:]['property price'], bias=False)"
      ],
      "metadata": {
        "id": "cv_1RETUtVwr"
      },
      "execution_count": null,
      "outputs": []
    },
    {
      "cell_type": "code",
      "source": [
        "# Calculating the tailedness of the distribution\n",
        "#setting fisher=False in the below code does the calculation of the Pearson’s definition of kurtosis where the kurtosis value for normal distribution = 3.\n",
        "#3 is then substrated from the answer and the result will be interpreted(Larson & Farber, 2018).\n",
        "from scipy.stats import norm, kurtosis\n",
        "kurtosis(dataframe.iloc[14:]['property price'], fisher=False)"
      ],
      "metadata": {
        "id": "F10V3KbZtWIa"
      },
      "execution_count": null,
      "outputs": []
    },
    {
      "cell_type": "markdown",
      "source": [
        "\n",
        "The graph and calculation results in a negative skewness and positive tailedness(kurtosis) same as Boston Hill and Burlington. \n",
        "\n",
        "The negative skewness signifies smaller mean (19428) compared to median(20300) and the positive kurtosis means property prices are not distributed around the mean but far from it (no property has price in the range of 19000-19999 and this can be confirmed from the property price tabel relating to Everett).\n",
        "\n",
        "\n",
        "However, because Everett has the lowest skewed value (-0.69), it will generate the least returns on investment the local area. Nonetheless, if there happens to be a loss, the effect on Everett will be least compared to the other towns in the local area.\n"
      ],
      "metadata": {
        "id": "AAr6qQy_ey-C"
      }
    },
    {
      "cell_type": "markdown",
      "source": [
        "###***10.2  Estimating prices of new properties in Everett.***"
      ],
      "metadata": {
        "id": "LL0WWZQ_FJHi"
      }
    },
    {
      "cell_type": "markdown",
      "source": [
        "Now that the parameters on which price is dependent and the profit and loss levels being estimated, the empirical rule can be used to predict the probability of property price exceeding a certain amount or being below a certain amount. An example is explained below:\n",
        "\n",
        "If the estate agent wants to know that probability that newly constructed properties will be higher than £20500, the estimation can be done using the code below:"
      ],
      "metadata": {
        "id": "LqAl4IrrFUwF"
      }
    },
    {
      "cell_type": "code",
      "source": [
        "mean = 19428.57\n",
        "SD = 2281.60\n",
        "print('68% of the new properties will fall within the range' ,(mean-SD, mean+SD))\n",
        "print(\"95% of the new properties will fall within the range\" ,(mean-2*SD, mean+2*SD))\n",
        "print('99.7% of the new properties will fall within the range' ,(mean-3*SD, mean+3*SD))"
      ],
      "metadata": {
        "id": "axCkb0gbFhX5"
      },
      "execution_count": null,
      "outputs": []
    },
    {
      "cell_type": "markdown",
      "source": [
        "The empirical rule shows that 68% of the distribution lies within one standard deviation, in this case, from 17146.97 to 21710.17 because 20500 lies between this range. Thus, the remaining 32% of the distribution lies outside this range. One half lies above 21710.17 and the other below 17146.97. So, the probability that newly constructed properties will be higher than £20500 is 0.16 (calculated as 32% / 2)."
      ],
      "metadata": {
        "id": "o7AJRfw9F1K_"
      }
    },
    {
      "cell_type": "markdown",
      "source": [
        "\n",
        "\n",
        "---\n",
        "\n",
        "The normal data distribution below shows the probabilities of how property prices will be distributed if 1000 properties are newly constructed."
      ],
      "metadata": {
        "id": "B4tbeWL7qU3P"
      }
    },
    {
      "cell_type": "code",
      "source": [
        "#generating 1000 properties which will be distributed about the mean (19428.57) and standard deviation(2281.60).\n",
        "x=np.random.normal(19428.57,2281.60, 1000)\n",
        "\n",
        "#plotting the distribution\n",
        "plt.hist(x,100,color='black')\n",
        "plt.show()"
      ],
      "metadata": {
        "id": "HgIHby9_pw0z"
      },
      "execution_count": null,
      "outputs": []
    },
    {
      "cell_type": "markdown",
      "source": [
        "From the graph, it shows that newly constructed properties will have a price ranging from 12500 to £26000. This is because the distribution is concentrated within this range. However, because the mean is 19428.57 and standard deviation is 2281.60, most of the property prices will be concentrated around price of £19428 and rarely further away than 2281.60 from the mean. \n",
        "As seen from the chart, most values are between £16000 and £22000, with the top at approximately £19500."
      ],
      "metadata": {
        "id": "wJ9482XlqGaR"
      }
    },
    {
      "cell_type": "markdown",
      "source": [
        "### ***10.3 conclusion***"
      ],
      "metadata": {
        "id": "MbrwqlnUJj7O"
      }
    },
    {
      "cell_type": "markdown",
      "source": [
        "In summary, property pricing in Everett depends mainly on the age of property,distance to the nearest town centre and the tax per annum paid on property. Moreover, like Boston Hill and Burlington, investment in this town is likely to have many small returns and irregular huge losses."
      ],
      "metadata": {
        "id": "uNMNnOePJwQp"
      }
    },
    {
      "cell_type": "markdown",
      "source": [
        "<hr class=\"rounded\">\n",
        "<hr class=\"rounded\">\n",
        "<hr class=\"rounded\">"
      ],
      "metadata": {
        "id": "7ng2rx4bZl7e"
      }
    },
    {
      "cell_type": "markdown",
      "source": [
        " <a id='Con'></a>"
      ],
      "metadata": {
        "id": "4fLjQFTP6zsO"
      }
    },
    {
      "cell_type": "markdown",
      "source": [
        "#<font color=\"black\">11.0 General Summary, Conclusion and Recommendation\n",
        "\n",
        "  "
      ],
      "metadata": {
        "id": "TC-J5WQqhhCP"
      }
    },
    {
      "cell_type": "markdown",
      "source": [
        "Below is a pie chart to serve as an overview for visual representation of the overall 21 property prices in the local area."
      ],
      "metadata": {
        "id": "pxSSsBYLVEdX"
      }
    },
    {
      "cell_type": "code",
      "source": [
        "property_price=dataframe['property price']\n",
        "#labelling the wedges of the pie chart\n",
        "lab=['T0','T1','T2','T3','T4','T5','T6','T7','T8','T9','T10',\n",
        "     'T11','T12','T13','T14','T15', 'T16', 'T17','T18','T19','T20']\n",
        "\n",
        "# To let the higest and lowest property prices stand out,.\n",
        "myexplode = [0, 0, 0, 0, 0, 0.9,0, 0.9, 0, 0, 0, 0, 0, 0, 0, 0, 0, 0, 0, 0 ,0]\n",
        "\n",
        "#plotting the pie chart\n",
        "plt.pie(property_price, labels=lab,explode=myexplode,autopct='%1.1f')\n",
        "plt.show"
      ],
      "metadata": {
        "id": "BNNPMnYeK3Pn"
      },
      "execution_count": null,
      "outputs": []
    },
    {
      "cell_type": "markdown",
      "source": [
        "From the chart, there is a total of 21 properties in the local area with the lowest property price (£8400) located in Boston Savin Hill(town index 5) which males up a 2.4% of the total property prices and the highest property price (£24200) in Burlington (town index 7) with 7.0% share of total property prices. \n",
        "\n",
        "\n",
        "---\n"
      ],
      "metadata": {
        "id": "wC-ZhJfJSF86"
      }
    },
    {
      "cell_type": "markdown",
      "source": [
        "Frequency Density to show how prices were distributed."
      ],
      "metadata": {
        "id": "rpSwy1RdVOhf"
      }
    },
    {
      "cell_type": "code",
      "source": [
        "ax=dataframe['property price'].plot(kind='hist', color='#ffbb00', figsize=(14,8))\n",
        "ax.axvline(dataframe['property price'].mean(),color='red')\n",
        "ax.axvline(dataframe['property price'].median(),color='green')"
      ],
      "metadata": {
        "id": "sfSLOI5FxGuR"
      },
      "execution_count": null,
      "outputs": []
    },
    {
      "cell_type": "markdown",
      "source": [
        "The frequency density above indicates that none of the properties in the local area was priced less than £8000 or above £25000. Also, the density shows that most properties were priced within the range of £12000 and £24500. Additionally, the mean and median (represented by red and green lines respectively) are centered around a common value, 15800 - 16600.\n",
        "\n",
        "Nonetheless, to make detailed comment on the measures of central tendency and to determine whether there exist outliers or not, the boxplot below will assist with that analysis."
      ],
      "metadata": {
        "id": "0oXmQGu9smAZ"
      }
    },
    {
      "cell_type": "code",
      "source": [
        "#statistical summary of all property prices in the local area\n",
        "dataframe['property price'].describe()\n"
      ],
      "metadata": {
        "id": "HkPx_ZvHQCf6"
      },
      "execution_count": null,
      "outputs": []
    },
    {
      "cell_type": "code",
      "source": [
        "my_data['property price'].plot(kind='box', vert=False, figsize=(14,6))"
      ],
      "metadata": {
        "id": "J1dBU8NJQAOK"
      },
      "execution_count": null,
      "outputs": []
    },
    {
      "cell_type": "markdown",
      "source": [
        "From the boxplot, the median price of all the properties (15700) is closer to the lower quartile than the upper closer which implies most of the properties are priced below the median in the local area. Moreover, there exist no outliers in the pricing system in this local area , this altogether make the local area an ideal one for an estate agent to venture in. \n",
        "\n",
        "However, the standard deviation of 5111.60 indicates that properties in the different towns of the local area are priced differently therefore prices of properties in the various towns are dependent on separate parameters which must be taken into consideration before venturing into it.\n",
        "\n",
        "These are summaried below: "
      ],
      "metadata": {
        "id": "bla4tiu7TLmq"
      }
    },
    {
      "cell_type": "markdown",
      "source": [
        "**11.1 Summary and Conclusion:**\n",
        "\n",
        "Conclusively, the analysis of the local area indicated that there is no way an estate investor can escape taxes as all the towns have a perfect positive correlation with taxes per year. Also, the number of pupils per tutor and number of rooms has no significant impact on the property price in any of the towns. This narrows the focus of property price dependency on only age of propert and distance to nearest town centre.\n",
        "\n",
        "**In Boston Savin Hill**, the distance to the nearest town centre is the main parameter on which price is determined and investment in this town is likely to yield many small wins and a few large losses. \n",
        "\n",
        "**In Burlington,** the age of properties is the main parameter to determine property prices. Price of properties has an inverse relationship with age of properties, the older the property, the cheaper its price and vice versa. Like Boston Hill, investment in this town is likely to yield many small wins and a few large losses.\n",
        "\n",
        "Regarding **Cambridge**, property prices depends on both mainly on age of properties and moderately on distance to nearest the nearest town centre. However, unlike Burlington, older properties are valuable than newer properties meaning Cambridge is a conservative town and cherish antiquity. Finally, investment in this Cambridge is likely to generate few large wins and many small losses. \n",
        "\n",
        "Lastly, **in Everett**, distance is the main determinant of property prices and age also determines prices moderately. This town is most likely to generate least return upon investment.\n",
        "\n",
        "**11.2 Recommendation:**\n",
        "\n",
        "Since the aim of every business, and for that matter an estate agent, is to make profit, Cambridge is the most preferred town to invest in as it yields the biggest profit. Although it is likely to incurr frequent losses, these losses are small and can be compensated by the large profits which will be made.\n",
        "\n",
        "However, if distance is a sensitive aspect for the estate agent, then Everett and Boston Hill are other alternative towns other than Cambridge.\n",
        "\n",
        "Nonetheless, if the agency's priority is newer properties, then Everett and Burlington will be the best options. Otherwise, if older properties is the priority, then Cambridge.\n",
        "\n",
        "\n",
        "\n"
      ],
      "metadata": {
        "id": "papvOrDihn9V"
      }
    },
    {
      "cell_type": "markdown",
      "source": [
        "<hr class=\"rounded\">\n",
        "<hr class=\"rounded\">\n",
        "<hr class=\"rounded\">"
      ],
      "metadata": {
        "id": "HVtJpGr5ZqZQ"
      }
    },
    {
      "cell_type": "markdown",
      "source": [
        "<a id='Ref'></a>"
      ],
      "metadata": {
        "id": "Ojsi_zeX6404"
      }
    },
    {
      "cell_type": "markdown",
      "source": [
        "# <font color=\"black\">12.0 Reference\n"
      ],
      "metadata": {
        "id": "_nzs1OADb8YV"
      }
    },
    {
      "cell_type": "markdown",
      "source": [
        "* Agresti, A., Franklin, C. A. & Klingenberg, B., (2017). The art and science of learning from data. 4th ed. Harlow, Essex: Pearson Education.\n",
        "* Attieku, E., (2009). *Ghana Association of Business Education Teachers*. 3rd ed. Accra: Smartline Publications.\n",
        "\n",
        "* Crossman, A., (2019). *ThoughtCo: What is Normal Distribution?*[Online]<br> Available at: https://www.thoughtco.com/what-is-normal-distribution-3026707<br>\n",
        "[Accessed 22 December 2021].\n",
        "\n",
        "* \tDefranzo, S. E., (2020). *SnapSurvey*. [Online] <br>\n",
        "Available at: https://www.snapsurveys.com/blog/qualitative-vs-quantitative-research/ <br>\n",
        "[Accessed 21 December 2021].\n",
        "\n",
        "* Gabriel, D., (2013). *Leader in Race, Education and Social Justice*. [Online] <br>\n",
        "Available at: https://deborahgabriel.com/2013/03/17/inductive-and-deductive-approaches-to-research/<br>\n",
        "[Accessed 21 December 2021].\n",
        "\n",
        "* GeeksForGeeks, (2018). *GeeksForGeels.* [Online] <br>\n",
        "Available at: https://www.geeksforgeeks.org/numpy-loadtxt-in-python/#:~:text=delimiter%20%3A%20The%20string%20used%20to%20separate%20values.,is%20a%20date%20string%3A%20converters%20%3D%20%7B0%3A%20datestr2num%7D.<br>\n",
        "[Accessed 23 December 2021].\n",
        "\n",
        "* Larson, R. & Farber, B., (2018). *Elementary Statistics*. 7th ed. s.l.:Pearson Publication.\n",
        "\n",
        "* Ross, S. M., (2021). *Introduction to probability and statistics for engineers and scientists*. 6th ed. London: Academic Press.\n",
        "* Taylor, S., (2019). ThoughtCo: What is range in statistics. [Online]<br>\n",
        "Available at: https://www.thoughtco.com/what-is-the-range-in-statistics-3126248 <br>\n",
        "[Accessed 23 December 2021].\n",
        "\n",
        "* Zach, (2020). *Statistics Simplified: Statology* [Online]<br>\n",
        "Available at: https://www.statology.org/density-curves/ <br>\n",
        "[Accessed 23 December 2021].\n",
        "\n",
        "\n"
      ],
      "metadata": {
        "id": "p_5xRHB8cH6a"
      }
    },
    {
      "cell_type": "markdown",
      "source": [
        "<hr class=\"rounded\">\n",
        "<hr class=\"rounded\">\n",
        "<hr class=\"rounded\">"
      ],
      "metadata": {
        "id": "OFgk7b_MZtq5"
      }
    },
    {
      "cell_type": "markdown",
      "source": [
        "<a id='Bib'></a>"
      ],
      "metadata": {
        "id": "ys4MjsS97zE7"
      }
    },
    {
      "cell_type": "markdown",
      "source": [
        "# **Bibliography**"
      ],
      "metadata": {
        "id": "w5UV5i7Jmeu4"
      }
    },
    {
      "cell_type": "markdown",
      "source": [
        "* Agresti, A., Franklin, C. A. & Klingenberg, B., (2017). *The art and science of learning from data*. 4th ed. Harlow, Essex: Pearson Education.\n",
        "\n",
        "* Altman, D., Machin, D., Bryant, T. and Gardner, M. eds., (2013). *Statistics with confidence: confidence intervals and statistical guidelines.* John Wiley & Sons.\n",
        "\n",
        "* An, A. and Cercone, N., (1999). *An empirical study on rule quality measures. In International Workshop on Rough Sets, Fuzzy Sets, Data Mining, and Granular-Soft Computing* (pp. 482-491). Springer, Berlin, Heidelberg.\n",
        "\n",
        "* Aseidu, P.,(2012). *Elective Mathematics.* 3rd ed. Accra, Powerline Publication.\n",
        "\n",
        "* Attieku, E., (2009).* Ghana Association of Business Education Teachers*. 3rd ed. Accra: Smartline Publications.\n",
        "\n",
        "* Crossman, A., (2019). *ThoughtCo: What is Normal Distribution?*[Online]<br>\n",
        "Available at: https://www.thoughtco.com/what-is-normal-distribution-3026707 <br>\n",
        "[Accessed 22 December 2021].\n",
        "\n",
        "* Defranzo, S. E., (2020). *SnapSurvey*. [Online]<br>\n",
        "Available at: https://www.snapsurveys.com/blog/qualitative-vs-quantitative-research/ <br>\n",
        "[Accessed 21 December 2021].\n",
        "\n",
        "\n",
        "* FreecodeCamp, 2020. *Data Analysis with Python - Full Course for Beginners (Numpy, Pandas, Matplotlib, Seaborn),* s.l.: FreecodeCamp.\n",
        "\n",
        "\n",
        "\n",
        "* Gabriel, D., (2013). *Leader in Race, Education and Social Justice.* [Online]<br>\n",
        "Available at: https://deborahgabriel.com/2013/03/17/inductive-and-deductive-approaches-to-research/ <br>\n",
        "[Accessed 21 December 2021].\n",
        "\n",
        "* GeeksForGeeks, (2018). *GeeksForGeels.* [Online]<br>\n",
        "Available at: https://www.geeksforgeeks.org/numpy-loadtxt-in-python/#:~:text=delimiter%20%3A%20The%20string%20used%20to%20separate%20values.,is%20a%20date%20string%3A%20converters%20%3D%20%7B0%3A%20datestr2num%7D. <br>\n",
        "[Accessed 23 December 2021].\n",
        "\n",
        "* Larson, R. & Farber, B., (2018). *Elementary Statistics.* 7th ed. s.l.:Pearson Publication.\n",
        "\n",
        "* Patel, J.K. and Read, C.B., (1996). *Handbook of the normal distribution *(Vol. 150). CRC Press.\n",
        "\n",
        "* Ross, S. M., (2021). *Introduction to probability and statistics for engineers and scientists.* 6th ed. London: Academic Press.\n",
        "\n",
        "* Taylor, S., (2019). ThoughtCo: What is range in statistics. [Online]<br>\n",
        "Available at: https://www.thoughtco.com/what-is-the-range-in-statistics-3126248 <br>\n",
        "[Accessed 23 December 2021].\n",
        "\n",
        "* Warren, R.M., (1969). *Visual intensity judgments: An empirical rule and a theory*. Psychological Review, 76(1), p.16.\n",
        "\n",
        "* Weisstein, E.W., (2002). *Normal distribution.* https://mathworld.wolfram.com/.\n",
        "\n",
        "* W3schools, Anon., (2017). *Statistics: Normal Distribution.* [Online]<br>\n",
        "Available at: https://www.w3schools.com/statistics/statistics_normal_distribution.php <br>\n",
        "[Accessed 20 December 2021]\n",
        "\n",
        "* Zach, (2020). *Statistics Simplified: Statology* [Online]<br>\n",
        "Available at: https://www.statology.org/density-curves/ <br>\n",
        "[Accessed 23 December 2021].\n",
        "---\n",
        "---\n",
        "---\n"
      ],
      "metadata": {
        "id": "xWbwX7rZmmfU"
      }
    },
    {
      "cell_type": "markdown",
      "source": [
        "<a id='App'></a>"
      ],
      "metadata": {
        "id": "WhJhz63q7sl7"
      }
    },
    {
      "cell_type": "markdown",
      "source": [
        "# **APPENDICE**"
      ],
      "metadata": {
        "id": "2ed4SCdP63xO"
      }
    },
    {
      "cell_type": "markdown",
      "source": [
        "## definition of key terms"
      ],
      "metadata": {
        "id": "lzAE7_P47Nxj"
      }
    },
    {
      "cell_type": "markdown",
      "source": [
        "The following are the key terms frequently used in this report:\n",
        "\n",
        "\n",
        "\n",
        "**3.1    Parameters:** This refers to the properties of each town on which property price is either dependent or not. These parameters are number of rooms, age of property, tax per year, number of pupils per tutor and distance from nearest town centre.\n",
        "\n",
        "**3.2   Estate Agent :** According to Attieku(2009), an estate agent is an individual or organisation that arranges the selling, renting, or management of properties and other buildings.\n",
        "\n",
        "**3.3 Normal Distribution :** A normal distribution of data is one in which the majority of data points are relatively similar, meaning they occur within a small range of values with fewer outliers on the high and low ends of the data range.\n",
        "(Crossman, 2019).\n",
        "\n",
        "**Correlation Coefficient**\n",
        "\n",
        "\n",
        "**3.4 Empirical Rule :** The empirical rule or three sigma rule predicts that 68% of observations falls within the first standard deviation (µ ± σ), 95% within the first two standard deviations (µ ± 2σ), and 99.7% within the first three standard deviations (µ ± 3σ)<br>\n",
        "(Ross, 2021).\n",
        "\n",
        "\n",
        "**3.5 Confidence interval :**  A confidence interval is a range of values, bounded above and below the statistic's mean, that likely would contain an unknown population parameter. It also refers to the probability that a population parameter will fall between a set of values for a certain proportion of times.\n",
        "(Agresti, et al., 2017)\n",
        "\n",
        "**3.6 Index/ Town index :** These are the numbers which will serve as denotations for each town in a particular village.\n",
        "\n",
        "**3.7 Population and Sample:** A population is the entire group that a researcher wants to draw conclusions about. On the other hand, a sample is the specific group from the population that data is generated from. The size of the sample is always less than the total size of the population.\n"
      ],
      "metadata": {
        "id": "mj-xp0s069cQ"
      }
    }
  ]
}